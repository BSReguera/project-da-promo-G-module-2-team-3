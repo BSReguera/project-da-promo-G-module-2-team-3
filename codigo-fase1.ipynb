{
 "cells": [
  {
   "cell_type": "code",
   "execution_count": null,
   "metadata": {},
   "outputs": [],
   "source": [
    "d_salida = {}\n",
    "\n",
    "# creadlo UNA VEZ y no volváis a definirlo para que no se resetee"
   ]
  },
  {
   "cell_type": "code",
   "execution_count": null,
   "metadata": {},
   "outputs": [],
   "source": [
    "def llamar_api(inicio, final, genero, tipo d_salida):\n",
    "\n",
    "\tfor year in range(inicio, (final+1)):\n",
    "\t\tpor_anio = {f'{year}': []}\n",
    "\n",
    "\t\tfor page in range(1,51):\n",
    "\t\t\turl = \"https://moviesdatabase.p.rapidapi.com/titles\"\n",
    "\n",
    "\t\t\tquerystring = {\"genre\": f\"{genero.capitalize()}\", \"year\":f\"{year}\",\"page\":f\"{page}\", 'titleType' : f\"{tipo}\"}\n",
    "\n",
    "\t\t\theaders = {\n",
    "\t\t\t\t\"X-RapidAPI-Key\": \"902358e2e8msh3d16b2ef47d6b52p1fc5dajsnb0a5bd959614\",\n",
    "\t\t\t\t\"X-RapidAPI-Host\": \"moviesdatabase.p.rapidapi.com\"\n",
    "\t\t\t}\n",
    "\n",
    "\t\t\tresponse = requests.get(url, headers=headers, params=querystring)\n",
    "\t\t\tpeliculas = response.json()\n",
    "\t\t\tprint(f'Año: {year}. Página: {page}. Estatus: {response.status_code}')\n",
    "\n",
    "\t\t\tfor pelicula in peliculas['results']:\n",
    "\t\t\t\tpor_anio[f'{year}'].append(pelicula)\n",
    "\t\n",
    "\t\td_salida.update(por_anio)"
   ]
  },
  {
   "cell_type": "code",
   "execution_count": null,
   "metadata": {},
   "outputs": [],
   "source": [
    "with open('NombreArchivo.json', 'w') as fichero:\n",
    "    json.dump(d_salida, fichero)\n",
    "\n",
    "# OJO: si lo hacéis en momentos diferentes, tenéis que crear OTRO JSON y después unirlos; el json solo tiene dentro lo que hay en la variable\n",
    "# ES DECIR: no se appendea lo nuevo al anterior json, sino que lo reescribe\n",
    "# Por eso es importante que no se resetee el d_salida"
   ]
  },
  {
   "cell_type": "code",
   "execution_count": null,
   "metadata": {},
   "outputs": [],
   "source": [
    "with open('NombreArchivo.json', 'r') as fichero:\n",
    "    d_origen = json.load(fichero)"
   ]
  },
  {
   "cell_type": "code",
   "execution_count": null,
   "metadata": {},
   "outputs": [],
   "source": [
    "def criba_generos(d_origen, d_salida_criba_generos, inicio, final):\n",
    "\n",
    "    for year in range(inicio, (final+1)):\n",
    "        limpio_por_year = {f'{year}': []}\n",
    "\n",
    "        for i in d_origen[f'{year}']:\n",
    "            if i['titleType']['id'] == 'movie':\n",
    "                limpio_por_year[f'{year}'].append(i)\n",
    "            elif i['titleType']['id'] == 'short':\n",
    "                limpio_por_year[f'{year}'].append(i)\n",
    "            else:\n",
    "                continue\n",
    "        \n",
    "        d_salida_criba_generos.update(limpio_por_year)"
   ]
  },
  {
   "cell_type": "code",
   "execution_count": null,
   "metadata": {},
   "outputs": [],
   "source": [
    "with open('NombreArchivoLimpio.json', 'w') as fichero:\n",
    "    json.dump(d_salida_criba_generos, fichero)"
   ]
  },
  {
   "cell_type": "code",
   "execution_count": null,
   "metadata": {},
   "outputs": [],
   "source": [
    "def lista_tuplas(origen, inicio, final, genero):\n",
    "    lista_datos = []\n",
    "    for year in range(inicio, (final+1)):\n",
    "        \n",
    "        for i in origen[f'{year}']:\n",
    "            tupla_pelicula = []\n",
    "            try:\n",
    "                tupla_pelicula.append(i['id'])\n",
    "                tupla_pelicula.append(genero)\n",
    "                tupla_pelicula.append(i[\"titleText\"]['text'])\n",
    "                tupla_pelicula.append(i['titleType']['id'])\n",
    "                try:\n",
    "                    tupla_pelicula.append(i['releaseDate']['year'])\n",
    "                except:\n",
    "                    tupla_pelicula.append('desconocido')\n",
    "                try:\n",
    "                    tupla_pelicula.append(i['releaseDate']['month'])\n",
    "                except:\n",
    "                    tupla_pelicula.append('desconocido')\n",
    "                \n",
    "            except:\n",
    "                continue\n",
    "                \n",
    "        \n",
    "            lista_datos.append(tuple(tupla_pelicula))\n",
    "\n",
    "    for i in lista_datos:\n",
    "        try:\n",
    "            if i[3] < 2000:\n",
    "                lista_datos.remove(i)\n",
    "            \n",
    "            elif i[3] == 'desconocido':\n",
    "                lista_datos.remove(i)\n",
    "        except:\n",
    "            continue\n",
    "\n",
    "    return lista_datos"
   ]
  },
  {
   "cell_type": "code",
   "execution_count": null,
   "metadata": {},
   "outputs": [],
   "source": [
    "# cuando queráis hacer esta última función:\n",
    "\n",
    "variable = lista_tuplas()"
   ]
  },
  {
   "cell_type": "code",
   "execution_count": null,
   "metadata": {},
   "outputs": [],
   "source": [
    "df = pd.DataFrame(variable)\n",
    "\n",
    "df.to_csv('NombreArchivo.csv', index=False)\n",
    "# Index=False es para que no se cree la columna esa Unnamed 0"
   ]
  }
 ],
 "metadata": {
  "language_info": {
   "name": "python"
  }
 },
 "nbformat": 4,
 "nbformat_minor": 2
}
