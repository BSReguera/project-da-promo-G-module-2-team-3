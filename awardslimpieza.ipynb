{
 "cells": [
  {
   "cell_type": "markdown",
   "metadata": {},
   "source": [
    "# CODIGO UNION ARCHIVOS ROTTEM GENEROS - ACCION"
   ]
  },
  {
   "cell_type": "code",
   "execution_count": 2,
   "metadata": {},
   "outputs": [],
   "source": [
    "# Importaciones necesarias\n",
    "import pandas as pd"
   ]
  },
  {
   "cell_type": "code",
   "execution_count": 6,
   "metadata": {},
   "outputs": [],
   "source": [
    "# Lee los tres archivos CSV en DataFrames\n",
    "df1 = pd.read_csv('2actores_awards_bbdd.csv')\n",
    "df2 = pd.read_csv('3actores_awards_bbdd.csv')\n",
    "df3 = pd.read_csv('actores_awards_bbdd_sindupli.csv')\n",
    "\n",
    "# Combina los DataFrames en uno solo\n",
    "df_rotten_accion = pd.concat([df1, df2, df3], ignore_index=True)"
   ]
  },
  {
   "cell_type": "code",
   "execution_count": 7,
   "metadata": {},
   "outputs": [],
   "source": [
    "# Guarda el DataFrame combinado en un nuevo archivo CSV\n",
    "df_rotten_accion.to_csv('actores_awards_completo.csv', index=False)"
   ]
  },
  {
   "cell_type": "markdown",
   "metadata": {},
   "source": [
    "# ELIMINACION DE DUPLICADOS POR GENEROS DE ROTTEM "
   ]
  },
  {
   "cell_type": "code",
   "execution_count": 4,
   "metadata": {},
   "outputs": [],
   "source": [
    "# AWARDS\n",
    "\n",
    "# Leer el archivo CSV\n",
    "df = pd.read_csv('actores_awards_completo.csv')\n",
    "\n",
    "# Eliminar duplicados basados en todas las columnas\n",
    "df_sin_duplicados = df.drop_duplicates()\n",
    "\n",
    "# Guardar el DataFrame sin duplicados en un nuevo archivo CSV\n",
    "df_sin_duplicados.to_csv('actores_awards_completo_sin_duplicados.csv', index=False)"
   ]
  },
  {
   "cell_type": "markdown",
   "metadata": {},
   "source": [
    "ELIMINAR LA PRIMERA COLUMNA"
   ]
  },
  {
   "cell_type": "code",
   "execution_count": 3,
   "metadata": {},
   "outputs": [],
   "source": [
    "actores_premios = pd.read_csv('actores_awards_completo_sin_duplicados.csv')"
   ]
  },
  {
   "cell_type": "code",
   "execution_count": 4,
   "metadata": {},
   "outputs": [],
   "source": [
    "Tabla_premios = actores_premios.rename(columns={'0':'id_actor','1':'premio'})"
   ]
  },
  {
   "cell_type": "code",
   "execution_count": 5,
   "metadata": {},
   "outputs": [
    {
     "data": {
      "text/html": [
       "<div>\n",
       "<style scoped>\n",
       "    .dataframe tbody tr th:only-of-type {\n",
       "        vertical-align: middle;\n",
       "    }\n",
       "\n",
       "    .dataframe tbody tr th {\n",
       "        vertical-align: top;\n",
       "    }\n",
       "\n",
       "    .dataframe thead th {\n",
       "        text-align: right;\n",
       "    }\n",
       "</style>\n",
       "<table border=\"1\" class=\"dataframe\">\n",
       "  <thead>\n",
       "    <tr style=\"text-align: right;\">\n",
       "      <th></th>\n",
       "      <th>Unnamed: 0</th>\n",
       "      <th>id_actor</th>\n",
       "      <th>premio</th>\n",
       "    </tr>\n",
       "  </thead>\n",
       "  <tbody>\n",
       "    <tr>\n",
       "      <th>0</th>\n",
       "      <td>0</td>\n",
       "      <td>nm0001118</td>\n",
       "      <td>People's Choice Awards, USA, People's Choice A...</td>\n",
       "    </tr>\n",
       "    <tr>\n",
       "      <th>1</th>\n",
       "      <td>1</td>\n",
       "      <td>nm0001118</td>\n",
       "      <td>People's Choice Awards, USA, People's Choice A...</td>\n",
       "    </tr>\n",
       "    <tr>\n",
       "      <th>2</th>\n",
       "      <td>2</td>\n",
       "      <td>nm0001118</td>\n",
       "      <td>Photoplay Awards, Gold Medal</td>\n",
       "    </tr>\n",
       "    <tr>\n",
       "      <th>3</th>\n",
       "      <td>3</td>\n",
       "      <td>nm0005286</td>\n",
       "      <td>Academy of Science Fiction, Fantasy &amp; Horror F...</td>\n",
       "    </tr>\n",
       "    <tr>\n",
       "      <th>4</th>\n",
       "      <td>4</td>\n",
       "      <td>nm0005286</td>\n",
       "      <td>Academy of Science Fiction, Fantasy &amp; Horror F...</td>\n",
       "    </tr>\n",
       "    <tr>\n",
       "      <th>...</th>\n",
       "      <td>...</td>\n",
       "      <td>...</td>\n",
       "      <td>...</td>\n",
       "    </tr>\n",
       "    <tr>\n",
       "      <th>41551</th>\n",
       "      <td>2182</td>\n",
       "      <td>nm0605080</td>\n",
       "      <td>Ft. Lauderdale International Film Festival, Pr...</td>\n",
       "    </tr>\n",
       "    <tr>\n",
       "      <th>41552</th>\n",
       "      <td>2183</td>\n",
       "      <td>nm0605080</td>\n",
       "      <td>Film Independent Spirit Awards, Special Distin...</td>\n",
       "    </tr>\n",
       "    <tr>\n",
       "      <th>41553</th>\n",
       "      <td>2184</td>\n",
       "      <td>nm0605080</td>\n",
       "      <td>Hang Onto Your Shorts Film Festival, NJ, Best ...</td>\n",
       "    </tr>\n",
       "    <tr>\n",
       "      <th>41554</th>\n",
       "      <td>2185</td>\n",
       "      <td>nm0605080</td>\n",
       "      <td>Gold Movie Awards, January Award</td>\n",
       "    </tr>\n",
       "    <tr>\n",
       "      <th>41555</th>\n",
       "      <td>2186</td>\n",
       "      <td>nm0605080</td>\n",
       "      <td>Independent Shorts Awards, Platinum Award</td>\n",
       "    </tr>\n",
       "  </tbody>\n",
       "</table>\n",
       "<p>41556 rows × 3 columns</p>\n",
       "</div>"
      ],
      "text/plain": [
       "       Unnamed: 0   id_actor  \\\n",
       "0               0  nm0001118   \n",
       "1               1  nm0001118   \n",
       "2               2  nm0001118   \n",
       "3               3  nm0005286   \n",
       "4               4  nm0005286   \n",
       "...           ...        ...   \n",
       "41551        2182  nm0605080   \n",
       "41552        2183  nm0605080   \n",
       "41553        2184  nm0605080   \n",
       "41554        2185  nm0605080   \n",
       "41555        2186  nm0605080   \n",
       "\n",
       "                                                  premio  \n",
       "0      People's Choice Awards, USA, People's Choice A...  \n",
       "1      People's Choice Awards, USA, People's Choice A...  \n",
       "2                           Photoplay Awards, Gold Medal  \n",
       "3      Academy of Science Fiction, Fantasy & Horror F...  \n",
       "4      Academy of Science Fiction, Fantasy & Horror F...  \n",
       "...                                                  ...  \n",
       "41551  Ft. Lauderdale International Film Festival, Pr...  \n",
       "41552  Film Independent Spirit Awards, Special Distin...  \n",
       "41553  Hang Onto Your Shorts Film Festival, NJ, Best ...  \n",
       "41554                   Gold Movie Awards, January Award  \n",
       "41555          Independent Shorts Awards, Platinum Award  \n",
       "\n",
       "[41556 rows x 3 columns]"
      ]
     },
     "execution_count": 5,
     "metadata": {},
     "output_type": "execute_result"
    }
   ],
   "source": [
    "Tabla_premios"
   ]
  },
  {
   "cell_type": "code",
   "execution_count": 11,
   "metadata": {},
   "outputs": [
    {
     "data": {
      "text/plain": [
       "Index(['Unnamed: 0', 'id_actor', 'premio'], dtype='object')"
      ]
     },
     "execution_count": 11,
     "metadata": {},
     "output_type": "execute_result"
    }
   ],
   "source": [
    "Tabla_premios.columns"
   ]
  },
  {
   "cell_type": "code",
   "execution_count": 12,
   "metadata": {},
   "outputs": [],
   "source": [
    "# Eliminar la columna 'B' del DataFrame\n",
    "df_Tabla_premios = Tabla_premios.drop('Unnamed: 0', axis=1)\n"
   ]
  },
  {
   "cell_type": "code",
   "execution_count": 14,
   "metadata": {},
   "outputs": [
    {
     "data": {
      "text/html": [
       "<div>\n",
       "<style scoped>\n",
       "    .dataframe tbody tr th:only-of-type {\n",
       "        vertical-align: middle;\n",
       "    }\n",
       "\n",
       "    .dataframe tbody tr th {\n",
       "        vertical-align: top;\n",
       "    }\n",
       "\n",
       "    .dataframe thead th {\n",
       "        text-align: right;\n",
       "    }\n",
       "</style>\n",
       "<table border=\"1\" class=\"dataframe\">\n",
       "  <thead>\n",
       "    <tr style=\"text-align: right;\">\n",
       "      <th></th>\n",
       "      <th>id_actor</th>\n",
       "      <th>premio</th>\n",
       "    </tr>\n",
       "  </thead>\n",
       "  <tbody>\n",
       "    <tr>\n",
       "      <th>0</th>\n",
       "      <td>nm0001118</td>\n",
       "      <td>People's Choice Awards, USA, People's Choice A...</td>\n",
       "    </tr>\n",
       "    <tr>\n",
       "      <th>1</th>\n",
       "      <td>nm0001118</td>\n",
       "      <td>People's Choice Awards, USA, People's Choice A...</td>\n",
       "    </tr>\n",
       "    <tr>\n",
       "      <th>2</th>\n",
       "      <td>nm0001118</td>\n",
       "      <td>Photoplay Awards, Gold Medal</td>\n",
       "    </tr>\n",
       "    <tr>\n",
       "      <th>3</th>\n",
       "      <td>nm0005286</td>\n",
       "      <td>Academy of Science Fiction, Fantasy &amp; Horror F...</td>\n",
       "    </tr>\n",
       "    <tr>\n",
       "      <th>4</th>\n",
       "      <td>nm0005286</td>\n",
       "      <td>Academy of Science Fiction, Fantasy &amp; Horror F...</td>\n",
       "    </tr>\n",
       "    <tr>\n",
       "      <th>...</th>\n",
       "      <td>...</td>\n",
       "      <td>...</td>\n",
       "    </tr>\n",
       "    <tr>\n",
       "      <th>41551</th>\n",
       "      <td>nm0605080</td>\n",
       "      <td>Ft. Lauderdale International Film Festival, Pr...</td>\n",
       "    </tr>\n",
       "    <tr>\n",
       "      <th>41552</th>\n",
       "      <td>nm0605080</td>\n",
       "      <td>Film Independent Spirit Awards, Special Distin...</td>\n",
       "    </tr>\n",
       "    <tr>\n",
       "      <th>41553</th>\n",
       "      <td>nm0605080</td>\n",
       "      <td>Hang Onto Your Shorts Film Festival, NJ, Best ...</td>\n",
       "    </tr>\n",
       "    <tr>\n",
       "      <th>41554</th>\n",
       "      <td>nm0605080</td>\n",
       "      <td>Gold Movie Awards, January Award</td>\n",
       "    </tr>\n",
       "    <tr>\n",
       "      <th>41555</th>\n",
       "      <td>nm0605080</td>\n",
       "      <td>Independent Shorts Awards, Platinum Award</td>\n",
       "    </tr>\n",
       "  </tbody>\n",
       "</table>\n",
       "<p>41556 rows × 2 columns</p>\n",
       "</div>"
      ],
      "text/plain": [
       "        id_actor                                             premio\n",
       "0      nm0001118  People's Choice Awards, USA, People's Choice A...\n",
       "1      nm0001118  People's Choice Awards, USA, People's Choice A...\n",
       "2      nm0001118                       Photoplay Awards, Gold Medal\n",
       "3      nm0005286  Academy of Science Fiction, Fantasy & Horror F...\n",
       "4      nm0005286  Academy of Science Fiction, Fantasy & Horror F...\n",
       "...          ...                                                ...\n",
       "41551  nm0605080  Ft. Lauderdale International Film Festival, Pr...\n",
       "41552  nm0605080  Film Independent Spirit Awards, Special Distin...\n",
       "41553  nm0605080  Hang Onto Your Shorts Film Festival, NJ, Best ...\n",
       "41554  nm0605080                   Gold Movie Awards, January Award\n",
       "41555  nm0605080          Independent Shorts Awards, Platinum Award\n",
       "\n",
       "[41556 rows x 2 columns]"
      ]
     },
     "execution_count": 14,
     "metadata": {},
     "output_type": "execute_result"
    }
   ],
   "source": [
    "df_Tabla_premios"
   ]
  },
  {
   "cell_type": "code",
   "execution_count": 15,
   "metadata": {},
   "outputs": [],
   "source": [
    "df_Tabla_premios.to_csv('actores_awards_definitiva.csv', index=False)"
   ]
  },
  {
   "cell_type": "code",
   "execution_count": null,
   "metadata": {},
   "outputs": [],
   "source": []
  }
 ],
 "metadata": {
  "kernelspec": {
   "display_name": "base",
   "language": "python",
   "name": "python3"
  },
  "language_info": {
   "codemirror_mode": {
    "name": "ipython",
    "version": 3
   },
   "file_extension": ".py",
   "mimetype": "text/x-python",
   "name": "python",
   "nbconvert_exporter": "python",
   "pygments_lexer": "ipython3",
   "version": "3.9.12"
  }
 },
 "nbformat": 4,
 "nbformat_minor": 2
}
