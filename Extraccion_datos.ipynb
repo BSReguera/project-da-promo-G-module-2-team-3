{
 "cells": [
  {
   "cell_type": "code",
   "execution_count": null,
   "metadata": {},
   "outputs": [],
   "source": [
    "import pandas as pd\n",
    "import requests\n",
    "import re"
   ]
  },
  {
   "cell_type": "code",
   "execution_count": 3,
   "metadata": {},
   "outputs": [],
   "source": [
    "pd.set_option(\"display.max_columns\",None)"
   ]
  },
  {
   "cell_type": "code",
   "execution_count": 53,
   "metadata": {},
   "outputs": [
    {
     "name": "stdout",
     "output_type": "stream",
     "text": [
      "{'page': '1', 'next': '/titles?page=2&year=2000&genre=Drama', 'entries': 10, 'results': [{'_id': '61e5815c95801a78bc4160af', 'id': 'tt0102362', 'primaryImage': {'id': 'rm1993899520', 'width': 600, 'height': 865, 'url': 'https://m.media-amazon.com/images/M/MV5BNTM0ODY5YzctZTUyZS00NjZlLTllYmUtMmJmMWQyOWZkNjQ2XkEyXkFqcGdeQXVyNjg3MTIwODI@._V1_.jpg', 'caption': {'plainText': 'Istota (2000)', '__typename': 'Markdown'}, '__typename': 'Image'}, 'titleType': {'text': 'Movie', 'id': 'movie', 'isSeries': False, 'isEpisode': False, '__typename': 'TitleType'}, 'titleText': {'text': 'Istota', '__typename': 'TitleText'}, 'originalTitleText': {'text': 'Istota', '__typename': 'TitleText'}, 'releaseYear': {'year': 2000, 'endYear': None, '__typename': 'YearRange'}, 'releaseDate': None}, {'_id': '61e5817ce1a8ddbd964166e5', 'id': 'tt0111056', 'primaryImage': {'id': 'rm2791330816', 'width': 500, 'height': 375, 'url': 'https://m.media-amazon.com/images/M/MV5BMDY2NTI0ZmUtNWU1Yy00YWNlLWEzN2YtYTUzMTlkMTIzOTcxXkEyXkFqcGdeQXVyNTM3MDMyMDQ@._V1_.jpg', 'caption': {'plainText': 'Gensomaden Saiyuki (2000)', '__typename': 'Markdown'}, '__typename': 'Image'}, 'titleType': {'text': 'TV Series', 'id': 'tvSeries', 'isSeries': True, 'isEpisode': False, '__typename': 'TitleType'}, 'titleText': {'text': 'Gensomaden Saiyuki', '__typename': 'TitleText'}, 'originalTitleText': {'text': 'Gensomaden Saiyuki', '__typename': 'TitleText'}, 'releaseYear': {'year': 2000, 'endYear': 2001, '__typename': 'YearRange'}, 'releaseDate': {'day': 4, 'month': 4, 'year': 2000, '__typename': 'ReleaseDate'}}, {'_id': '61e58183a66e5964234167e9', 'id': 'tt0113092', 'primaryImage': {'id': 'rm341210112', 'width': 780, 'height': 1170, 'url': 'https://m.media-amazon.com/images/M/MV5BMmI3ODU1YjUtNDVmNi00Mjg4LWI2YjAtNzUzNmY0Y2ExNDczXkEyXkFqcGdeQXVyMjcxNjI4NTk@._V1_.jpg', 'caption': {'plainText': 'For the Cause (2000)', '__typename': 'Markdown'}, '__typename': 'Image'}, 'titleType': {'text': 'Movie', 'id': 'movie', 'isSeries': False, 'isEpisode': False, '__typename': 'TitleType'}, 'titleText': {'text': 'For the Cause', '__typename': 'TitleText'}, 'originalTitleText': {'text': 'For the Cause', '__typename': 'TitleText'}, 'releaseYear': {'year': 2000, 'endYear': None, '__typename': 'YearRange'}, 'releaseDate': {'day': 21, 'month': 5, 'year': 2002, '__typename': 'ReleaseDate'}}, {'_id': '61e58183ef99b1c5434167b3', 'id': 'tt0113086', 'primaryImage': None, 'titleType': {'text': 'Movie', 'id': 'movie', 'isSeries': False, 'isEpisode': False, '__typename': 'TitleType'}, 'titleText': {'text': 'Florentino y el diablo', '__typename': 'TitleText'}, 'originalTitleText': {'text': 'Florentino y el diablo', '__typename': 'TitleText'}, 'releaseYear': {'year': 2000, 'endYear': None, '__typename': 'YearRange'}, 'releaseDate': {'day': 29, 'month': 4, 'year': 2000, '__typename': 'ReleaseDate'}}, {'_id': '61e5818b909c2ca781416967', 'id': 'tt0116748', 'primaryImage': {'id': 'rm558797312', 'width': 353, 'height': 500, 'url': 'https://m.media-amazon.com/images/M/MV5BMTc4NTQyMDk4N15BMl5BanBnXkFtZTcwOTI2ODgzMQ@@._V1_.jpg', 'caption': {'plainText': 'Karobaar: The Business of Love (2000)', '__typename': 'Markdown'}, '__typename': 'Image'}, 'titleType': {'text': 'Movie', 'id': 'movie', 'isSeries': False, 'isEpisode': False, '__typename': 'TitleType'}, 'titleText': {'text': 'Karobaar: The Business of Love', '__typename': 'TitleText'}, 'originalTitleText': {'text': 'Karobaar: The Business of Love', '__typename': 'TitleText'}, 'releaseYear': {'year': 2000, 'endYear': None, '__typename': 'YearRange'}, 'releaseDate': {'day': 15, 'month': 9, 'year': 2000, '__typename': 'ReleaseDate'}}, {'_id': '61e5818cb597b91eb94169d3', 'id': 'tt0115874', 'primaryImage': None, 'titleType': {'text': 'Short', 'id': 'short', 'isSeries': False, 'isEpisode': False, '__typename': 'TitleType'}, 'titleText': {'text': 'Chateaubriand - Cabeça de Paraíba', '__typename': 'TitleText'}, 'originalTitleText': {'text': 'Chateaubriand - Cabeça de Paraíba', '__typename': 'TitleText'}, 'releaseYear': {'year': 2000, 'endYear': None, '__typename': 'YearRange'}, 'releaseDate': {'day': 22, 'month': 12, 'year': 2000, '__typename': 'ReleaseDate'}}, {'_id': '61e5818ce1a8ddbd96416a0f', 'id': 'tt0116391', 'primaryImage': {'id': 'rm3397543680', 'width': 1088, 'height': 1500, 'url': 'https://m.media-amazon.com/images/M/MV5BODkxNDQyZDctNTY5Mi00OGViLWE3OWQtY2ZlODQ4NGFkMjQyXkEyXkFqcGdeQXVyODE5NzE3OTE@._V1_.jpg', 'caption': {'plainText': 'Gang (2000)', '__typename': 'Markdown'}, '__typename': 'Image'}, 'titleType': {'text': 'Movie', 'id': 'movie', 'isSeries': False, 'isEpisode': False, '__typename': 'TitleType'}, 'titleText': {'text': 'Gang', '__typename': 'TitleText'}, 'originalTitleText': {'text': 'Gang', '__typename': 'TitleText'}, 'releaseYear': {'year': 2000, 'endYear': None, '__typename': 'YearRange'}, 'releaseDate': {'day': 21, 'month': 4, 'year': 2000, '__typename': 'ReleaseDate'}}, {'_id': '61e5818dd8f3c0931e416a07', 'id': 'tt0115937', 'primaryImage': {'id': 'rm2825136384', 'width': 2472, 'height': 3174, 'url': 'https://m.media-amazon.com/images/M/MV5BNWEyNTYxNGYtZjk2My00MDhlLTk2YjItOWI5M2UzZWU4YzgwXkEyXkFqcGdeQXVyMDE5ODU1NQ@@._V1_.jpg', 'caption': {'plainText': 'Marc Casabani, Jocelyne Lopez, and Khalili Dastan in Consequence (2000)', '__typename': 'Markdown'}, '__typename': 'Image'}, 'titleType': {'text': 'Movie', 'id': 'movie', 'isSeries': False, 'isEpisode': False, '__typename': 'TitleType'}, 'titleText': {'text': 'Consequence', '__typename': 'TitleText'}, 'originalTitleText': {'text': 'Consequence', '__typename': 'TitleText'}, 'releaseYear': {'year': 2000, 'endYear': None, '__typename': 'YearRange'}, 'releaseDate': None}, {'_id': '61e5819178c012aa34416a2d', 'id': 'tt0118694', 'primaryImage': {'id': 'rm276001792', 'width': 832, 'height': 1179, 'url': 'https://m.media-amazon.com/images/M/MV5BYjZjODRlMjQtMjJlYy00ZDBjLTkyYTQtZGQxZTk5NzJhYmNmXkEyXkFqcGdeQXVyMTQxNzMzNDI@._V1_.jpg', 'caption': {'plainText': 'Fa yeung nin wah (2000)', '__typename': 'Markdown'}, '__typename': 'Image'}, 'titleType': {'text': 'Movie', 'id': 'movie', 'isSeries': False, 'isEpisode': False, '__typename': 'TitleType'}, 'titleText': {'text': 'Fa yeung nin wah', '__typename': 'TitleText'}, 'originalTitleText': {'text': 'Fa yeung nin wah', '__typename': 'TitleText'}, 'releaseYear': {'year': 2000, 'endYear': None, '__typename': 'YearRange'}, 'releaseDate': {'day': 15, 'month': 3, 'year': 2001, '__typename': 'ReleaseDate'}}, {'_id': '61e58191909c2ca781416a89', 'id': 'tt0119027', 'primaryImage': {'id': 'rm2199030785', 'width': 753, 'height': 1290, 'url': 'https://m.media-amazon.com/images/M/MV5BZjQ1YmExZDEtMDg3ZC00YmE0LWE5YWUtMzhkNjA4MzJhNjI5XkEyXkFqcGdeQXVyMTY5Nzc4MDY@._V1_.jpg', 'caption': {'plainText': 'Dana Barron and Seth Peterson in Dumped (2000)', '__typename': 'Markdown'}, '__typename': 'Image'}, 'titleType': {'text': 'Video', 'id': 'video', 'isSeries': False, 'isEpisode': False, '__typename': 'TitleType'}, 'titleText': {'text': 'Dumped', '__typename': 'TitleText'}, 'originalTitleText': {'text': 'Dumped', '__typename': 'TitleText'}, 'releaseYear': {'year': 2000, 'endYear': None, '__typename': 'YearRange'}, 'releaseDate': {'day': 26, 'month': 12, 'year': 2000, '__typename': 'ReleaseDate'}}]}\n"
     ]
    }
   ],
   "source": [
    "import requests\n",
    "\n",
    "url = \"https://moviesdatabase.p.rapidapi.com/titles\"\n",
    "\n",
    "querystring = {\"genre\":\"Drama\",\"year\":\"2000\",\"page\":\"1\"}\n",
    "\n",
    "headers = {\n",
    "\t\"X-RapidAPI-Key\": \"82ddf1960cmshf42c18caf0de235p1077e1jsnbf422467d3de\",\n",
    "\t\"X-RapidAPI-Host\": \"moviesdatabase.p.rapidapi.com\"\n",
    "}\n",
    "\n",
    "response = requests.get(url, headers=headers, params=querystring)\n",
    "\n",
    "print(response.json())\n",
    "\n",
    "pelis_drama = response.json()"
   ]
  },
  {
   "cell_type": "code",
   "execution_count": 52,
   "metadata": {},
   "outputs": [
    {
     "data": {
      "text/plain": [
       "{'page': '5',\n",
       " 'next': '/titles?page=6&year=2000&genre=Drama',\n",
       " 'entries': 10,\n",
       " 'results': [{'_id': '61e581cc8a5a6a599f417749',\n",
       "   'id': 'tt0138927',\n",
       "   'primaryImage': {'id': 'rm176529152',\n",
       "    'width': 300,\n",
       "    'height': 544,\n",
       "    'url': 'https://m.media-amazon.com/images/M/MV5BNjcyODgwNTMyNF5BMl5BanBnXkFtZTcwODgxMTAwMQ@@._V1_.jpg',\n",
       "    'caption': {'plainText': 'Waterproof (2000)', '__typename': 'Markdown'},\n",
       "    '__typename': 'Image'},\n",
       "   'titleType': {'text': 'Movie',\n",
       "    'id': 'movie',\n",
       "    'isSeries': False,\n",
       "    'isEpisode': False,\n",
       "    '__typename': 'TitleType'},\n",
       "   'titleText': {'text': 'Waterproof', '__typename': 'TitleText'},\n",
       "   'originalTitleText': {'text': 'Waterproof', '__typename': 'TitleText'},\n",
       "   'releaseYear': {'year': 2000, 'endYear': None, '__typename': 'YearRange'},\n",
       "   'releaseDate': {'day': 10,\n",
       "    'month': 8,\n",
       "    'year': 2000,\n",
       "    '__typename': 'ReleaseDate'}},\n",
       "  {'_id': '61e581d0b597b91eb941784d',\n",
       "   'id': 'tt0138655',\n",
       "   'primaryImage': None,\n",
       "   'titleType': {'text': 'Short',\n",
       "    'id': 'short',\n",
       "    'isSeries': False,\n",
       "    'isEpisode': False,\n",
       "    '__typename': 'TitleType'},\n",
       "   'titleText': {'text': 'Nights', '__typename': 'TitleText'},\n",
       "   'originalTitleText': {'text': 'Nights', '__typename': 'TitleText'},\n",
       "   'releaseYear': {'year': 2000, 'endYear': None, '__typename': 'YearRange'},\n",
       "   'releaseDate': {'day': 29,\n",
       "    'month': 3,\n",
       "    'year': 2000,\n",
       "    '__typename': 'ReleaseDate'}},\n",
       "  {'_id': '61e581d0ef99b1c5434177f5',\n",
       "   'id': 'tt0137115',\n",
       "   'primaryImage': {'id': 'rm3960394241',\n",
       "    'width': 1024,\n",
       "    'height': 768,\n",
       "    'url': 'https://m.media-amazon.com/images/M/MV5BYTgwOWYwOTMtMjVjMS00YWQwLTliNDYtY2UxZjBiMzRlYzMwXkEyXkFqcGdeQXVyODEzNjM5OTQ@._V1_.jpg',\n",
       "    'caption': {'plainText': 'Mothman (2000)', '__typename': 'Markdown'},\n",
       "    '__typename': 'Image'},\n",
       "   'titleType': {'text': 'Movie',\n",
       "    'id': 'movie',\n",
       "    'isSeries': False,\n",
       "    'isEpisode': False,\n",
       "    '__typename': 'TitleType'},\n",
       "   'titleText': {'text': 'Mothman', '__typename': 'TitleText'},\n",
       "   'originalTitleText': {'text': 'Mothman', '__typename': 'TitleText'},\n",
       "   'releaseYear': {'year': 2000, 'endYear': None, '__typename': 'YearRange'},\n",
       "   'releaseDate': None},\n",
       "  {'_id': '61e581d2e1a8ddbd96417847',\n",
       "   'id': 'tt0138946',\n",
       "   'primaryImage': {'id': 'rm2160172544',\n",
       "    'width': 336,\n",
       "    'height': 475,\n",
       "    'url': 'https://m.media-amazon.com/images/M/MV5BODM1OTc4NTk5N15BMl5BanBnXkFtZTYwMTY2MDI5._V1_.jpg',\n",
       "    'caption': {'plainText': 'Charlize Theron, Mark Wahlberg, James Caan, and Joaquin Phoenix in The Yards (2000)',\n",
       "     '__typename': 'Markdown'},\n",
       "    '__typename': 'Image'},\n",
       "   'titleType': {'text': 'Movie',\n",
       "    'id': 'movie',\n",
       "    'isSeries': False,\n",
       "    'isEpisode': False,\n",
       "    '__typename': 'TitleType'},\n",
       "   'titleText': {'text': 'The Yards', '__typename': 'TitleText'},\n",
       "   'originalTitleText': {'text': 'The Yards', '__typename': 'TitleText'},\n",
       "   'releaseYear': {'year': 2000, 'endYear': None, '__typename': 'YearRange'},\n",
       "   'releaseDate': {'day': 7,\n",
       "    'month': 6,\n",
       "    'year': 2001,\n",
       "    '__typename': 'ReleaseDate'}},\n",
       "  {'_id': '61e581d3a66e596423417897',\n",
       "   'id': 'tt0138818',\n",
       "   'primaryImage': {'id': 'rm617620736',\n",
       "    'width': 389,\n",
       "    'height': 500,\n",
       "    'url': 'https://m.media-amazon.com/images/M/MV5BNGNlOWU0MGItNjdmNC00ODliLWI3MGItOWEyMmFjNzIxYjQwXkEyXkFqcGdeQXVyNTM3MDMyMDQ@._V1_.jpg',\n",
       "    'caption': {'plainText': 'The Hiding Place (2000)',\n",
       "     '__typename': 'Markdown'},\n",
       "    '__typename': 'Image'},\n",
       "   'titleType': {'text': 'Movie',\n",
       "    'id': 'movie',\n",
       "    'isSeries': False,\n",
       "    'isEpisode': False,\n",
       "    '__typename': 'TitleType'},\n",
       "   'titleText': {'text': 'The Hiding Place', '__typename': 'TitleText'},\n",
       "   'originalTitleText': {'text': 'The Hiding Place',\n",
       "    '__typename': 'TitleText'},\n",
       "   'releaseYear': {'year': 2000, 'endYear': None, '__typename': 'YearRange'},\n",
       "   'releaseDate': {'day': 22,\n",
       "    'month': 6,\n",
       "    'year': 2000,\n",
       "    '__typename': 'ReleaseDate'}},\n",
       "  {'_id': '61e581d3e1a8ddbd964178b1',\n",
       "   'id': 'tt0139500',\n",
       "   'primaryImage': {'id': 'rm3455771648',\n",
       "    'width': 768,\n",
       "    'height': 1024,\n",
       "    'url': 'https://m.media-amazon.com/images/M/MV5BOGU0MDliMzctZmMxNC00OWFjLWFkNDItZjdkZDEzNWU2NTE0XkEyXkFqcGdeQXVyMTQxNzMzNDI@._V1_.jpg',\n",
       "    'caption': {'plainText': 'No Quarto da Vanda (2000)',\n",
       "     '__typename': 'Markdown'},\n",
       "    '__typename': 'Image'},\n",
       "   'titleType': {'text': 'Movie',\n",
       "    'id': 'movie',\n",
       "    'isSeries': False,\n",
       "    'isEpisode': False,\n",
       "    '__typename': 'TitleType'},\n",
       "   'titleText': {'text': 'No Quarto da Vanda', '__typename': 'TitleText'},\n",
       "   'originalTitleText': {'text': 'No Quarto da Vanda',\n",
       "    '__typename': 'TitleText'},\n",
       "   'releaseYear': {'year': 2000, 'endYear': None, '__typename': 'YearRange'},\n",
       "   'releaseDate': {'day': 2,\n",
       "    'month': 3,\n",
       "    'year': 2001,\n",
       "    '__typename': 'ReleaseDate'}},\n",
       "  {'_id': '61e581d5909c2ca781417913',\n",
       "   'id': 'tt0141399',\n",
       "   'primaryImage': {'id': 'rm3083480576',\n",
       "    'width': 507,\n",
       "    'height': 755,\n",
       "    'url': 'https://m.media-amazon.com/images/M/MV5BYmYyYmY5MWYtMjA0Yi00ZjgzLWE5ZjItNjdhOGRjMTc0MzY0XkEyXkFqcGdeQXVyNjU0NTI0Nw@@._V1_.jpg',\n",
       "    'caption': {'plainText': \"Isn't She Great (2000)\",\n",
       "     '__typename': 'Markdown'},\n",
       "    '__typename': 'Image'},\n",
       "   'titleType': {'text': 'Movie',\n",
       "    'id': 'movie',\n",
       "    'isSeries': False,\n",
       "    'isEpisode': False,\n",
       "    '__typename': 'TitleType'},\n",
       "   'titleText': {'text': \"Isn't She Great\", '__typename': 'TitleText'},\n",
       "   'originalTitleText': {'text': \"Isn't She Great\", '__typename': 'TitleText'},\n",
       "   'releaseYear': {'year': 2000, 'endYear': None, '__typename': 'YearRange'},\n",
       "   'releaseDate': {'day': 28,\n",
       "    'month': 1,\n",
       "    'year': 2000,\n",
       "    '__typename': 'ReleaseDate'}},\n",
       "  {'_id': '61e581dbe1a8ddbd96417a99',\n",
       "   'id': 'tt0143344',\n",
       "   'primaryImage': {'id': 'rm1813182721',\n",
       "    'width': 780,\n",
       "    'height': 1136,\n",
       "    'url': 'https://m.media-amazon.com/images/M/MV5BMDk0YmZiMTYtZmMxYS00NThmLWFlNTEtZjFhNTA3ZTQ2ZTk2XkEyXkFqcGdeQXVyNjMwMjk0MTQ@._V1_.jpg',\n",
       "    'caption': {'plainText': 'Knockout (2000)', '__typename': 'Markdown'},\n",
       "    '__typename': 'Image'},\n",
       "   'titleType': {'text': 'Movie',\n",
       "    'id': 'movie',\n",
       "    'isSeries': False,\n",
       "    'isEpisode': False,\n",
       "    '__typename': 'TitleType'},\n",
       "   'titleText': {'text': 'Knockout', '__typename': 'TitleText'},\n",
       "   'originalTitleText': {'text': 'Knockout', '__typename': 'TitleText'},\n",
       "   'releaseYear': {'year': 2000, 'endYear': None, '__typename': 'YearRange'},\n",
       "   'releaseDate': {'day': 4,\n",
       "    'month': 2,\n",
       "    'year': 2000,\n",
       "    '__typename': 'ReleaseDate'}},\n",
       "  {'_id': '61e581dbef99b1c543417a57',\n",
       "   'id': 'tt0142032',\n",
       "   'primaryImage': {'id': 'rm643276288',\n",
       "    'width': 325,\n",
       "    'height': 475,\n",
       "    'url': 'https://m.media-amazon.com/images/M/MV5BMTU4MjMyMTkxN15BMl5BanBnXkFtZTYwODA5OTU5._V1_.jpg',\n",
       "    'caption': {'plainText': 'Dune (2000)', '__typename': 'Markdown'},\n",
       "    '__typename': 'Image'},\n",
       "   'titleType': {'text': 'TV Mini Series',\n",
       "    'id': 'tvMiniSeries',\n",
       "    'isSeries': True,\n",
       "    'isEpisode': False,\n",
       "    '__typename': 'TitleType'},\n",
       "   'titleText': {'text': 'Dune', '__typename': 'TitleText'},\n",
       "   'originalTitleText': {'text': 'Dune', '__typename': 'TitleText'},\n",
       "   'releaseYear': {'year': 2000, 'endYear': 2000, '__typename': 'YearRange'},\n",
       "   'releaseDate': {'day': 3,\n",
       "    'month': 12,\n",
       "    'year': 2000,\n",
       "    '__typename': 'ReleaseDate'}},\n",
       "  {'_id': '61e581dc8a5a6a599f417af3',\n",
       "   'id': 'tt0144142',\n",
       "   'primaryImage': {'id': 'rm1631597312',\n",
       "    'width': 960,\n",
       "    'height': 1440,\n",
       "    'url': 'https://m.media-amazon.com/images/M/MV5BMzBjZGFkYWYtNTZkMy00NDc3LWJjNWMtZTc2YmRhNzFlN2FhXkEyXkFqcGdeQXVyMTQxNzMzNDI@._V1_.jpg',\n",
       "    'caption': {'plainText': 'Committed (2000)', '__typename': 'Markdown'},\n",
       "    '__typename': 'Image'},\n",
       "   'titleType': {'text': 'Movie',\n",
       "    'id': 'movie',\n",
       "    'isSeries': False,\n",
       "    'isEpisode': False,\n",
       "    '__typename': 'TitleType'},\n",
       "   'titleText': {'text': 'Committed', '__typename': 'TitleText'},\n",
       "   'originalTitleText': {'text': 'Committed', '__typename': 'TitleText'},\n",
       "   'releaseYear': {'year': 2000, 'endYear': None, '__typename': 'YearRange'},\n",
       "   'releaseDate': {'day': 18,\n",
       "    'month': 4,\n",
       "    'year': 2000,\n",
       "    '__typename': 'ReleaseDate'}}]}"
      ]
     },
     "execution_count": 52,
     "metadata": {},
     "output_type": "execute_result"
    }
   ],
   "source": [
    "pelis_drama"
   ]
  },
  {
   "cell_type": "code",
   "execution_count": 27,
   "metadata": {},
   "outputs": [
    {
     "data": {
      "text/plain": [
       "dict_keys(['page', 'next', 'entries', 'results'])"
      ]
     },
     "execution_count": 27,
     "metadata": {},
     "output_type": "execute_result"
    }
   ],
   "source": [
    "pelis_drama.keys()"
   ]
  },
  {
   "cell_type": "code",
   "execution_count": 29,
   "metadata": {},
   "outputs": [
    {
     "data": {
      "text/plain": [
       "[{'_id': '61e5c39e78c012aa3451573f',\n",
       "  'id': 'tt5637536',\n",
       "  'primaryImage': {'id': 'rm1197290240',\n",
       "   'width': 720,\n",
       "   'height': 720,\n",
       "   'url': 'https://m.media-amazon.com/images/M/MV5BNmM1NmY4N2QtNmVkOS00MjMyLWI5ZGUtYWYxMDRjY2MzNDdiXkEyXkFqcGdeQXVyMTAwMDAwMA@@._V1_.jpg',\n",
       "   'caption': {'plainText': 'Avatar: The Way of Water (2022)',\n",
       "    '__typename': 'Markdown'},\n",
       "   '__typename': 'Image'},\n",
       "  'titleType': {'displayableProperty': {'value': {'plainText': '',\n",
       "     '__typename': 'Markdown'},\n",
       "    '__typename': 'DisplayableTitleTypeProperty'},\n",
       "   'text': 'Movie',\n",
       "   'id': 'movie',\n",
       "   'isSeries': False,\n",
       "   'isEpisode': False,\n",
       "   'categories': [{'value': 'movie', '__typename': 'TitleTypeCategory'}],\n",
       "   'canHaveEpisodes': False,\n",
       "   '__typename': 'TitleType'},\n",
       "  'titleText': {'text': 'Avatar 5', '__typename': 'TitleText'},\n",
       "  'originalTitleText': {'text': 'Avatar 5', '__typename': 'TitleText'},\n",
       "  'releaseYear': {'year': 2031, 'endYear': None, '__typename': 'YearRange'},\n",
       "  'releaseDate': {'day': 19,\n",
       "   'month': 12,\n",
       "   'year': 2031,\n",
       "   '__typename': 'ReleaseDate'}},\n",
       " {'_id': '61e5aac0cffb8f2faa4b6a01',\n",
       "  'id': 'tt15418304',\n",
       "  'primaryImage': None,\n",
       "  'titleType': {'displayableProperty': {'value': {'plainText': 'TV Episode',\n",
       "     '__typename': 'Markdown'},\n",
       "    '__typename': 'DisplayableTitleTypeProperty'},\n",
       "   'text': 'TV Episode',\n",
       "   'id': 'tvEpisode',\n",
       "   'isSeries': False,\n",
       "   'isEpisode': True,\n",
       "   'categories': [{'value': 'tv', '__typename': 'TitleTypeCategory'}],\n",
       "   'canHaveEpisodes': False,\n",
       "   '__typename': 'TitleType'},\n",
       "  'titleText': {'text': 'A Weekend in Busan', '__typename': 'TitleText'},\n",
       "  'originalTitleText': {'text': 'A Weekend in Busan',\n",
       "   '__typename': 'TitleText'},\n",
       "  'releaseYear': {'year': 2030, 'endYear': None, '__typename': 'YearRange'},\n",
       "  'releaseDate': {'day': None,\n",
       "   'month': None,\n",
       "   'year': None,\n",
       "   '__typename': 'ReleaseDate'}},\n",
       " {'_id': '61e5cb1b971a4a15d65328b3',\n",
       "  'id': 'tt15785998',\n",
       "  'primaryImage': None,\n",
       "  'titleType': {'displayableProperty': {'value': {'plainText': 'TV Episode',\n",
       "     '__typename': 'Markdown'},\n",
       "    '__typename': 'DisplayableTitleTypeProperty'},\n",
       "   'text': 'TV Episode',\n",
       "   'id': 'tvEpisode',\n",
       "   'isSeries': False,\n",
       "   'isEpisode': True,\n",
       "   'categories': [{'value': 'tv', '__typename': 'TitleTypeCategory'}],\n",
       "   'canHaveEpisodes': False,\n",
       "   '__typename': 'TitleType'},\n",
       "  'titleText': {'text': 'Francophoney', '__typename': 'TitleText'},\n",
       "  'originalTitleText': {'text': 'Francophoney', '__typename': 'TitleText'},\n",
       "  'releaseYear': {'year': 2030, 'endYear': None, '__typename': 'YearRange'},\n",
       "  'releaseDate': {'day': None,\n",
       "   'month': None,\n",
       "   'year': 2030,\n",
       "   '__typename': 'ReleaseDate'}},\n",
       " {'_id': '61e5cdf4a66e59642353cb7d',\n",
       "  'id': 'tt15785988',\n",
       "  'primaryImage': None,\n",
       "  'titleType': {'displayableProperty': {'value': {'plainText': 'TV Episode',\n",
       "     '__typename': 'Markdown'},\n",
       "    '__typename': 'DisplayableTitleTypeProperty'},\n",
       "   'text': 'TV Episode',\n",
       "   'id': 'tvEpisode',\n",
       "   'isSeries': False,\n",
       "   'isEpisode': True,\n",
       "   'categories': [{'value': 'tv', '__typename': 'TitleTypeCategory'}],\n",
       "   'canHaveEpisodes': False,\n",
       "   '__typename': 'TitleType'},\n",
       "  'titleText': {'text': 'The Story of Mui', '__typename': 'TitleText'},\n",
       "  'originalTitleText': {'text': 'The Story of Mui', '__typename': 'TitleText'},\n",
       "  'releaseYear': {'year': 2030, 'endYear': None, '__typename': 'YearRange'},\n",
       "  'releaseDate': {'day': None,\n",
       "   'month': None,\n",
       "   'year': 2030,\n",
       "   '__typename': 'ReleaseDate'}},\n",
       " {'_id': '61e5d097a66e596423546d99',\n",
       "  'id': 'tt15785968',\n",
       "  'primaryImage': None,\n",
       "  'titleType': {'displayableProperty': {'value': {'plainText': 'TV Episode',\n",
       "     '__typename': 'Markdown'},\n",
       "    '__typename': 'DisplayableTitleTypeProperty'},\n",
       "   'text': 'TV Episode',\n",
       "   'id': 'tvEpisode',\n",
       "   'isSeries': False,\n",
       "   'isEpisode': True,\n",
       "   'categories': [{'value': 'tv', '__typename': 'TitleTypeCategory'}],\n",
       "   'canHaveEpisodes': False,\n",
       "   '__typename': 'TitleType'},\n",
       "  'titleText': {'text': 'Make New Friends But Keep the Old',\n",
       "   '__typename': 'TitleText'},\n",
       "  'originalTitleText': {'text': 'Make New Friends But Keep the Old',\n",
       "   '__typename': 'TitleText'},\n",
       "  'releaseYear': {'year': 2030, 'endYear': None, '__typename': 'YearRange'},\n",
       "  'releaseDate': {'day': None,\n",
       "   'month': None,\n",
       "   'year': 2030,\n",
       "   '__typename': 'ReleaseDate'}},\n",
       " {'_id': '61e5d238d735dff3f954d7bd',\n",
       "  'id': 'tt15785986',\n",
       "  'primaryImage': None,\n",
       "  'titleType': {'displayableProperty': {'value': {'plainText': 'TV Episode',\n",
       "     '__typename': 'Markdown'},\n",
       "    '__typename': 'DisplayableTitleTypeProperty'},\n",
       "   'text': 'TV Episode',\n",
       "   'id': 'tvEpisode',\n",
       "   'isSeries': False,\n",
       "   'isEpisode': True,\n",
       "   'categories': [{'value': 'tv', '__typename': 'TitleTypeCategory'}],\n",
       "   'canHaveEpisodes': False,\n",
       "   '__typename': 'TitleType'},\n",
       "  'titleText': {'text': 'The Story of Jovan', '__typename': 'TitleText'},\n",
       "  'originalTitleText': {'text': 'The Story of Jovan',\n",
       "   '__typename': 'TitleText'},\n",
       "  'releaseYear': {'year': 2030, 'endYear': None, '__typename': 'YearRange'},\n",
       "  'releaseDate': {'day': None,\n",
       "   'month': None,\n",
       "   'year': 2030,\n",
       "   '__typename': 'ReleaseDate'}},\n",
       " {'_id': '61e5d461971a4a15d655618f',\n",
       "  'id': 'tt15785946',\n",
       "  'primaryImage': None,\n",
       "  'titleType': {'displayableProperty': {'value': {'plainText': 'TV Episode',\n",
       "     '__typename': 'Markdown'},\n",
       "    '__typename': 'DisplayableTitleTypeProperty'},\n",
       "   'text': 'TV Episode',\n",
       "   'id': 'tvEpisode',\n",
       "   'isSeries': False,\n",
       "   'isEpisode': True,\n",
       "   'categories': [{'value': 'tv', '__typename': 'TitleTypeCategory'}],\n",
       "   'canHaveEpisodes': False,\n",
       "   '__typename': 'TitleType'},\n",
       "  'titleText': {'text': 'Welcome to the Kyriarchy', '__typename': 'TitleText'},\n",
       "  'originalTitleText': {'text': 'Welcome to the Kyriarchy',\n",
       "   '__typename': 'TitleText'},\n",
       "  'releaseYear': {'year': 2030, 'endYear': None, '__typename': 'YearRange'},\n",
       "  'releaseDate': {'day': None,\n",
       "   'month': None,\n",
       "   'year': 2030,\n",
       "   '__typename': 'ReleaseDate'}},\n",
       " {'_id': '61e5d93778c012aa34568c4f',\n",
       "  'id': 'tt15785976',\n",
       "  'primaryImage': None,\n",
       "  'titleType': {'displayableProperty': {'value': {'plainText': 'TV Episode',\n",
       "     '__typename': 'Markdown'},\n",
       "    '__typename': 'DisplayableTitleTypeProperty'},\n",
       "   'text': 'TV Episode',\n",
       "   'id': 'tvEpisode',\n",
       "   'isSeries': False,\n",
       "   'isEpisode': True,\n",
       "   'categories': [{'value': 'tv', '__typename': 'TitleTypeCategory'}],\n",
       "   'canHaveEpisodes': False,\n",
       "   '__typename': 'TitleType'},\n",
       "  'titleText': {'text': 'Interreligious Dialogue', '__typename': 'TitleText'},\n",
       "  'originalTitleText': {'text': 'Interreligious Dialogue',\n",
       "   '__typename': 'TitleText'},\n",
       "  'releaseYear': {'year': 2030, 'endYear': None, '__typename': 'YearRange'},\n",
       "  'releaseDate': {'day': None,\n",
       "   'month': None,\n",
       "   'year': 2030,\n",
       "   '__typename': 'ReleaseDate'}},\n",
       " {'_id': '61e5d9bdb597b91eb956ae09',\n",
       "  'id': 'tt15785980',\n",
       "  'primaryImage': None,\n",
       "  'titleType': {'displayableProperty': {'value': {'plainText': 'TV Episode',\n",
       "     '__typename': 'Markdown'},\n",
       "    '__typename': 'DisplayableTitleTypeProperty'},\n",
       "   'text': 'TV Episode',\n",
       "   'id': 'tvEpisode',\n",
       "   'isSeries': False,\n",
       "   'isEpisode': True,\n",
       "   'categories': [{'value': 'tv', '__typename': 'TitleTypeCategory'}],\n",
       "   'canHaveEpisodes': False,\n",
       "   '__typename': 'TitleType'},\n",
       "  'titleText': {'text': 'Do You Wanna Be Friends?', '__typename': 'TitleText'},\n",
       "  'originalTitleText': {'text': 'Do You Wanna Be Friends?',\n",
       "   '__typename': 'TitleText'},\n",
       "  'releaseYear': {'year': 2030, 'endYear': None, '__typename': 'YearRange'},\n",
       "  'releaseDate': {'day': None,\n",
       "   'month': None,\n",
       "   'year': 2030,\n",
       "   '__typename': 'ReleaseDate'}},\n",
       " {'_id': '644eb7ba9931466bbc15f2f0',\n",
       "  'id': 'tt27632479',\n",
       "  'primaryImage': {'id': 'rm4291439617',\n",
       "   'width': 753,\n",
       "   'height': 1012,\n",
       "   'url': 'https://m.media-amazon.com/images/M/MV5BOGE3OGZjMzYtZjlmMC00YzMzLTliOWQtNWExNjQ2YWM3NDZlXkEyXkFqcGdeQXVyMTYyNDM0MzY5._V1_.jpg',\n",
       "   'caption': {'plainText': 'Open Secrets (2027)', '__typename': 'Markdown'},\n",
       "   '__typename': 'Image'},\n",
       "  'titleType': {'displayableProperty': {'value': {'plainText': 'TV Episode',\n",
       "     '__typename': 'Markdown'},\n",
       "    '__typename': 'DisplayableTitleTypeProperty'},\n",
       "   'text': 'TV Episode',\n",
       "   'id': 'tvEpisode',\n",
       "   'isSeries': False,\n",
       "   'isEpisode': True,\n",
       "   'categories': [{'value': 'tv', '__typename': 'TitleTypeCategory'}],\n",
       "   'canHaveEpisodes': False,\n",
       "   '__typename': 'TitleType'},\n",
       "  'titleText': {'text': 'Open Secrets', '__typename': 'TitleText'},\n",
       "  'originalTitleText': {'text': 'Open Secrets', '__typename': 'TitleText'},\n",
       "  'releaseYear': {'year': 2027, 'endYear': None, '__typename': 'YearRange'},\n",
       "  'releaseDate': {'day': 1,\n",
       "   'month': 5,\n",
       "   'year': 2027,\n",
       "   '__typename': 'ReleaseDate'}}]"
      ]
     },
     "execution_count": 29,
     "metadata": {},
     "output_type": "execute_result"
    }
   ],
   "source": [
    "pelis_drama[\"results\"]"
   ]
  },
  {
   "cell_type": "code",
   "execution_count": 30,
   "metadata": {},
   "outputs": [
    {
     "data": {
      "text/plain": [
       "{'_id': '61e5c39e78c012aa3451573f',\n",
       " 'id': 'tt5637536',\n",
       " 'primaryImage': {'id': 'rm1197290240',\n",
       "  'width': 720,\n",
       "  'height': 720,\n",
       "  'url': 'https://m.media-amazon.com/images/M/MV5BNmM1NmY4N2QtNmVkOS00MjMyLWI5ZGUtYWYxMDRjY2MzNDdiXkEyXkFqcGdeQXVyMTAwMDAwMA@@._V1_.jpg',\n",
       "  'caption': {'plainText': 'Avatar: The Way of Water (2022)',\n",
       "   '__typename': 'Markdown'},\n",
       "  '__typename': 'Image'},\n",
       " 'titleType': {'displayableProperty': {'value': {'plainText': '',\n",
       "    '__typename': 'Markdown'},\n",
       "   '__typename': 'DisplayableTitleTypeProperty'},\n",
       "  'text': 'Movie',\n",
       "  'id': 'movie',\n",
       "  'isSeries': False,\n",
       "  'isEpisode': False,\n",
       "  'categories': [{'value': 'movie', '__typename': 'TitleTypeCategory'}],\n",
       "  'canHaveEpisodes': False,\n",
       "  '__typename': 'TitleType'},\n",
       " 'titleText': {'text': 'Avatar 5', '__typename': 'TitleText'},\n",
       " 'originalTitleText': {'text': 'Avatar 5', '__typename': 'TitleText'},\n",
       " 'releaseYear': {'year': 2031, 'endYear': None, '__typename': 'YearRange'},\n",
       " 'releaseDate': {'day': 19,\n",
       "  'month': 12,\n",
       "  'year': 2031,\n",
       "  '__typename': 'ReleaseDate'}}"
      ]
     },
     "execution_count": 30,
     "metadata": {},
     "output_type": "execute_result"
    }
   ],
   "source": [
    "pelis_drama[\"results\"][0]"
   ]
  },
  {
   "cell_type": "code",
   "execution_count": 31,
   "metadata": {},
   "outputs": [
    {
     "data": {
      "text/plain": [
       "{'_id': '61e5aac0cffb8f2faa4b6a01',\n",
       " 'id': 'tt15418304',\n",
       " 'primaryImage': None,\n",
       " 'titleType': {'displayableProperty': {'value': {'plainText': 'TV Episode',\n",
       "    '__typename': 'Markdown'},\n",
       "   '__typename': 'DisplayableTitleTypeProperty'},\n",
       "  'text': 'TV Episode',\n",
       "  'id': 'tvEpisode',\n",
       "  'isSeries': False,\n",
       "  'isEpisode': True,\n",
       "  'categories': [{'value': 'tv', '__typename': 'TitleTypeCategory'}],\n",
       "  'canHaveEpisodes': False,\n",
       "  '__typename': 'TitleType'},\n",
       " 'titleText': {'text': 'A Weekend in Busan', '__typename': 'TitleText'},\n",
       " 'originalTitleText': {'text': 'A Weekend in Busan',\n",
       "  '__typename': 'TitleText'},\n",
       " 'releaseYear': {'year': 2030, 'endYear': None, '__typename': 'YearRange'},\n",
       " 'releaseDate': {'day': None,\n",
       "  'month': None,\n",
       "  'year': None,\n",
       "  '__typename': 'ReleaseDate'}}"
      ]
     },
     "execution_count": 31,
     "metadata": {},
     "output_type": "execute_result"
    }
   ],
   "source": [
    "pelis_drama[\"results\"][1]"
   ]
  },
  {
   "cell_type": "markdown",
   "metadata": {},
   "source": [
    "#id,titleType, typename, release date"
   ]
  },
  {
   "cell_type": "code",
   "execution_count": 32,
   "metadata": {},
   "outputs": [
    {
     "name": "stdout",
     "output_type": "stream",
     "text": [
      "tt15418304\n"
     ]
    }
   ],
   "source": [
    "id = pelis_drama[\"results\"][1][\"id\"]\n",
    "\n",
    "print(id)\n",
    "\n",
    "# Tiene que iterar por el indice."
   ]
  },
  {
   "cell_type": "code",
   "execution_count": 33,
   "metadata": {},
   "outputs": [
    {
     "name": "stdout",
     "output_type": "stream",
     "text": [
      "tvEpisode\n"
     ]
    }
   ],
   "source": [
    "tipo = pelis_drama[\"results\"][1][\"titleType\"][\"id\"]\n",
    "\n",
    "print(tipo)"
   ]
  },
  {
   "cell_type": "code",
   "execution_count": 34,
   "metadata": {},
   "outputs": [
    {
     "name": "stdout",
     "output_type": "stream",
     "text": [
      "A Weekend in Busan\n"
     ]
    }
   ],
   "source": [
    "nombre = pelis_drama[\"results\"][1][\"titleText\"]['text']\n",
    "\n",
    "print(nombre)"
   ]
  },
  {
   "cell_type": "code",
   "execution_count": 35,
   "metadata": {},
   "outputs": [
    {
     "name": "stdout",
     "output_type": "stream",
     "text": [
      "None\n"
     ]
    }
   ],
   "source": [
    "anyo = pelis_drama[\"results\"][1]['releaseDate']['year']\n",
    "\n",
    "print(anyo)"
   ]
  },
  {
   "cell_type": "code",
   "execution_count": 36,
   "metadata": {},
   "outputs": [
    {
     "name": "stdout",
     "output_type": "stream",
     "text": [
      "None\n"
     ]
    }
   ],
   "source": [
    "mes = pelis_drama[\"results\"][1]['releaseDate']['month']\n",
    "\n",
    "print(mes)"
   ]
  },
  {
   "cell_type": "code",
   "execution_count": 41,
   "metadata": {},
   "outputs": [
    {
     "data": {
      "text/plain": [
       "{'_id': '644eb7ba9931466bbc15f2f0',\n",
       " 'id': 'tt27632479',\n",
       " 'primaryImage': {'id': 'rm4291439617',\n",
       "  'width': 753,\n",
       "  'height': 1012,\n",
       "  'url': 'https://m.media-amazon.com/images/M/MV5BOGE3OGZjMzYtZjlmMC00YzMzLTliOWQtNWExNjQ2YWM3NDZlXkEyXkFqcGdeQXVyMTYyNDM0MzY5._V1_.jpg',\n",
       "  'caption': {'plainText': 'Open Secrets (2027)', '__typename': 'Markdown'},\n",
       "  '__typename': 'Image'},\n",
       " 'titleType': {'displayableProperty': {'value': {'plainText': 'TV Episode',\n",
       "    '__typename': 'Markdown'},\n",
       "   '__typename': 'DisplayableTitleTypeProperty'},\n",
       "  'text': 'TV Episode',\n",
       "  'id': 'tvEpisode',\n",
       "  'isSeries': False,\n",
       "  'isEpisode': True,\n",
       "  'categories': [{'value': 'tv', '__typename': 'TitleTypeCategory'}],\n",
       "  'canHaveEpisodes': False,\n",
       "  '__typename': 'TitleType'},\n",
       " 'titleText': {'text': 'Open Secrets', '__typename': 'TitleText'},\n",
       " 'originalTitleText': {'text': 'Open Secrets', '__typename': 'TitleText'},\n",
       " 'releaseYear': {'year': 2027, 'endYear': None, '__typename': 'YearRange'},\n",
       " 'releaseDate': {'day': 1,\n",
       "  'month': 5,\n",
       "  'year': 2027,\n",
       "  '__typename': 'ReleaseDate'}}"
      ]
     },
     "execution_count": 41,
     "metadata": {},
     "output_type": "execute_result"
    }
   ],
   "source": [
    "pelis_drama[\"results\"][9]"
   ]
  },
  {
   "cell_type": "code",
   "execution_count": 55,
   "metadata": {},
   "outputs": [
    {
     "ename": "TypeError",
     "evalue": "'NoneType' object is not subscriptable",
     "output_type": "error",
     "traceback": [
      "\u001b[0;31m---------------------------------------------------------------------------\u001b[0m",
      "\u001b[0;31mTypeError\u001b[0m                                 Traceback (most recent call last)",
      "\u001b[0;32m/tmp/ipykernel_13792/2520532502.py\u001b[0m in \u001b[0;36m<module>\u001b[0;34m\u001b[0m\n\u001b[1;32m      4\u001b[0m \u001b[0;34m\u001b[0m\u001b[0m\n\u001b[1;32m      5\u001b[0m     \u001b[0mindex\u001b[0m \u001b[0;34m=\u001b[0m \u001b[0;36m0\u001b[0m\u001b[0;34m\u001b[0m\u001b[0;34m\u001b[0m\u001b[0m\n\u001b[0;32m----> 6\u001b[0;31m     \u001b[0;32mif\u001b[0m \u001b[0mpelis_drama\u001b[0m\u001b[0;34m[\u001b[0m\u001b[0;34m\"results\"\u001b[0m\u001b[0;34m]\u001b[0m\u001b[0;34m[\u001b[0m\u001b[0mindex\u001b[0m\u001b[0;34m]\u001b[0m\u001b[0;34m[\u001b[0m\u001b[0;34m'releaseDate'\u001b[0m\u001b[0;34m]\u001b[0m\u001b[0;34m[\u001b[0m\u001b[0;34m'year'\u001b[0m\u001b[0;34m]\u001b[0m \u001b[0;34m!=\u001b[0m \u001b[0;36m2000\u001b[0m\u001b[0;34m:\u001b[0m\u001b[0;34m\u001b[0m\u001b[0;34m\u001b[0m\u001b[0m\n\u001b[0m\u001b[1;32m      7\u001b[0m         \u001b[0mdiff_2020\u001b[0m\u001b[0;34m.\u001b[0m\u001b[0mappend\u001b[0m\u001b[0;34m(\u001b[0m\u001b[0mpelis\u001b[0m\u001b[0;34m)\u001b[0m\u001b[0;34m\u001b[0m\u001b[0;34m\u001b[0m\u001b[0m\n\u001b[1;32m      8\u001b[0m     \u001b[0;32melse\u001b[0m\u001b[0;34m:\u001b[0m\u001b[0;34m\u001b[0m\u001b[0;34m\u001b[0m\u001b[0m\n",
      "\u001b[0;31mTypeError\u001b[0m: 'NoneType' object is not subscriptable"
     ]
    }
   ],
   "source": [
    "diff_2020 = []\n",
    "\n",
    "\n",
    "    for peli in pelis_drama:\n",
    "\n",
    "    index = 0\n",
    "    if pelis_drama[\"results\"][index]['releaseDate']['year'] != 2000:\n",
    "        diff_2020.append(pelis)\n",
    "    else:\n",
    "        index +=1\n",
    "\n"
   ]
  },
  {
   "cell_type": "code",
   "execution_count": 65,
   "metadata": {},
   "outputs": [
    {
     "name": "stdout",
     "output_type": "stream",
     "text": [
      "1\n",
      "2\n"
     ]
    }
   ],
   "source": [
    "indice = 0\n",
    "\n",
    "while indice <=1:\n",
    "    indice += 1\n",
    "    for \n",
    "\n",
    "   #for peli in pelis_drama:\n",
    "    \n",
    "        \n",
    "\n",
    "          \n"
   ]
  }
 ],
 "metadata": {
  "kernelspec": {
   "display_name": "base",
   "language": "python",
   "name": "python3"
  },
  "language_info": {
   "codemirror_mode": {
    "name": "ipython",
    "version": 3
   },
   "file_extension": ".py",
   "mimetype": "text/x-python",
   "name": "python",
   "nbconvert_exporter": "python",
   "pygments_lexer": "ipython3",
   "version": "3.9.7"
  }
 },
 "nbformat": 4,
 "nbformat_minor": 2
}
