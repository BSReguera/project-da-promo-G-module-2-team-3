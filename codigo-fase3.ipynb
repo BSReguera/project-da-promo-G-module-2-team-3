{
 "cells": [
  {
   "cell_type": "code",
   "execution_count": null,
   "metadata": {},
   "outputs": [],
   "source": [
    "import pandas as pd\n",
    "import random\n",
    "import numpy as np\n",
    "\n",
    "from bs4 import BeautifulSoup\n",
    "import requests\n",
    "import re\n",
    "import json\n",
    "import csv\n",
    "\n",
    "from selenium import webdriver  \n",
    "from webdriver_manager.chrome import ChromeDriverManager  \n",
    "from selenium.webdriver.common.keys import Keys  \n",
    "from selenium.webdriver.support.ui import Select \n",
    "\n",
    "from time import sleep\n",
    "\n",
    "pd.set_option('display.max_columns', None)"
   ]
  },
  {
   "cell_type": "markdown",
   "metadata": {},
   "source": [
    "## url películas"
   ]
  },
  {
   "cell_type": "code",
   "execution_count": null,
   "metadata": {},
   "outputs": [],
   "source": [
    "with open ('AccionDrama.json', 'r') as fichero:\n",
    "    busqueda = json.load(fichero)"
   ]
  },
  {
   "cell_type": "code",
   "execution_count": null,
   "metadata": {},
   "outputs": [],
   "source": [
    "lista_url = []"
   ]
  },
  {
   "cell_type": "code",
   "execution_count": null,
   "metadata": {},
   "outputs": [],
   "source": [
    "for pelicula in busqueda:\n",
    "    lista_url.append(f'https://www.imdb.com/title/{pelicula[0]}/fullcredits/?ref_=tt_ql_1')"
   ]
  },
  {
   "cell_type": "code",
   "execution_count": null,
   "metadata": {},
   "outputs": [],
   "source": [
    "lista_peliculas_y_actores = []\n",
    "lista_todos_id = []"
   ]
  },
  {
   "cell_type": "markdown",
   "metadata": {},
   "source": [
    "## id actores en imdb"
   ]
  },
  {
   "cell_type": "code",
   "execution_count": null,
   "metadata": {},
   "outputs": [],
   "source": [
    "for url in lista_url:\n",
    "    driver = webdriver.Chrome()\n",
    "    driver.get(url)\n",
    "    driver.maximize_window()\n",
    "\n",
    "    # cookies\n",
    "    try:\n",
    "        driver.find_element('css selector', '#imdb-bmo-footer > div > div > div.sc-jrcTuL.bPmWiM > div > button.icb-btn.sc-bcXHqe.sc-hLBbgP.sc-ftTHYK.dcvrLS.dufgkr.ecppKW').click()\n",
    "    except:\n",
    "        pass\n",
    "\n",
    "    sleep(1)\n",
    "\n",
    "    id_actores_por_peli = [url]\n",
    "    lista_href = []\n",
    "\n",
    "    for actor in range (2, 12):\n",
    "        xpath_actor = driver.find_element('xpath', f'//*[@id=\"fullcredits_content\"]/table[3]/tbody/tr[{actor}]/td[2]/a')\n",
    "        href_actor = xpath_actor.get_attribute('href')\n",
    "        print(f'Voy por href: {href_actor}')\n",
    "        lista_href.append(href_actor)\n",
    "\n",
    "    for href in lista_href:\n",
    "        patron_id = r'/name/(\\w+)/'\n",
    "        if 'https' in href:\n",
    "            resultado = re.search(patron_id, href)\n",
    "            id = resultado.group(1)\n",
    "            print(f'Voy por id: {id}')\n",
    "            id_actores_por_peli.append(id)\n",
    "            lista_todos_id.append(id)\n",
    "    \n",
    "    driver.close()        \n",
    "    \n",
    "    lista_peliculas_y_actores.append(id_actores_por_peli)"
   ]
  },
  {
   "cell_type": "markdown",
   "metadata": {},
   "source": [
    "## llamada a la api de actores"
   ]
  },
  {
   "cell_type": "code",
   "execution_count": null,
   "metadata": {},
   "outputs": [],
   "source": [
    "json_info_actores = []"
   ]
  },
  {
   "cell_type": "code",
   "execution_count": null,
   "metadata": {},
   "outputs": [],
   "source": [
    "for id in lista_todos_id:\n",
    "\n",
    "    url = f\"https://moviesdatabase.p.rapidapi.com/actors/{id}\"\n",
    "    headers = {\n",
    "        \"X-RapidAPI-Key\": \"902358e2e8msh3d16b2ef47d6b52p1fc5dajsnb0a5bd959614\",\n",
    "        \"X-RapidAPI-Host\": \"moviesdatabase.p.rapidapi.com\"\n",
    "    }\n",
    "    \n",
    "    response = requests.get(url, headers=headers)\n",
    "\n",
    "    json_info_actores(response.json())"
   ]
  }
 ],
 "metadata": {
  "language_info": {
   "name": "python"
  }
 },
 "nbformat": 4,
 "nbformat_minor": 2
}
