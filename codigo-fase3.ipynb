{
 "cells": [
  {
   "cell_type": "code",
   "execution_count": null,
   "metadata": {},
   "outputs": [],
   "source": [
    "import pandas as pd\n",
    "import random\n",
    "import numpy as np\n",
    "\n",
    "from bs4 import BeautifulSoup\n",
    "import requests\n",
    "import re\n",
    "import json\n",
    "import csv\n",
    "\n",
    "from selenium import webdriver  \n",
    "from webdriver_manager.chrome import ChromeDriverManager  \n",
    "from selenium.webdriver.common.keys import Keys  \n",
    "from selenium.webdriver.support.ui import Select \n",
    "\n",
    "from time import sleep\n",
    "\n",
    "pd.set_option('display.max_columns', None)"
   ]
  },
  {
   "cell_type": "markdown",
   "metadata": {},
   "source": [
    "## url películas"
   ]
  },
  {
   "cell_type": "code",
   "execution_count": null,
   "metadata": {},
   "outputs": [],
   "source": [
    "with open ('AccionDrama.json', 'r') as fichero:\n",
    "    busqueda = json.load(fichero)"
   ]
  },
  {
   "cell_type": "code",
   "execution_count": null,
   "metadata": {},
   "outputs": [],
   "source": [
    "lista_url = []"
   ]
  },
  {
   "cell_type": "code",
   "execution_count": null,
   "metadata": {},
   "outputs": [],
   "source": [
    "for pelicula in busqueda:\n",
    "    lista_url.append(f'https://www.imdb.com/title/{pelicula[0]}/fullcredits/?ref_=tt_ql_1')"
   ]
  },
  {
   "cell_type": "markdown",
   "metadata": {},
   "source": [
    "## id actores en imdb"
   ]
  },
  {
   "cell_type": "code",
   "execution_count": null,
   "metadata": {},
   "outputs": [],
   "source": [
    "lista_peliculas_y_actores = []\n",
    "lista_todos_id = []"
   ]
  },
  {
   "cell_type": "code",
   "execution_count": null,
   "metadata": {},
   "outputs": [],
   "source": [
    "for url in lista_url:\n",
    "    driver = webdriver.Chrome()\n",
    "    driver.get(url)\n",
    "    driver.maximize_window()\n",
    "\n",
    "    # cookies\n",
    "    try:\n",
    "        driver.find_element('css selector', '#imdb-bmo-footer > div > div > div.sc-jrcTuL.bPmWiM > div > button.icb-btn.sc-bcXHqe.sc-hLBbgP.sc-ftTHYK.dcvrLS.dufgkr.ecppKW').click()\n",
    "    except:\n",
    "        pass\n",
    "\n",
    "    sleep(1)\n",
    "\n",
    "    id_actores_por_peli = [url]\n",
    "    lista_href = []\n",
    "\n",
    "    for actor in range (2, 12):\n",
    "        xpath_actor = driver.find_element('xpath', f'//*[@id=\"fullcredits_content\"]/table[3]/tbody/tr[{actor}]/td[2]/a')\n",
    "        href_actor = xpath_actor.get_attribute('href')\n",
    "        print(f'Voy por href: {href_actor}')\n",
    "        lista_href.append(href_actor)\n",
    "\n",
    "    for href in lista_href:\n",
    "        patron_id = r'/name/(\\w+)/'\n",
    "        if 'https' in href:\n",
    "            resultado = re.search(patron_id, href)\n",
    "            id = resultado.group(1)\n",
    "            print(f'Voy por id: {id}')\n",
    "            id_actores_por_peli.append(id)\n",
    "            lista_todos_id.append(id)\n",
    "    \n",
    "    driver.close()        \n",
    "    \n",
    "    lista_peliculas_y_actores.append(id_actores_por_peli)"
   ]
  },
  {
   "cell_type": "markdown",
   "metadata": {},
   "source": [
    "## llamada a la api de actores"
   ]
  },
  {
   "cell_type": "code",
   "execution_count": null,
   "metadata": {},
   "outputs": [],
   "source": [
    "json_info_actores = []"
   ]
  },
  {
   "cell_type": "code",
   "execution_count": null,
   "metadata": {},
   "outputs": [],
   "source": [
    "contador = 0\n",
    "for id in lista_todos_id:\n",
    "    contador += 1\n",
    "\n",
    "    url = f\"https://moviesdatabase.p.rapidapi.com/actors/{id}\"\n",
    "    headers = {\n",
    "        \"X-RapidAPI-Key\": \"{vuestra API-Key}\",\n",
    "        \"X-RapidAPI-Host\": \"moviesdatabase.p.rapidapi.com\"\n",
    "    }\n",
    "    \n",
    "    response = requests.get(url, headers=headers)\n",
    "    print(f'({contador} - Actor {id}: {response.status_code}')\n",
    "\n",
    "    json_info_actores.append(response.json())"
   ]
  },
  {
   "cell_type": "markdown",
   "metadata": {},
   "source": [
    "### actores awards\n"
   ]
  },
  {
   "cell_type": "code",
   "execution_count": null,
   "metadata": {},
   "outputs": [],
   "source": [
    "df_actores = pd.read_csv(\"../Fase3_datos/Archivos_definitivos/Actores.csv\")\n",
    "v_actores = df_actores.to_numpy().transpose().tolist()\n",
    "actores = v_actores[1]\n",
    "actores"
   ]
  },
  {
   "cell_type": "code",
   "execution_count": null,
   "metadata": {},
   "outputs": [],
   "source": [
    "driver = webdriver.Chrome()\n",
    "\n",
    "contador = 0\n",
    "todos_actores_awards = []\n",
    "for id in actores:\n",
    "    contador +=1\n",
    "    print(f'Actor {contador}/{(len(actores))}')\n",
    "    actor_awards = [id,]\n",
    "    try:\n",
    "        \n",
    "        driver.get(f'https://m.imdb.com/name/{id}/awards/')\n",
    "        sleep(1)\n",
    "        try:\n",
    "            driver.find_element('css selector', '#__next > div > div > div.sc-jrcTuL.bPmWiM > div > button.icb-btn.sc-bcXHqe.sc-hLBbgP.sc-ftTHYK.dcvrLS.dufgkr.ecppKW').click()\n",
    "        except:\n",
    "            pass                                    \n",
    "        \n",
    "        list_raw_awards = []\n",
    "        for child in range(1, 100):\n",
    "            try:\n",
    "                premio = driver.find_element('css selector', f'#__next > main > div > section > div > section > div > div.sc-978e9339-1.ihWZgK.ipc-page-grid__item.ipc-page-grid__item--span-2 > section:nth-child({child})').text.split('\\n')\n",
    "                                                                \n",
    "                list_raw_awards.append(premio)\n",
    "            except:\n",
    "                pass\n",
    "        \n",
    "        actor_awards.append(list_raw_awards)\n",
    "    \n",
    "    except:\n",
    "        pass\n",
    "\n",
    "    todos_actores_awards.append(actor_awards)"
   ]
  },
  {
   "cell_type": "code",
   "execution_count": null,
   "metadata": {},
   "outputs": [],
   "source": [
    "patron = r'Ganador\\s(.*)'\n",
    "\n",
    "todos_actores_limpio = [] \n",
    "\n",
    "for lista in todos_actores_awards:\n",
    "\n",
    "    actor_premios = [lista[0]]\n",
    "\n",
    "    for elemento in lista[1]:\n",
    "        \n",
    "        for indice, linea in enumerate(elemento):\n",
    "\n",
    "            if 'Ganador' in linea:\n",
    "                resultado = re.search(patron, linea)\n",
    "                titulo = resultado.group(1)\n",
    "                premio_completo = f'{elemento[0]}, {titulo}'\n",
    "                actor_premios.append(premio_completo)\n",
    "    \n",
    "    todos_actores_limpio.append(actor_premios)"
   ]
  },
  {
   "cell_type": "code",
   "execution_count": null,
   "metadata": {},
   "outputs": [],
   "source": [
    "lista_final = []"
   ]
  },
  {
   "cell_type": "code",
   "execution_count": null,
   "metadata": {},
   "outputs": [],
   "source": [
    "for lista in todos_actores_limpio:\n",
    "    if len(lista) == 1:\n",
    "        lista.append(np.nan)\n",
    "\n",
    "# lista_final = []\n",
    "\n",
    "for lista in todos_actores_limpio:\n",
    "    \n",
    "    for elemento in lista[1:]:\n",
    "        lista_intermedia = [lista[0],]\n",
    "        lista_intermedia.append(elemento)\n",
    "        lista_final.append(lista_intermedia)"
   ]
  }
 ],
 "metadata": {
  "kernelspec": {
   "display_name": "Python 3",
   "language": "python",
   "name": "python3"
  },
  "language_info": {
   "codemirror_mode": {
    "name": "ipython",
    "version": 3
   },
   "file_extension": ".py",
   "mimetype": "text/x-python",
   "name": "python",
   "nbconvert_exporter": "python",
   "pygments_lexer": "ipython3",
   "version": "3.11.8"
  }
 },
 "nbformat": 4,
 "nbformat_minor": 2
}
