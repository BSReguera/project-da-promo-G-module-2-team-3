{
 "cells": [
  {
   "cell_type": "code",
   "execution_count": 2,
   "metadata": {},
   "outputs": [],
   "source": [
    "# Importaciones necesarias\n",
    "import pandas as pd"
   ]
  },
  {
   "cell_type": "code",
   "execution_count": null,
   "metadata": {},
   "outputs": [],
   "source": [
    "# LIMPIEZA DE DUPLICADOS"
   ]
  },
  {
   "cell_type": "code",
   "execution_count": 3,
   "metadata": {},
   "outputs": [],
   "source": [
    "# 1. ACCION\n",
    "# Leer el archivo CSV\n",
    "df = pd.read_csv('tupla_accion.csv')\n",
    "\n",
    "# Eliminar duplicados basados en todas las columnas\n",
    "df_sin_duplicados = df.drop_duplicates()\n",
    "\n",
    "# Guardar el DataFrame sin duplicados en un nuevo archivo CSV\n",
    "df_sin_duplicados.to_csv('tupla_accion_sin_duplicados.csv', index=False)"
   ]
  },
  {
   "cell_type": "code",
   "execution_count": 4,
   "metadata": {},
   "outputs": [],
   "source": [
    "# 2. COMEDIA\n",
    "# Leer el archivo CSV\n",
    "df = pd.read_csv('tupla_comedia.csv')\n",
    "\n",
    "# Eliminar duplicados basados en todas las columnas\n",
    "df_sin_duplicados = df.drop_duplicates()\n",
    "\n",
    "# Guardar el DataFrame sin duplicados en un nuevo archivo CSV\n",
    "df_sin_duplicados.to_csv('tupla_comedia_sin_duplicados.csv', index=False)"
   ]
  },
  {
   "cell_type": "code",
   "execution_count": 5,
   "metadata": {},
   "outputs": [],
   "source": [
    "# 3. DRAMA\n",
    "# Leer el archivo CSV\n",
    "df = pd.read_csv('tupla_drama.csv')\n",
    "\n",
    "# Eliminar duplicados basados en todas las columnas\n",
    "df_sin_duplicados = df.drop_duplicates()\n",
    "\n",
    "# Guardar el DataFrame sin duplicados en un nuevo archivo CSV\n",
    "df_sin_duplicados.to_csv('tupla_drama_sin_duplicados.csv', index=False)"
   ]
  },
  {
   "cell_type": "code",
   "execution_count": null,
   "metadata": {},
   "outputs": [],
   "source": [
    "# AGRUPACION 3 GENEROS EN 1 CSV"
   ]
  },
  {
   "cell_type": "code",
   "execution_count": 7,
   "metadata": {},
   "outputs": [],
   "source": [
    "# Lee los tres archivos CSV en DataFrames\n",
    "df1 = pd.read_csv('tupla_accion_sin_duplicados.csv')\n",
    "df2 = pd.read_csv('tupla_comedia_sin_duplicados.csv')\n",
    "df3 = pd.read_csv('tupla_drama_sin_duplicados.csv')\n",
    "\n",
    "# Combina los DataFrames en uno solo\n",
    "df_fase1 = pd.concat([df1, df2, df3], ignore_index=True)"
   ]
  },
  {
   "cell_type": "code",
   "execution_count": 8,
   "metadata": {},
   "outputs": [],
   "source": [
    "# Guarda el DataFrame combinado en un nuevo archivo CSV\n",
    "df_fase1.to_csv('fase1_agrupacion_completo.csv', index=False)"
   ]
  },
  {
   "cell_type": "code",
   "execution_count": null,
   "metadata": {},
   "outputs": [],
   "source": [
    "# RENOMBRAR COLUMNAS"
   ]
  },
  {
   "cell_type": "code",
   "execution_count": 6,
   "metadata": {},
   "outputs": [],
   "source": [
    "import numpy as np\n",
    "import json\n",
    "import pandas as pd"
   ]
  },
  {
   "cell_type": "code",
   "execution_count": null,
   "metadata": {},
   "outputs": [],
   "source": [
    "columnas_fase1= ['id_pelicula','Genero', 'Nombre','Tipo','Año_estreno','Mes_estreno']"
   ]
  },
  {
   "cell_type": "code",
   "execution_count": 9,
   "metadata": {},
   "outputs": [],
   "source": [
    "fase1_preparacion = pd.read_csv(\"fase1_agrupacion_completo.csv\")"
   ]
  },
  {
   "cell_type": "code",
   "execution_count": 10,
   "metadata": {},
   "outputs": [
    {
     "data": {
      "text/html": [
       "<div>\n",
       "<style scoped>\n",
       "    .dataframe tbody tr th:only-of-type {\n",
       "        vertical-align: middle;\n",
       "    }\n",
       "\n",
       "    .dataframe tbody tr th {\n",
       "        vertical-align: top;\n",
       "    }\n",
       "\n",
       "    .dataframe thead th {\n",
       "        text-align: right;\n",
       "    }\n",
       "</style>\n",
       "<table border=\"1\" class=\"dataframe\">\n",
       "  <thead>\n",
       "    <tr style=\"text-align: right;\">\n",
       "      <th></th>\n",
       "      <th>0</th>\n",
       "      <th>1</th>\n",
       "      <th>2</th>\n",
       "      <th>3</th>\n",
       "      <th>4</th>\n",
       "      <th>5</th>\n",
       "    </tr>\n",
       "  </thead>\n",
       "  <tbody>\n",
       "    <tr>\n",
       "      <th>0</th>\n",
       "      <td>tt0113092</td>\n",
       "      <td>accion</td>\n",
       "      <td>For the Cause</td>\n",
       "      <td>movie</td>\n",
       "      <td>2002</td>\n",
       "      <td>5</td>\n",
       "    </tr>\n",
       "    <tr>\n",
       "      <th>1</th>\n",
       "      <td>tt0116391</td>\n",
       "      <td>accion</td>\n",
       "      <td>Gang</td>\n",
       "      <td>movie</td>\n",
       "      <td>2000</td>\n",
       "      <td>4</td>\n",
       "    </tr>\n",
       "    <tr>\n",
       "      <th>2</th>\n",
       "      <td>tt0116628</td>\n",
       "      <td>accion</td>\n",
       "      <td>The Incorporated</td>\n",
       "      <td>movie</td>\n",
       "      <td>2000</td>\n",
       "      <td>NaN</td>\n",
       "    </tr>\n",
       "    <tr>\n",
       "      <th>3</th>\n",
       "      <td>tt0119273</td>\n",
       "      <td>accion</td>\n",
       "      <td>Heavy Metal 2000</td>\n",
       "      <td>movie</td>\n",
       "      <td>2000</td>\n",
       "      <td>5</td>\n",
       "    </tr>\n",
       "    <tr>\n",
       "      <th>4</th>\n",
       "      <td>tt0120755</td>\n",
       "      <td>accion</td>\n",
       "      <td>Mission: Impossible II</td>\n",
       "      <td>movie</td>\n",
       "      <td>2000</td>\n",
       "      <td>7</td>\n",
       "    </tr>\n",
       "  </tbody>\n",
       "</table>\n",
       "</div>"
      ],
      "text/plain": [
       "           0       1                       2      3     4    5\n",
       "0  tt0113092  accion           For the Cause  movie  2002    5\n",
       "1  tt0116391  accion                    Gang  movie  2000    4\n",
       "2  tt0116628  accion        The Incorporated  movie  2000  NaN\n",
       "3  tt0119273  accion        Heavy Metal 2000  movie  2000    5\n",
       "4  tt0120755  accion  Mission: Impossible II  movie  2000    7"
      ]
     },
     "execution_count": 10,
     "metadata": {},
     "output_type": "execute_result"
    }
   ],
   "source": [
    "fase1_preparacion.head()"
   ]
  },
  {
   "cell_type": "code",
   "execution_count": 11,
   "metadata": {},
   "outputs": [
    {
     "data": {
      "text/plain": [
       "Index(['0', '1', '2', '3', '4', '5'], dtype='object')"
      ]
     },
     "execution_count": 11,
     "metadata": {},
     "output_type": "execute_result"
    }
   ],
   "source": [
    "fase1_preparacion.columns"
   ]
  },
  {
   "cell_type": "code",
   "execution_count": 12,
   "metadata": {},
   "outputs": [],
   "source": [
    "fase1_OK = fase1_preparacion.rename(columns={'0':'id_pelicula','1':'Genero','2':'Nombre','3':'Tipo','4':'Año_estreno','5':'Mes_estreno'})"
   ]
  },
  {
   "cell_type": "code",
   "execution_count": 13,
   "metadata": {},
   "outputs": [
    {
     "data": {
      "text/html": [
       "<div>\n",
       "<style scoped>\n",
       "    .dataframe tbody tr th:only-of-type {\n",
       "        vertical-align: middle;\n",
       "    }\n",
       "\n",
       "    .dataframe tbody tr th {\n",
       "        vertical-align: top;\n",
       "    }\n",
       "\n",
       "    .dataframe thead th {\n",
       "        text-align: right;\n",
       "    }\n",
       "</style>\n",
       "<table border=\"1\" class=\"dataframe\">\n",
       "  <thead>\n",
       "    <tr style=\"text-align: right;\">\n",
       "      <th></th>\n",
       "      <th>id_pelicula</th>\n",
       "      <th>Genero</th>\n",
       "      <th>Nombre</th>\n",
       "      <th>Tipo</th>\n",
       "      <th>Año_estreno</th>\n",
       "      <th>Mes_estreno</th>\n",
       "    </tr>\n",
       "  </thead>\n",
       "  <tbody>\n",
       "    <tr>\n",
       "      <th>0</th>\n",
       "      <td>tt0113092</td>\n",
       "      <td>accion</td>\n",
       "      <td>For the Cause</td>\n",
       "      <td>movie</td>\n",
       "      <td>2002</td>\n",
       "      <td>5</td>\n",
       "    </tr>\n",
       "    <tr>\n",
       "      <th>1</th>\n",
       "      <td>tt0116391</td>\n",
       "      <td>accion</td>\n",
       "      <td>Gang</td>\n",
       "      <td>movie</td>\n",
       "      <td>2000</td>\n",
       "      <td>4</td>\n",
       "    </tr>\n",
       "    <tr>\n",
       "      <th>2</th>\n",
       "      <td>tt0116628</td>\n",
       "      <td>accion</td>\n",
       "      <td>The Incorporated</td>\n",
       "      <td>movie</td>\n",
       "      <td>2000</td>\n",
       "      <td>NaN</td>\n",
       "    </tr>\n",
       "    <tr>\n",
       "      <th>3</th>\n",
       "      <td>tt0119273</td>\n",
       "      <td>accion</td>\n",
       "      <td>Heavy Metal 2000</td>\n",
       "      <td>movie</td>\n",
       "      <td>2000</td>\n",
       "      <td>5</td>\n",
       "    </tr>\n",
       "    <tr>\n",
       "      <th>4</th>\n",
       "      <td>tt0120755</td>\n",
       "      <td>accion</td>\n",
       "      <td>Mission: Impossible II</td>\n",
       "      <td>movie</td>\n",
       "      <td>2000</td>\n",
       "      <td>7</td>\n",
       "    </tr>\n",
       "    <tr>\n",
       "      <th>...</th>\n",
       "      <td>...</td>\n",
       "      <td>...</td>\n",
       "      <td>...</td>\n",
       "      <td>...</td>\n",
       "      <td>...</td>\n",
       "      <td>...</td>\n",
       "    </tr>\n",
       "    <tr>\n",
       "      <th>13472</th>\n",
       "      <td>tt16437278</td>\n",
       "      <td>drama</td>\n",
       "      <td>The Strays</td>\n",
       "      <td>movie</td>\n",
       "      <td>2023</td>\n",
       "      <td>2</td>\n",
       "    </tr>\n",
       "    <tr>\n",
       "      <th>13473</th>\n",
       "      <td>tt7984562</td>\n",
       "      <td>drama</td>\n",
       "      <td>Statica</td>\n",
       "      <td>movie</td>\n",
       "      <td>2023</td>\n",
       "      <td>3</td>\n",
       "    </tr>\n",
       "    <tr>\n",
       "      <th>13474</th>\n",
       "      <td>tt16431882</td>\n",
       "      <td>drama</td>\n",
       "      <td>Brooklyn 45</td>\n",
       "      <td>movie</td>\n",
       "      <td>2023</td>\n",
       "      <td>6</td>\n",
       "    </tr>\n",
       "    <tr>\n",
       "      <th>13475</th>\n",
       "      <td>tt16369708</td>\n",
       "      <td>drama</td>\n",
       "      <td>Yaneura no Raja</td>\n",
       "      <td>movie</td>\n",
       "      <td>2023</td>\n",
       "      <td>12</td>\n",
       "    </tr>\n",
       "    <tr>\n",
       "      <th>13476</th>\n",
       "      <td>tt8593824</td>\n",
       "      <td>drama</td>\n",
       "      <td>The Old Way</td>\n",
       "      <td>movie</td>\n",
       "      <td>2023</td>\n",
       "      <td>6</td>\n",
       "    </tr>\n",
       "  </tbody>\n",
       "</table>\n",
       "<p>13477 rows × 6 columns</p>\n",
       "</div>"
      ],
      "text/plain": [
       "      id_pelicula  Genero                  Nombre   Tipo Año_estreno  \\\n",
       "0       tt0113092  accion           For the Cause  movie        2002   \n",
       "1       tt0116391  accion                    Gang  movie        2000   \n",
       "2       tt0116628  accion        The Incorporated  movie        2000   \n",
       "3       tt0119273  accion        Heavy Metal 2000  movie        2000   \n",
       "4       tt0120755  accion  Mission: Impossible II  movie        2000   \n",
       "...           ...     ...                     ...    ...         ...   \n",
       "13472  tt16437278   drama              The Strays  movie        2023   \n",
       "13473   tt7984562   drama                 Statica  movie        2023   \n",
       "13474  tt16431882   drama             Brooklyn 45  movie        2023   \n",
       "13475  tt16369708   drama         Yaneura no Raja  movie        2023   \n",
       "13476   tt8593824   drama             The Old Way  movie        2023   \n",
       "\n",
       "      Mes_estreno  \n",
       "0               5  \n",
       "1               4  \n",
       "2             NaN  \n",
       "3               5  \n",
       "4               7  \n",
       "...           ...  \n",
       "13472           2  \n",
       "13473           3  \n",
       "13474           6  \n",
       "13475          12  \n",
       "13476           6  \n",
       "\n",
       "[13477 rows x 6 columns]"
      ]
     },
     "execution_count": 13,
     "metadata": {},
     "output_type": "execute_result"
    }
   ],
   "source": [
    "fase1_OK"
   ]
  },
  {
   "cell_type": "code",
   "execution_count": 14,
   "metadata": {},
   "outputs": [
    {
     "data": {
      "text/plain": [
       "13477"
      ]
     },
     "execution_count": 14,
     "metadata": {},
     "output_type": "execute_result"
    }
   ],
   "source": [
    "len(fase1_OK)"
   ]
  },
  {
   "cell_type": "code",
   "execution_count": null,
   "metadata": {},
   "outputs": [],
   "source": [
    "# Guardar el DataFrame sin duplicados en un nuevo archivo CSV\n",
    "fase1_OK.to_csv('fase1_total_completo.csv', index=False)"
   ]
  },
  {
   "cell_type": "code",
   "execution_count": 4,
   "metadata": {},
   "outputs": [],
   "source": [
    "#renombrar las columnas para adaptarlas a la tabla en SQL\n",
    "df = pd.read_csv('fase1_total_completo.csv')\n",
    "\n",
    "df.rename(columns={'Nombre':\"Titulo\"}, inplace=True)\n",
    "\n",
    "df.to_csv('fase1_total_completo.csv', index=False)"
   ]
  }
 ],
 "metadata": {
  "kernelspec": {
   "display_name": "base",
   "language": "python",
   "name": "python3"
  },
  "language_info": {
   "codemirror_mode": {
    "name": "ipython",
    "version": 3
   },
   "file_extension": ".py",
   "mimetype": "text/x-python",
   "name": "python",
   "nbconvert_exporter": "python",
   "pygments_lexer": "ipython3",
   "version": "3.9.7"
  }
 },
 "nbformat": 4,
 "nbformat_minor": 2
}
