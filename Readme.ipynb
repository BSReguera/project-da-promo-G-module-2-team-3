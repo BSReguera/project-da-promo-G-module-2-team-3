{
 "cells": [
  {
   "cell_type": "markdown",
   "metadata": {},
   "source": [
    "## README - CINEMETRIX- PROYECTO 2- EQUIPO 3 "
   ]
  },
  {
   "cell_type": "markdown",
   "metadata": {},
   "source": [
    "\n",
    "## Proyecto CinemExtract: Explorando el Séptimo Arte a través de Datos y Tecnología\n",
    "\n",
    "1. Introducción\n",
    "La plataforma de streaming BHO busca mejorar la calidad de su contenido y la satisfacción de sus usuarios mediante la aplicación de técnicas de análisis de datos. El proyecto CinemExtract tiene como objetivo identificar las películas y cortometrajes más populares y mejor valorados desde el año 2000 hasta la fecha, utilizando diversas fuentes de datos y tecnologías. Esto permitirá a BHO tomar decisiones informadas sobre qué contenido promocionar y destacar en su plataforma.\n",
    "\n",
    "2. Documentación\n",
    "La documentación detallada del proyecto se encuentra en el repositorio, estructurado por fases:\n",
    "\n",
    "Fase 1\n",
    "Fase 2\n",
    "Fase 3\n",
    "Fase 4\n",
    "Fase 5\n",
    "Fase 6\n",
    "Fase 7\n",
    "\n",
    "3. Tecnologías Utilizadas\n",
    "\n",
    "API:\n",
    "    La API de MoviesDataset se utiliza para extraer información sobre películas, como títulos, géneros y años de lanzamiento. Además, se utilizan APIs de sitios web como IMDB y Rotten Tomatoes para obtener información detallada sobre películas, como puntuaciones, directores y actores. Estas APIs se integran con Selenium para automatizar la extracción de datos de las páginas web correspondientes.\n",
    "\n",
    "Selenium:\n",
    "    Se utiliza Selenium para la extracción de detalles de películas y actores desde sitios web como IMDB y Rotten Tomatoes. Selenium permite la automatización del navegador web, lo que facilita la navegación a través de las páginas web y la extracción de información específica, como puntuaciones, directores, actores, etc.\n",
    "\n",
    "Beautiful Soup:\n",
    "    Se utiliza Beautiful Soup para extraer información relevante de las tablas de los Premios Oscar desde 2000. Beautiful Soup es una biblioteca de Python que permite analizar y extraer datos de archivos HTML y XML. En este caso, se utiliza para analizar el contenido de las tablas HTML de los Premios Oscar y extraer información como la fecha de la ceremonia, mejor película, mejor director, etc.\n",
    "\n",
    "HTML:\n",
    "    El lenguaje HTML se utiliza para estructurar el contenido de las páginas web que se analizan con Selenium y se extraen con Beautiful Soup. Además, se puede utilizar HTML para generar informes o visualizaciones de datos.\n",
    "\n",
    "CSV:\n",
    "    Se utiliza el formato CSV (Comma Separated Values) para almacenar datos de manera tabular, como las listas de películas extraídas de la API de MoviesDataset. Este formato es fácil de leer y escribir, y es compatible con una amplia variedad de software, lo que lo hace ideal para el intercambio de datos.\n",
    "\n",
    "JSON:\n",
    "    Se utiliza el formato JSON (JavaScript Object Notation) para almacenar y estructurar datos de manera jerárquica, como la información detallada de las películas y actores extraídos con Selenium. JSON es fácilmente legible por humanos y también es fácil de analizar y generar en Python, lo que lo hace útil para el intercambio de datos entre diferentes sistemas y aplicaciones.\n",
    "    \n",
    "Python:\n",
    "    Python es el lenguaje de programación principal utilizado en todo el proyecto. Se utiliza para escribir scripts que realizan la extracción, procesamiento, análisis y almacenamiento de datos. Python ofrece una amplia gama de bibliotecas y herramientas que facilitan el desarrollo de aplicaciones de análisis de datos y web scraping, lo que lo convierte en una opción popular para proyectos como CinemExtract.\n",
    "\n",
    "4. Preguntas Frecuentes\n",
    "    1. ¿Cuáles son las principales tecnologías utilizadas en el proyecto?\n",
    "Las principales tecnologías utilizadas son API, Selenium, Beautiful Soup, HTML, CSV, JSON y Python.\n",
    "    2. ¿Qué información se extrae de las películas y cortometrajes?\n",
    "Se extrae información como el título, género, año de estreno, director, actores, puntuaciones, entre otros.\n",
    "    3. ¿Cómo se organiza la base de datos?\n",
    "La base de datos se estructura de acuerdo a las tablas necesarias para almacenar la información de películas, actores, premios, etc.\n",
    "\n",
    "5. Información de Contacto\n",
    "Para cualquier consulta o colaboración, puedes contactarnos a través de:\n",
    "\n",
    "Página web: www.cinemetrics.com\n",
    "Correo electrónico: hola@cinemetrics.com\n",
    "Teléfono: +91 527 8903\n",
    "Instagram: @cinemetrics\n",
    "\n",
    "6. Agradecimientos\n",
    "Queremos expresar nuestro agradecimiento a todo el equipo involucrado en el proyecto, así como a nuestras compañeras por su apoyo y ayuda en caso de consulta. También agradecemos a nuestros profesores por su apoyo ante la resolución de conflictos en el código y en el aspecto teórico.\n",
    "\n",
    "¡Gracias a todos por hacer posible este proyecto!\n",
    "\n"
   ]
  }
 ],
 "metadata": {
  "language_info": {
   "name": "python"
  }
 },
 "nbformat": 4,
 "nbformat_minor": 2
}
