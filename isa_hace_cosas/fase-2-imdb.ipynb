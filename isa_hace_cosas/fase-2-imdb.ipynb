{
 "cells": [
  {
   "cell_type": "code",
   "execution_count": 1,
   "metadata": {},
   "outputs": [
    {
     "name": "stderr",
     "output_type": "stream",
     "text": [
      "C:\\Users\\Isabel\\AppData\\Local\\Temp\\ipykernel_7444\\3864169933.py:1: DeprecationWarning: \n",
      "Pyarrow will become a required dependency of pandas in the next major release of pandas (pandas 3.0),\n",
      "(to allow more performant data types, such as the Arrow string type, and better interoperability with other libraries)\n",
      "but was not found to be installed on your system.\n",
      "If this would cause problems for you,\n",
      "please provide us feedback at https://github.com/pandas-dev/pandas/issues/54466\n",
      "        \n",
      "  import pandas as pd\n"
     ]
    }
   ],
   "source": [
    "import pandas as pd\n",
    "import random\n",
    "import numpy\n",
    "\n",
    "from bs4 import BeautifulSoup\n",
    "import requests\n",
    "import re\n",
    "import json\n",
    "import csv\n",
    "\n",
    "from selenium import webdriver  \n",
    "from webdriver_manager.chrome import ChromeDriverManager  \n",
    "from selenium.webdriver.common.keys import Keys  \n",
    "from selenium.webdriver.support.ui import Select \n",
    "\n",
    "from time import sleep\n",
    "\n",
    "pd.set_option('display.max_columns', None)"
   ]
  },
  {
   "cell_type": "code",
   "execution_count": null,
   "metadata": {},
   "outputs": [],
   "source": [
    "# llegar a web:\n",
    "driver = webdriver.Chrome()\n",
    "driver.get('https://www.imdb.com/')\n",
    "driver.maximize_window()\n",
    "sleep(random.randint(1,3))\n",
    "\n",
    "\n",
    "# rechazar cookies\n",
    "driver.find_element('css selector', '#__next > div > div > div.sc-jrcTuL.bPmWiM > div > button.icb-btn.sc-bcXHqe.sc-hLBbgP.sc-ftTHYK.dcvrLS.dufgkr.ecppKW').click()\n",
    "sleep(random.randint(1,3))\n",
    "\n",
    "\n",
    "# variables donde iremos almacenando todo\n",
    "info_por_peli = []\n",
    "\n",
    "\n",
    "# entrando en cada título\n",
    "for peli in busqueda:\n",
    "    lista_info = [f'{peli[0]}',]\n",
    "\n",
    "    try:\n",
    "    # metemos el ID en el buscador\n",
    "        try:\n",
    "            driver.find_element('css selector', '#suggestion-search').send_keys(peli[0], Keys.ENTER)\n",
    "            sleep(random.randint(1,3))\n",
    "\n",
    "            # extraemos info\n",
    "            info = driver.find_element('xpath' , f'//*[@id=\"__next\"]/main/div/section[1]/section/div[3]/section').text\n",
    "            lista_info.append(info.split('\\n'))\n",
    "\n",
    "            info_por_peli.append(lista_info)\n",
    "        except:\n",
    "            driver.find_element('css selector', '#error > div.error_attrib > a').click()\n",
    "            \n",
    "    except:\n",
    "        fallos.append(peli)\n",
    "\n",
    "\n"
   ]
  }
 ],
 "metadata": {
  "kernelspec": {
   "display_name": "Python 3",
   "language": "python",
   "name": "python3"
  },
  "language_info": {
   "codemirror_mode": {
    "name": "ipython",
    "version": 3
   },
   "file_extension": ".py",
   "mimetype": "text/x-python",
   "name": "python",
   "nbconvert_exporter": "python",
   "pygments_lexer": "ipython3",
   "version": "3.11.8"
  }
 },
 "nbformat": 4,
 "nbformat_minor": 2
}
