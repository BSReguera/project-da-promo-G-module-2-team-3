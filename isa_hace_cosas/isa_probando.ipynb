{
 "cells": [
  {
   "cell_type": "code",
   "execution_count": 1,
   "metadata": {},
   "outputs": [
    {
     "name": "stderr",
     "output_type": "stream",
     "text": [
      "C:\\Users\\Isabel\\AppData\\Local\\Temp\\ipykernel_12212\\1604821139.py:1: DeprecationWarning: \n",
      "Pyarrow will become a required dependency of pandas in the next major release of pandas (pandas 3.0),\n",
      "(to allow more performant data types, such as the Arrow string type, and better interoperability with other libraries)\n",
      "but was not found to be installed on your system.\n",
      "If this would cause problems for you,\n",
      "please provide us feedback at https://github.com/pandas-dev/pandas/issues/54466\n",
      "        \n",
      "  import pandas as pd\n"
     ]
    }
   ],
   "source": [
    "import pandas as pd\n",
    "import json\n",
    "import csv\n",
    "import re\n",
    "\n",
    "# Importar librerías para automatización de navegadores web\n",
    "# -----------------------------------------------------------------------\n",
    "from time import sleep\n",
    "from selenium import webdriver\n",
    "from webdriver_manager.chrome import ChromeDriverManager\n",
    "from selenium.webdriver.common.keys import Keys\n",
    "\n",
    "\n",
    "\n",
    "# Importar librería para hacer solicitudes HTTP y extracción de datos\n",
    "# -----------------------------------------------------------------------\n",
    "import requests\n",
    "from bs4 import BeautifulSoup\n",
    "\n",
    "\n",
    "# Importar librería para suprimir advertencias\n",
    "# -----------------------------------------------------------------------\n",
    "import warnings\n",
    "warnings.filterwarnings('ignore')\n"
   ]
  },
  {
   "cell_type": "code",
   "execution_count": 19,
   "metadata": {},
   "outputs": [],
   "source": [
    "d_drama = {}"
   ]
  },
  {
   "cell_type": "code",
   "execution_count": 17,
   "metadata": {},
   "outputs": [],
   "source": [
    "\n",
    "def llamar_api(inicio, final, genero, d_salida):\n",
    "\n",
    "\tfor year in range(inicio, (final+1)):\n",
    "\t\tpor_anio = {f'{year}': []}\n",
    "\n",
    "\t\tfor page in range(1,51):\n",
    "\t\t\turl = \"https://moviesdatabase.p.rapidapi.com/titles\"\n",
    "\n",
    "\t\t\tquerystring = {\"genre\":f\"{genero.capitalize()}\",\"year\":f\"{year}\",\"page\":f\"{page}\"}\n",
    "\n",
    "\t\t\theaders = {\n",
    "\t\t\t\t\"X-RapidAPI-Key\": \"902358e2e8msh3d16b2ef47d6b52p1fc5dajsnb0a5bd959614\",\n",
    "\t\t\t\t\"X-RapidAPI-Host\": \"moviesdatabase.p.rapidapi.com\"\n",
    "\t\t\t}\n",
    "\n",
    "\t\t\tresponse = requests.get(url, headers=headers, params=querystring)\n",
    "\t\t\tpeliculas = response.json()\n",
    "\t\t\tprint(f'Año: {year}. Página: {page}. Estatus: {response.status_code}')\n",
    "\n",
    "\t\t\tfor pelicula in peliculas['results']:\n",
    "\t\t\t\tpor_anio[f'{year}'].append(pelicula)\n",
    "\t\n",
    "\t\td_salida.update(por_anio)\n",
    "\t\t"
   ]
  },
  {
   "cell_type": "code",
   "execution_count": 64,
   "metadata": {},
   "outputs": [
    {
     "name": "stdout",
     "output_type": "stream",
     "text": [
      "Año: 2007. Página: 1. Estatus: 200\n",
      "Año: 2007. Página: 2. Estatus: 200\n",
      "Año: 2007. Página: 3. Estatus: 200\n",
      "Año: 2007. Página: 4. Estatus: 200\n",
      "Año: 2007. Página: 5. Estatus: 200\n",
      "Año: 2007. Página: 6. Estatus: 200\n",
      "Año: 2007. Página: 7. Estatus: 200\n",
      "Año: 2007. Página: 8. Estatus: 200\n",
      "Año: 2007. Página: 9. Estatus: 200\n",
      "Año: 2007. Página: 10. Estatus: 200\n",
      "Año: 2007. Página: 11. Estatus: 200\n",
      "Año: 2007. Página: 12. Estatus: 200\n",
      "Año: 2007. Página: 13. Estatus: 200\n",
      "Año: 2007. Página: 14. Estatus: 200\n",
      "Año: 2007. Página: 15. Estatus: 200\n",
      "Año: 2007. Página: 16. Estatus: 200\n",
      "Año: 2007. Página: 17. Estatus: 200\n",
      "Año: 2007. Página: 18. Estatus: 200\n",
      "Año: 2007. Página: 19. Estatus: 200\n",
      "Año: 2007. Página: 20. Estatus: 200\n",
      "Año: 2007. Página: 21. Estatus: 200\n",
      "Año: 2007. Página: 22. Estatus: 200\n",
      "Año: 2007. Página: 23. Estatus: 200\n",
      "Año: 2007. Página: 24. Estatus: 200\n",
      "Año: 2007. Página: 25. Estatus: 200\n",
      "Año: 2007. Página: 26. Estatus: 200\n",
      "Año: 2007. Página: 27. Estatus: 200\n",
      "Año: 2007. Página: 28. Estatus: 200\n",
      "Año: 2007. Página: 29. Estatus: 200\n",
      "Año: 2007. Página: 30. Estatus: 200\n",
      "Año: 2007. Página: 31. Estatus: 200\n",
      "Año: 2007. Página: 32. Estatus: 200\n",
      "Año: 2007. Página: 33. Estatus: 200\n",
      "Año: 2007. Página: 34. Estatus: 200\n",
      "Año: 2007. Página: 35. Estatus: 200\n",
      "Año: 2007. Página: 36. Estatus: 200\n",
      "Año: 2007. Página: 37. Estatus: 200\n",
      "Año: 2007. Página: 38. Estatus: 200\n",
      "Año: 2007. Página: 39. Estatus: 200\n",
      "Año: 2007. Página: 40. Estatus: 200\n",
      "Año: 2007. Página: 41. Estatus: 200\n",
      "Año: 2007. Página: 42. Estatus: 200\n",
      "Año: 2007. Página: 43. Estatus: 200\n",
      "Año: 2007. Página: 44. Estatus: 200\n",
      "Año: 2007. Página: 45. Estatus: 200\n",
      "Año: 2007. Página: 46. Estatus: 200\n",
      "Año: 2007. Página: 47. Estatus: 200\n",
      "Año: 2007. Página: 48. Estatus: 200\n",
      "Año: 2007. Página: 49. Estatus: 200\n",
      "Año: 2007. Página: 50. Estatus: 200\n",
      "Año: 2008. Página: 1. Estatus: 200\n",
      "Año: 2008. Página: 2. Estatus: 200\n",
      "Año: 2008. Página: 3. Estatus: 200\n",
      "Año: 2008. Página: 4. Estatus: 200\n",
      "Año: 2008. Página: 5. Estatus: 200\n",
      "Año: 2008. Página: 6. Estatus: 200\n",
      "Año: 2008. Página: 7. Estatus: 200\n",
      "Año: 2008. Página: 8. Estatus: 200\n",
      "Año: 2008. Página: 9. Estatus: 200\n",
      "Año: 2008. Página: 10. Estatus: 200\n",
      "Año: 2008. Página: 11. Estatus: 200\n",
      "Año: 2008. Página: 12. Estatus: 200\n",
      "Año: 2008. Página: 13. Estatus: 200\n",
      "Año: 2008. Página: 14. Estatus: 200\n",
      "Año: 2008. Página: 15. Estatus: 200\n",
      "Año: 2008. Página: 16. Estatus: 200\n",
      "Año: 2008. Página: 17. Estatus: 200\n",
      "Año: 2008. Página: 18. Estatus: 200\n",
      "Año: 2008. Página: 19. Estatus: 200\n",
      "Año: 2008. Página: 20. Estatus: 200\n",
      "Año: 2008. Página: 21. Estatus: 200\n",
      "Año: 2008. Página: 22. Estatus: 200\n",
      "Año: 2008. Página: 23. Estatus: 200\n",
      "Año: 2008. Página: 24. Estatus: 200\n",
      "Año: 2008. Página: 25. Estatus: 200\n",
      "Año: 2008. Página: 26. Estatus: 200\n",
      "Año: 2008. Página: 27. Estatus: 200\n",
      "Año: 2008. Página: 28. Estatus: 200\n",
      "Año: 2008. Página: 29. Estatus: 200\n",
      "Año: 2008. Página: 30. Estatus: 200\n",
      "Año: 2008. Página: 31. Estatus: 200\n",
      "Año: 2008. Página: 32. Estatus: 200\n",
      "Año: 2008. Página: 33. Estatus: 200\n",
      "Año: 2008. Página: 34. Estatus: 200\n",
      "Año: 2008. Página: 35. Estatus: 200\n",
      "Año: 2008. Página: 36. Estatus: 200\n",
      "Año: 2008. Página: 37. Estatus: 200\n",
      "Año: 2008. Página: 38. Estatus: 200\n",
      "Año: 2008. Página: 39. Estatus: 200\n",
      "Año: 2008. Página: 40. Estatus: 200\n",
      "Año: 2008. Página: 41. Estatus: 200\n",
      "Año: 2008. Página: 42. Estatus: 200\n",
      "Año: 2008. Página: 43. Estatus: 200\n",
      "Año: 2008. Página: 44. Estatus: 200\n",
      "Año: 2008. Página: 45. Estatus: 200\n",
      "Año: 2008. Página: 46. Estatus: 200\n",
      "Año: 2008. Página: 47. Estatus: 200\n",
      "Año: 2008. Página: 48. Estatus: 200\n",
      "Año: 2008. Página: 49. Estatus: 200\n",
      "Año: 2008. Página: 50. Estatus: 200\n",
      "Año: 2009. Página: 1. Estatus: 200\n",
      "Año: 2009. Página: 2. Estatus: 200\n",
      "Año: 2009. Página: 3. Estatus: 200\n",
      "Año: 2009. Página: 4. Estatus: 200\n",
      "Año: 2009. Página: 5. Estatus: 200\n",
      "Año: 2009. Página: 6. Estatus: 200\n",
      "Año: 2009. Página: 7. Estatus: 200\n",
      "Año: 2009. Página: 8. Estatus: 200\n",
      "Año: 2009. Página: 9. Estatus: 200\n",
      "Año: 2009. Página: 10. Estatus: 200\n",
      "Año: 2009. Página: 11. Estatus: 200\n",
      "Año: 2009. Página: 12. Estatus: 200\n",
      "Año: 2009. Página: 13. Estatus: 200\n",
      "Año: 2009. Página: 14. Estatus: 200\n",
      "Año: 2009. Página: 15. Estatus: 200\n",
      "Año: 2009. Página: 16. Estatus: 200\n",
      "Año: 2009. Página: 17. Estatus: 200\n",
      "Año: 2009. Página: 18. Estatus: 200\n",
      "Año: 2009. Página: 19. Estatus: 200\n",
      "Año: 2009. Página: 20. Estatus: 200\n",
      "Año: 2009. Página: 21. Estatus: 200\n",
      "Año: 2009. Página: 22. Estatus: 200\n",
      "Año: 2009. Página: 23. Estatus: 200\n",
      "Año: 2009. Página: 24. Estatus: 200\n",
      "Año: 2009. Página: 25. Estatus: 200\n",
      "Año: 2009. Página: 26. Estatus: 200\n",
      "Año: 2009. Página: 27. Estatus: 200\n",
      "Año: 2009. Página: 28. Estatus: 200\n",
      "Año: 2009. Página: 29. Estatus: 200\n",
      "Año: 2009. Página: 30. Estatus: 200\n",
      "Año: 2009. Página: 31. Estatus: 200\n",
      "Año: 2009. Página: 32. Estatus: 200\n",
      "Año: 2009. Página: 33. Estatus: 200\n",
      "Año: 2009. Página: 34. Estatus: 200\n",
      "Año: 2009. Página: 35. Estatus: 200\n",
      "Año: 2009. Página: 36. Estatus: 200\n",
      "Año: 2009. Página: 37. Estatus: 200\n",
      "Año: 2009. Página: 38. Estatus: 200\n",
      "Año: 2009. Página: 39. Estatus: 200\n",
      "Año: 2009. Página: 40. Estatus: 200\n",
      "Año: 2009. Página: 41. Estatus: 200\n",
      "Año: 2009. Página: 42. Estatus: 200\n",
      "Año: 2009. Página: 43. Estatus: 200\n",
      "Año: 2009. Página: 44. Estatus: 200\n",
      "Año: 2009. Página: 45. Estatus: 200\n",
      "Año: 2009. Página: 46. Estatus: 200\n",
      "Año: 2009. Página: 47. Estatus: 200\n",
      "Año: 2009. Página: 48. Estatus: 200\n",
      "Año: 2009. Página: 49. Estatus: 200\n",
      "Año: 2009. Página: 50. Estatus: 200\n",
      "Año: 2010. Página: 1. Estatus: 200\n",
      "Año: 2010. Página: 2. Estatus: 200\n",
      "Año: 2010. Página: 3. Estatus: 200\n",
      "Año: 2010. Página: 4. Estatus: 200\n",
      "Año: 2010. Página: 5. Estatus: 200\n",
      "Año: 2010. Página: 6. Estatus: 200\n",
      "Año: 2010. Página: 7. Estatus: 200\n",
      "Año: 2010. Página: 8. Estatus: 200\n",
      "Año: 2010. Página: 9. Estatus: 200\n",
      "Año: 2010. Página: 10. Estatus: 200\n",
      "Año: 2010. Página: 11. Estatus: 200\n",
      "Año: 2010. Página: 12. Estatus: 200\n",
      "Año: 2010. Página: 13. Estatus: 200\n",
      "Año: 2010. Página: 14. Estatus: 200\n",
      "Año: 2010. Página: 15. Estatus: 200\n",
      "Año: 2010. Página: 16. Estatus: 200\n",
      "Año: 2010. Página: 17. Estatus: 429\n"
     ]
    },
    {
     "ename": "KeyError",
     "evalue": "'results'",
     "output_type": "error",
     "traceback": [
      "\u001b[0;31m---------------------------------------------------------------------------\u001b[0m",
      "\u001b[0;31mKeyError\u001b[0m                                  Traceback (most recent call last)",
      "\u001b[0;32m/tmp/ipykernel_2842/1013216883.py\u001b[0m in \u001b[0;36m<module>\u001b[0;34m\u001b[0m\n\u001b[0;32m----> 1\u001b[0;31m \u001b[0mllamar_api\u001b[0m\u001b[0;34m(\u001b[0m\u001b[0;36m2007\u001b[0m\u001b[0;34m,\u001b[0m \u001b[0;36m20010\u001b[0m\u001b[0;34m,\u001b[0m \u001b[0;34m'Drama'\u001b[0m\u001b[0;34m,\u001b[0m \u001b[0md_drama\u001b[0m\u001b[0;34m)\u001b[0m\u001b[0;34m\u001b[0m\u001b[0;34m\u001b[0m\u001b[0m\n\u001b[0m",
      "\u001b[0;32m/tmp/ipykernel_2842/2476390093.py\u001b[0m in \u001b[0;36mllamar_api\u001b[0;34m(inicio, final, genero, d_salida)\u001b[0m\n\u001b[1;32m     18\u001b[0m                         \u001b[0mprint\u001b[0m\u001b[0;34m(\u001b[0m\u001b[0;34mf'Año: {year}. Página: {page}. Estatus: {response.status_code}'\u001b[0m\u001b[0;34m)\u001b[0m\u001b[0;34m\u001b[0m\u001b[0;34m\u001b[0m\u001b[0m\n\u001b[1;32m     19\u001b[0m \u001b[0;34m\u001b[0m\u001b[0m\n\u001b[0;32m---> 20\u001b[0;31m                         \u001b[0;32mfor\u001b[0m \u001b[0mpelicula\u001b[0m \u001b[0;32min\u001b[0m \u001b[0mpeliculas\u001b[0m\u001b[0;34m[\u001b[0m\u001b[0;34m'results'\u001b[0m\u001b[0;34m]\u001b[0m\u001b[0;34m:\u001b[0m\u001b[0;34m\u001b[0m\u001b[0;34m\u001b[0m\u001b[0m\n\u001b[0m\u001b[1;32m     21\u001b[0m                                 \u001b[0mpor_anio\u001b[0m\u001b[0;34m[\u001b[0m\u001b[0;34mf'{year}'\u001b[0m\u001b[0;34m]\u001b[0m\u001b[0;34m.\u001b[0m\u001b[0mappend\u001b[0m\u001b[0;34m(\u001b[0m\u001b[0mpelicula\u001b[0m\u001b[0;34m)\u001b[0m\u001b[0;34m\u001b[0m\u001b[0;34m\u001b[0m\u001b[0m\n\u001b[1;32m     22\u001b[0m \u001b[0;34m\u001b[0m\u001b[0m\n",
      "\u001b[0;31mKeyError\u001b[0m: 'results'"
     ]
    }
   ],
   "source": [
    "llamar_api(2007, 20010, 'Drama', d_drama)"
   ]
  },
  {
   "cell_type": "code",
   "execution_count": 65,
   "metadata": {},
   "outputs": [
    {
     "data": {
      "text/plain": [
       "500"
      ]
     },
     "execution_count": 65,
     "metadata": {},
     "output_type": "execute_result"
    }
   ],
   "source": [
    "len(d_drama['2009'])"
   ]
  },
  {
   "cell_type": "code",
   "execution_count": 66,
   "metadata": {},
   "outputs": [],
   "source": [
    "with open('ExtraccionDrama.json', 'w') as fichero:\n",
    "    json.dump(d_drama, fichero)"
   ]
  },
  {
   "cell_type": "code",
   "execution_count": 30,
   "metadata": {},
   "outputs": [],
   "source": [
    "def criba_generos(diccionario_origen, diccionario_salida, inicio, final):\n",
    "\n",
    "    for year in range(inicio, (final+1)):\n",
    "        limpio_por_year = {f'{year}': []}\n",
    "\n",
    "        for i in diccionario_origen[f'{year}']:\n",
    "            if i['titleType']['id'] == 'movie':\n",
    "                limpio_por_year[f'{year}'].append(i)\n",
    "            elif i['titleType']['id'] == 'short':\n",
    "                limpio_por_year[f'{year}'].append(i)\n",
    "            else:\n",
    "                continue\n",
    "        \n",
    "        diccionario_salida.update(limpio_por_year)"
   ]
  },
  {
   "cell_type": "code",
   "execution_count": 25,
   "metadata": {},
   "outputs": [],
   "source": [
    "d_limpio = {}"
   ]
  },
  {
   "cell_type": "code",
   "execution_count": 67,
   "metadata": {},
   "outputs": [],
   "source": [
    "criba_generos(d_drama, d_limpio, 2007, 2009)"
   ]
  },
  {
   "cell_type": "code",
   "execution_count": 68,
   "metadata": {},
   "outputs": [
    {
     "data": {
      "text/plain": [
       "dict_keys(['2000', '2001', '2002', '2003', '2004', '2005', '2006', '2007', '2008', '2009'])"
      ]
     },
     "execution_count": 68,
     "metadata": {},
     "output_type": "execute_result"
    }
   ],
   "source": [
    "d_limpio.keys()"
   ]
  },
  {
   "cell_type": "code",
   "execution_count": 69,
   "metadata": {},
   "outputs": [],
   "source": [
    "with open('LimpioDrama.json', 'w') as fichero:\n",
    "    json.dump(d_limpio, fichero)"
   ]
  },
  {
   "cell_type": "code",
   "execution_count": 7,
   "metadata": {},
   "outputs": [],
   "source": [
    "def lista_tuplas(origen, inicio, final, genero):\n",
    "    lista_datos = []\n",
    "    for year in range(inicio, (final+1)):\n",
    "        \n",
    "        for i in origen[f'{year}']:\n",
    "            tupla_pelicula = []\n",
    "            try:\n",
    "                tupla_pelicula.append(i['id'])\n",
    "                tupla_pelicula.append(genero)\n",
    "                tupla_pelicula.append(i[\"titleText\"]['text'])\n",
    "                tupla_pelicula.append(i['titleType']['id'])\n",
    "                try:\n",
    "                    tupla_pelicula.append(i['releaseDate']['year'])\n",
    "                except:\n",
    "                    tupla_pelicula.append('desconocido')\n",
    "                try:\n",
    "                    tupla_pelicula.append(i['releaseDate']['month'])\n",
    "                except:\n",
    "                    tupla_pelicula.append('desconocido')\n",
    "                \n",
    "            except:\n",
    "                continue\n",
    "                \n",
    "        \n",
    "            lista_datos.append(tuple(tupla_pelicula))\n",
    "\n",
    "    for i in lista_datos:\n",
    "        try:\n",
    "            if i[3] < 2000:\n",
    "                lista_datos.remove(i)\n",
    "        except:\n",
    "            continue\n",
    "\n",
    "    return lista_datos"
   ]
  },
  {
   "cell_type": "code",
   "execution_count": 4,
   "metadata": {},
   "outputs": [],
   "source": [
    "import json\n",
    "with open('LimpioDrama.json', 'r') as fichero:\n",
    "    drama = json.load(fichero)"
   ]
  },
  {
   "cell_type": "code",
   "execution_count": 8,
   "metadata": {},
   "outputs": [],
   "source": [
    "pal_json = lista_tuplas(drama, 2000, 2009, 'drama')"
   ]
  },
  {
   "cell_type": "code",
   "execution_count": null,
   "metadata": {},
   "outputs": [],
   "source": [
    "with open('JsonDrama.json', 'w') as fichero:\n",
    "    json.dump(pal_json, fichero)"
   ]
  },
  {
   "cell_type": "code",
   "execution_count": 70,
   "metadata": {},
   "outputs": [],
   "source": [
    "tuplas_drama = lista_tuplas(drama, 2000, 2009, 'drama')"
   ]
  },
  {
   "cell_type": "code",
   "execution_count": 1,
   "metadata": {},
   "outputs": [
    {
     "ename": "NameError",
     "evalue": "name 'tuplas_drama' is not defined",
     "output_type": "error",
     "traceback": [
      "\u001b[1;31m---------------------------------------------------------------------------\u001b[0m",
      "\u001b[1;31mNameError\u001b[0m                                 Traceback (most recent call last)",
      "Cell \u001b[1;32mIn[1], line 1\u001b[0m\n\u001b[1;32m----> 1\u001b[0m \u001b[43mtuplas_drama\u001b[49m\n",
      "\u001b[1;31mNameError\u001b[0m: name 'tuplas_drama' is not defined"
     ]
    }
   ],
   "source": [
    "tuplas_drama"
   ]
  },
  {
   "cell_type": "code",
   "execution_count": 72,
   "metadata": {},
   "outputs": [],
   "source": [
    "df_drama = pd.DataFrame(tuplas_drama)"
   ]
  },
  {
   "cell_type": "code",
   "execution_count": 74,
   "metadata": {},
   "outputs": [
    {
     "data": {
      "text/html": [
       "<div>\n",
       "<style scoped>\n",
       "    .dataframe tbody tr th:only-of-type {\n",
       "        vertical-align: middle;\n",
       "    }\n",
       "\n",
       "    .dataframe tbody tr th {\n",
       "        vertical-align: top;\n",
       "    }\n",
       "\n",
       "    .dataframe thead th {\n",
       "        text-align: right;\n",
       "    }\n",
       "</style>\n",
       "<table border=\"1\" class=\"dataframe\">\n",
       "  <thead>\n",
       "    <tr style=\"text-align: right;\">\n",
       "      <th></th>\n",
       "      <th>0</th>\n",
       "      <th>1</th>\n",
       "      <th>2</th>\n",
       "      <th>3</th>\n",
       "      <th>4</th>\n",
       "      <th>5</th>\n",
       "    </tr>\n",
       "  </thead>\n",
       "  <tbody>\n",
       "    <tr>\n",
       "      <th>0</th>\n",
       "      <td>tt0102362</td>\n",
       "      <td>drama</td>\n",
       "      <td>Istota</td>\n",
       "      <td>movie</td>\n",
       "      <td>desconocido</td>\n",
       "      <td>desconocido</td>\n",
       "    </tr>\n",
       "    <tr>\n",
       "      <th>1</th>\n",
       "      <td>tt0113092</td>\n",
       "      <td>drama</td>\n",
       "      <td>For the Cause</td>\n",
       "      <td>movie</td>\n",
       "      <td>2002</td>\n",
       "      <td>5</td>\n",
       "    </tr>\n",
       "    <tr>\n",
       "      <th>2</th>\n",
       "      <td>tt0113086</td>\n",
       "      <td>drama</td>\n",
       "      <td>Florentino y el diablo</td>\n",
       "      <td>movie</td>\n",
       "      <td>2000</td>\n",
       "      <td>4</td>\n",
       "    </tr>\n",
       "    <tr>\n",
       "      <th>3</th>\n",
       "      <td>tt0116748</td>\n",
       "      <td>drama</td>\n",
       "      <td>Karobaar: The Business of Love</td>\n",
       "      <td>movie</td>\n",
       "      <td>2000</td>\n",
       "      <td>9</td>\n",
       "    </tr>\n",
       "    <tr>\n",
       "      <th>4</th>\n",
       "      <td>tt0115874</td>\n",
       "      <td>drama</td>\n",
       "      <td>Chateaubriand - Cabeça de Paraíba</td>\n",
       "      <td>short</td>\n",
       "      <td>2000</td>\n",
       "      <td>12</td>\n",
       "    </tr>\n",
       "    <tr>\n",
       "      <th>...</th>\n",
       "      <td>...</td>\n",
       "      <td>...</td>\n",
       "      <td>...</td>\n",
       "      <td>...</td>\n",
       "      <td>...</td>\n",
       "      <td>...</td>\n",
       "    </tr>\n",
       "    <tr>\n",
       "      <th>3965</th>\n",
       "      <td>tt1001521</td>\n",
       "      <td>drama</td>\n",
       "      <td>Layover</td>\n",
       "      <td>movie</td>\n",
       "      <td>2009</td>\n",
       "      <td>2</td>\n",
       "    </tr>\n",
       "    <tr>\n",
       "      <th>3966</th>\n",
       "      <td>tt1001508</td>\n",
       "      <td>drama</td>\n",
       "      <td>He's Just Not That Into You</td>\n",
       "      <td>movie</td>\n",
       "      <td>2009</td>\n",
       "      <td>4</td>\n",
       "    </tr>\n",
       "    <tr>\n",
       "      <th>3967</th>\n",
       "      <td>tt1002561</td>\n",
       "      <td>drama</td>\n",
       "      <td>2:13</td>\n",
       "      <td>movie</td>\n",
       "      <td>2009</td>\n",
       "      <td>4</td>\n",
       "    </tr>\n",
       "    <tr>\n",
       "      <th>3968</th>\n",
       "      <td>tt1002741</td>\n",
       "      <td>drama</td>\n",
       "      <td>Something Blue</td>\n",
       "      <td>movie</td>\n",
       "      <td>2009</td>\n",
       "      <td>9</td>\n",
       "    </tr>\n",
       "    <tr>\n",
       "      <th>3969</th>\n",
       "      <td>tt1003034</td>\n",
       "      <td>drama</td>\n",
       "      <td>Perrier's Bounty</td>\n",
       "      <td>movie</td>\n",
       "      <td>2010</td>\n",
       "      <td>3</td>\n",
       "    </tr>\n",
       "  </tbody>\n",
       "</table>\n",
       "<p>3970 rows × 6 columns</p>\n",
       "</div>"
      ],
      "text/plain": [
       "              0      1                                  2      3            4  \\\n",
       "0     tt0102362  drama                             Istota  movie  desconocido   \n",
       "1     tt0113092  drama                      For the Cause  movie         2002   \n",
       "2     tt0113086  drama             Florentino y el diablo  movie         2000   \n",
       "3     tt0116748  drama     Karobaar: The Business of Love  movie         2000   \n",
       "4     tt0115874  drama  Chateaubriand - Cabeça de Paraíba  short         2000   \n",
       "...         ...    ...                                ...    ...          ...   \n",
       "3965  tt1001521  drama                            Layover  movie         2009   \n",
       "3966  tt1001508  drama        He's Just Not That Into You  movie         2009   \n",
       "3967  tt1002561  drama                               2:13  movie         2009   \n",
       "3968  tt1002741  drama                     Something Blue  movie         2009   \n",
       "3969  tt1003034  drama                   Perrier's Bounty  movie         2010   \n",
       "\n",
       "                5  \n",
       "0     desconocido  \n",
       "1               5  \n",
       "2               4  \n",
       "3               9  \n",
       "4              12  \n",
       "...           ...  \n",
       "3965            2  \n",
       "3966            4  \n",
       "3967            4  \n",
       "3968            9  \n",
       "3969            3  \n",
       "\n",
       "[3970 rows x 6 columns]"
      ]
     },
     "execution_count": 74,
     "metadata": {},
     "output_type": "execute_result"
    }
   ],
   "source": [
    "df_drama"
   ]
  },
  {
   "cell_type": "code",
   "execution_count": 73,
   "metadata": {},
   "outputs": [],
   "source": [
    "df_drama.to_csv('TuplasDrama.csv', index=False)"
   ]
  },
  {
   "cell_type": "code",
   "execution_count": 8,
   "metadata": {},
   "outputs": [],
   "source": [
    "lista_datos = lista_tuplas(drama, 2000, 2015)"
   ]
  },
  {
   "cell_type": "code",
   "execution_count": 12,
   "metadata": {},
   "outputs": [],
   "source": [
    "with open('drama_2014_limpio.json', 'w') as doc:\n",
    "    json.dump(lista_datos, doc)"
   ]
  },
  {
   "cell_type": "code",
   "execution_count": 10,
   "metadata": {},
   "outputs": [],
   "source": [
    "df = pd.DataFrame(lista_datos)"
   ]
  },
  {
   "cell_type": "code",
   "execution_count": 11,
   "metadata": {},
   "outputs": [
    {
     "data": {
      "text/html": [
       "<div>\n",
       "<style scoped>\n",
       "    .dataframe tbody tr th:only-of-type {\n",
       "        vertical-align: middle;\n",
       "    }\n",
       "\n",
       "    .dataframe tbody tr th {\n",
       "        vertical-align: top;\n",
       "    }\n",
       "\n",
       "    .dataframe thead th {\n",
       "        text-align: right;\n",
       "    }\n",
       "</style>\n",
       "<table border=\"1\" class=\"dataframe\">\n",
       "  <thead>\n",
       "    <tr style=\"text-align: right;\">\n",
       "      <th></th>\n",
       "      <th>0</th>\n",
       "      <th>1</th>\n",
       "      <th>2</th>\n",
       "      <th>3</th>\n",
       "      <th>4</th>\n",
       "    </tr>\n",
       "  </thead>\n",
       "  <tbody>\n",
       "    <tr>\n",
       "      <th>0</th>\n",
       "      <td>tt0113092</td>\n",
       "      <td>For the Cause</td>\n",
       "      <td>movie</td>\n",
       "      <td>2002</td>\n",
       "      <td>5.0</td>\n",
       "    </tr>\n",
       "    <tr>\n",
       "      <th>1</th>\n",
       "      <td>tt0116748</td>\n",
       "      <td>Karobaar: The Business of Love</td>\n",
       "      <td>movie</td>\n",
       "      <td>2000</td>\n",
       "      <td>9.0</td>\n",
       "    </tr>\n",
       "    <tr>\n",
       "      <th>2</th>\n",
       "      <td>tt0116391</td>\n",
       "      <td>Gang</td>\n",
       "      <td>movie</td>\n",
       "      <td>2000</td>\n",
       "      <td>4.0</td>\n",
       "    </tr>\n",
       "    <tr>\n",
       "      <th>3</th>\n",
       "      <td>tt0118694</td>\n",
       "      <td>Fa yeung nin wah</td>\n",
       "      <td>movie</td>\n",
       "      <td>2001</td>\n",
       "      <td>3.0</td>\n",
       "    </tr>\n",
       "    <tr>\n",
       "      <th>4</th>\n",
       "      <td>tt0118852</td>\n",
       "      <td>Chinese Coffee</td>\n",
       "      <td>movie</td>\n",
       "      <td>2000</td>\n",
       "      <td>9.0</td>\n",
       "    </tr>\n",
       "    <tr>\n",
       "      <th>...</th>\n",
       "      <td>...</td>\n",
       "      <td>...</td>\n",
       "      <td>...</td>\n",
       "      <td>...</td>\n",
       "      <td>...</td>\n",
       "    </tr>\n",
       "    <tr>\n",
       "      <th>2107</th>\n",
       "      <td>tt10033718</td>\n",
       "      <td>Though I Walk Through the Valley</td>\n",
       "      <td>short</td>\n",
       "      <td>2014</td>\n",
       "      <td>11.0</td>\n",
       "    </tr>\n",
       "    <tr>\n",
       "      <th>2108</th>\n",
       "      <td>tt10033820</td>\n",
       "      <td>The Soul of a Policeman</td>\n",
       "      <td>short</td>\n",
       "      <td>2014</td>\n",
       "      <td>5.0</td>\n",
       "    </tr>\n",
       "    <tr>\n",
       "      <th>2109</th>\n",
       "      <td>tt10036308</td>\n",
       "      <td>The Drive</td>\n",
       "      <td>short</td>\n",
       "      <td>2014</td>\n",
       "      <td>6.0</td>\n",
       "    </tr>\n",
       "    <tr>\n",
       "      <th>2110</th>\n",
       "      <td>tt10039008</td>\n",
       "      <td>Prathighatana</td>\n",
       "      <td>movie</td>\n",
       "      <td>2014</td>\n",
       "      <td>4.0</td>\n",
       "    </tr>\n",
       "    <tr>\n",
       "      <th>2111</th>\n",
       "      <td>tt10044158</td>\n",
       "      <td>The GCPD</td>\n",
       "      <td>short</td>\n",
       "      <td>2014</td>\n",
       "      <td>3.0</td>\n",
       "    </tr>\n",
       "  </tbody>\n",
       "</table>\n",
       "<p>2112 rows × 5 columns</p>\n",
       "</div>"
      ],
      "text/plain": [
       "               0                                 1      2     3     4\n",
       "0      tt0113092                     For the Cause  movie  2002   5.0\n",
       "1      tt0116748    Karobaar: The Business of Love  movie  2000   9.0\n",
       "2      tt0116391                              Gang  movie  2000   4.0\n",
       "3      tt0118694                  Fa yeung nin wah  movie  2001   3.0\n",
       "4      tt0118852                    Chinese Coffee  movie  2000   9.0\n",
       "...          ...                               ...    ...   ...   ...\n",
       "2107  tt10033718  Though I Walk Through the Valley  short  2014  11.0\n",
       "2108  tt10033820           The Soul of a Policeman  short  2014   5.0\n",
       "2109  tt10036308                         The Drive  short  2014   6.0\n",
       "2110  tt10039008                     Prathighatana  movie  2014   4.0\n",
       "2111  tt10044158                          The GCPD  short  2014   3.0\n",
       "\n",
       "[2112 rows x 5 columns]"
      ]
     },
     "execution_count": 11,
     "metadata": {},
     "output_type": "execute_result"
    }
   ],
   "source": [
    "df"
   ]
  },
  {
   "cell_type": "markdown",
   "metadata": {},
   "source": [
    "NUEVO INTENTO SELENIUM - IMDB"
   ]
  },
  {
   "cell_type": "code",
   "execution_count": 3,
   "metadata": {},
   "outputs": [],
   "source": [
    "#with open('JsonDrama.json', 'r') as fichero:\n",
    "  #  busqueda = json.load(fichero)"
   ]
  },
  {
   "cell_type": "code",
   "execution_count": 3,
   "metadata": {},
   "outputs": [],
   "source": [
    "busqueda = ['tt0113092', 'tt0116748', 'tt0116391']"
   ]
  },
  {
   "cell_type": "code",
   "execution_count": 7,
   "metadata": {},
   "outputs": [
    {
     "name": "stdout",
     "output_type": "stream",
     "text": [
      "Cagaste\n",
      "Cagaste\n",
      "Cagaste\n",
      "Cagaste\n",
      "Cagaste\n"
     ]
    }
   ],
   "source": [
    "# llegar a web:\n",
    "driver = webdriver.Chrome()\n",
    "driver.get('https://www.imdb.com/')\n",
    "driver.maximize_window()\n",
    "sleep(3)\n",
    "\n",
    "# rechazar cookies\n",
    "driver.find_element('css selector', '#__next > div > div > div.sc-jrcTuL.bPmWiM > div > button.icb-btn.sc-bcXHqe.sc-hLBbgP.sc-ftTHYK.dcvrLS.dufgkr.ecppKW').click()\n",
    "sleep(2)\n",
    "\n",
    "# variables donde iremos almacenando todo\n",
    "fallos = []\n",
    "\n",
    "lista_directores = []\n",
    "\n",
    "# entrando en cada título\n",
    "for peli in busqueda:\n",
    "    tupla_datos = [f'{peli}',]\n",
    "\n",
    "    # id en buscador\n",
    "    driver.find_element('css selector', '#suggestion-search').send_keys(peli, Keys.ENTER)\n",
    "    sleep(1)\n",
    "\n",
    "    # direccion\n",
    "    directores = []\n",
    "    for director in range(1,4):\n",
    "        \n",
    "        try:\n",
    "            direccion = driver.find_element('xpath', f'//*[@id=\"__next\"]/main/div/section[1]/section/div[3]/section/section/div[3]/div[2]/div[1]/section/div[2]/div/ul/li[1]/div/ul/li[{director}]/a').text\n",
    "            directores.append(direccion)\n",
    "        except:\n",
    "            continue\n",
    "\n",
    "    lista_directores.append(directores)\n",
    "\n",
    "\n",
    "        "
   ]
  },
  {
   "cell_type": "code",
   "execution_count": 8,
   "metadata": {},
   "outputs": [
    {
     "data": {
      "text/plain": [
       "[['David Douglas', 'Tim Douglas'], ['Rakesh Roshan'], ['Mazhar Khan']]"
      ]
     },
     "execution_count": 8,
     "metadata": {},
     "output_type": "execute_result"
    }
   ],
   "source": [
    "lista_directores"
   ]
  },
  {
   "cell_type": "code",
   "execution_count": null,
   "metadata": {},
   "outputs": [],
   "source": [
    "'//*[@id=\"__next\"]/main/div/section[1]/section/div[3]/section/section/div[3]/div[2]/div[1]/section/div[2]/div/ul/li[1]/div/ul/li[2]/a'"
   ]
  },
  {
   "cell_type": "code",
   "execution_count": 11,
   "metadata": {},
   "outputs": [
    {
     "data": {
      "text/plain": [
       "['David Douglas']"
      ]
     },
     "execution_count": 11,
     "metadata": {},
     "output_type": "execute_result"
    }
   ],
   "source": [
    "directores"
   ]
  }
 ],
 "metadata": {
  "kernelspec": {
   "display_name": "base",
   "language": "python",
   "name": "python3"
  },
  "language_info": {
   "codemirror_mode": {
    "name": "ipython",
    "version": 3
   },
   "file_extension": ".py",
   "mimetype": "text/x-python",
   "name": "python",
   "nbconvert_exporter": "python",
   "pygments_lexer": "ipython3",
   "version": "3.11.8"
  }
 },
 "nbformat": 4,
 "nbformat_minor": 2
}
