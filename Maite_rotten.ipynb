{
 "cells": [
  {
   "cell_type": "code",
   "execution_count": 5,
   "metadata": {},
   "outputs": [],
   "source": [
    "import json\n",
    "\n",
    "\n",
    "import pandas as pd"
   ]
  },
  {
   "cell_type": "code",
   "execution_count": 6,
   "metadata": {},
   "outputs": [
    {
     "name": "stdout",
     "output_type": "stream",
     "text": [
      "Requirement already satisfied: selenium in /Users/maite/opt/anaconda3/lib/python3.9/site-packages (4.18.0)\n",
      "Requirement already satisfied: trio~=0.17 in /Users/maite/opt/anaconda3/lib/python3.9/site-packages (from selenium) (0.24.0)\n",
      "Requirement already satisfied: urllib3[socks]<3,>=1.26 in /Users/maite/opt/anaconda3/lib/python3.9/site-packages (from selenium) (1.26.7)\n",
      "Requirement already satisfied: trio-websocket~=0.9 in /Users/maite/opt/anaconda3/lib/python3.9/site-packages (from selenium) (0.11.1)\n",
      "Requirement already satisfied: certifi>=2021.10.8 in /Users/maite/opt/anaconda3/lib/python3.9/site-packages (from selenium) (2021.10.8)\n",
      "Requirement already satisfied: typing_extensions>=4.9.0 in /Users/maite/opt/anaconda3/lib/python3.9/site-packages (from selenium) (4.9.0)\n",
      "Requirement already satisfied: sniffio>=1.3.0 in /Users/maite/opt/anaconda3/lib/python3.9/site-packages (from trio~=0.17->selenium) (1.3.0)\n",
      "Requirement already satisfied: exceptiongroup in /Users/maite/opt/anaconda3/lib/python3.9/site-packages (from trio~=0.17->selenium) (1.2.0)\n",
      "Requirement already satisfied: idna in /Users/maite/opt/anaconda3/lib/python3.9/site-packages (from trio~=0.17->selenium) (3.2)\n",
      "Requirement already satisfied: outcome in /Users/maite/opt/anaconda3/lib/python3.9/site-packages (from trio~=0.17->selenium) (1.3.0.post0)\n",
      "Requirement already satisfied: attrs>=20.1.0 in /Users/maite/opt/anaconda3/lib/python3.9/site-packages (from trio~=0.17->selenium) (21.2.0)\n",
      "Requirement already satisfied: sortedcontainers in /Users/maite/opt/anaconda3/lib/python3.9/site-packages (from trio~=0.17->selenium) (2.4.0)\n",
      "Requirement already satisfied: wsproto>=0.14 in /Users/maite/opt/anaconda3/lib/python3.9/site-packages (from trio-websocket~=0.9->selenium) (1.2.0)\n",
      "Requirement already satisfied: PySocks!=1.5.7,<2.0,>=1.5.6 in /Users/maite/opt/anaconda3/lib/python3.9/site-packages (from urllib3[socks]<3,>=1.26->selenium) (1.7.1)\n",
      "Requirement already satisfied: h11<1,>=0.9.0 in /Users/maite/opt/anaconda3/lib/python3.9/site-packages (from wsproto>=0.14->trio-websocket~=0.9->selenium) (0.14.0)\n",
      "Requirement already satisfied: webdriver_manager in /Users/maite/opt/anaconda3/lib/python3.9/site-packages (4.0.1)\n",
      "Requirement already satisfied: python-dotenv in /Users/maite/opt/anaconda3/lib/python3.9/site-packages (from webdriver_manager) (1.0.1)\n",
      "Requirement already satisfied: packaging in /Users/maite/opt/anaconda3/lib/python3.9/site-packages (from webdriver_manager) (21.0)\n",
      "Requirement already satisfied: requests in /Users/maite/opt/anaconda3/lib/python3.9/site-packages (from webdriver_manager) (2.26.0)\n",
      "Requirement already satisfied: pyparsing>=2.0.2 in /Users/maite/opt/anaconda3/lib/python3.9/site-packages (from packaging->webdriver_manager) (3.0.4)\n",
      "Requirement already satisfied: certifi>=2017.4.17 in /Users/maite/opt/anaconda3/lib/python3.9/site-packages (from requests->webdriver_manager) (2021.10.8)\n",
      "Requirement already satisfied: urllib3<1.27,>=1.21.1 in /Users/maite/opt/anaconda3/lib/python3.9/site-packages (from requests->webdriver_manager) (1.26.7)\n",
      "Requirement already satisfied: idna<4,>=2.5 in /Users/maite/opt/anaconda3/lib/python3.9/site-packages (from requests->webdriver_manager) (3.2)\n",
      "Requirement already satisfied: charset-normalizer~=2.0.0 in /Users/maite/opt/anaconda3/lib/python3.9/site-packages (from requests->webdriver_manager) (2.0.4)\n"
     ]
    }
   ],
   "source": [
    "#!pip install selenium\n",
    "#!pip install webdriver_manager"
   ]
  },
  {
   "cell_type": "code",
   "execution_count": 2,
   "metadata": {},
   "outputs": [],
   "source": [
    "import pandas as pd\n",
    "\n",
    "from bs4 import BeautifulSoup\n",
    "import requests\n",
    "\n",
    "from selenium import webdriver  \n",
    "from webdriver_manager.chrome import ChromeDriverManager  \n",
    "from selenium.webdriver.common.keys import Keys  \n",
    "from selenium.webdriver.support.ui import Select \n",
    "\n",
    "from time import sleep\n",
    "\n",
    "pd.set_option('display.max_columns', None)"
   ]
  },
  {
   "cell_type": "code",
   "execution_count": 4,
   "metadata": {},
   "outputs": [
    {
     "ename": "NameError",
     "evalue": "name 'busqueda' is not defined",
     "output_type": "error",
     "traceback": [
      "\u001b[0;31m---------------------------------------------------------------------------\u001b[0m",
      "\u001b[0;31mNameError\u001b[0m                                 Traceback (most recent call last)",
      "\u001b[0;32m/var/folders/8b/dscb3hf534s_7dk8087c1m9m0000gn/T/ipykernel_93214/1133713899.py\u001b[0m in \u001b[0;36m<module>\u001b[0;34m\u001b[0m\n\u001b[1;32m      9\u001b[0m \u001b[0mdriver\u001b[0m\u001b[0;34m.\u001b[0m\u001b[0mfind_element\u001b[0m\u001b[0;34m(\u001b[0m\u001b[0;34m'css selector'\u001b[0m\u001b[0;34m,\u001b[0m \u001b[0;34m'#W0wltc > div'\u001b[0m\u001b[0;34m)\u001b[0m\u001b[0;34m.\u001b[0m\u001b[0mclick\u001b[0m\u001b[0;34m(\u001b[0m\u001b[0;34m)\u001b[0m\u001b[0;34m\u001b[0m\u001b[0;34m\u001b[0m\u001b[0m\n\u001b[1;32m     10\u001b[0m \u001b[0;31m# esto va dentro de un bucle que pasa por cada tupla en busqueda (hay que cambiar busqueda por la palabra que usemos en el for)\u001b[0m\u001b[0;34m\u001b[0m\u001b[0;34m\u001b[0m\u001b[0m\n\u001b[0;32m---> 11\u001b[0;31m \u001b[0mnotas\u001b[0m \u001b[0;34m=\u001b[0m \u001b[0;34m[\u001b[0m\u001b[0;34mf'{busqueda[0]}'\u001b[0m\u001b[0;34m,\u001b[0m\u001b[0;34m]\u001b[0m\u001b[0;34m\u001b[0m\u001b[0;34m\u001b[0m\u001b[0m\n\u001b[0m\u001b[1;32m     12\u001b[0m \u001b[0mdriver\u001b[0m\u001b[0;34m.\u001b[0m\u001b[0mfind_element\u001b[0m\u001b[0;34m(\u001b[0m\u001b[0;34m'css selector'\u001b[0m\u001b[0;34m,\u001b[0m \u001b[0;34mf'#APjFqb'\u001b[0m\u001b[0;34m)\u001b[0m\u001b[0;34m.\u001b[0m\u001b[0msend_keys\u001b[0m\u001b[0;34m(\u001b[0m\u001b[0mbusqueda\u001b[0m\u001b[0;34m[\u001b[0m\u001b[0;36m1\u001b[0m\u001b[0;34m]\u001b[0m\u001b[0;34m,\u001b[0m\u001b[0;34m' '\u001b[0m\u001b[0;34m,\u001b[0m \u001b[0mbusqueda\u001b[0m\u001b[0;34m[\u001b[0m\u001b[0;36m2\u001b[0m\u001b[0;34m]\u001b[0m\u001b[0;34m,\u001b[0m \u001b[0;34m'nota rotten tomatoes'\u001b[0m\u001b[0;34m,\u001b[0m \u001b[0mKeys\u001b[0m\u001b[0;34m.\u001b[0m\u001b[0mENTER\u001b[0m\u001b[0;34m)\u001b[0m\u001b[0;34m\u001b[0m\u001b[0;34m\u001b[0m\u001b[0m\n\u001b[1;32m     13\u001b[0m \u001b[0mnota\u001b[0m \u001b[0;34m=\u001b[0m \u001b[0mdriver\u001b[0m\u001b[0;34m.\u001b[0m\u001b[0mfind_element\u001b[0m\u001b[0;34m(\u001b[0m\u001b[0;34m'css selector'\u001b[0m\u001b[0;34m,\u001b[0m \u001b[0;34m'#rso > div:nth-child(1) > div > div > div:nth-child(3) > div > span:nth-child(2)'\u001b[0m\u001b[0;34m)\u001b[0m\u001b[0;34m.\u001b[0m\u001b[0mtext\u001b[0m\u001b[0;34m\u001b[0m\u001b[0;34m\u001b[0m\u001b[0m\n",
      "\u001b[0;31mNameError\u001b[0m: name 'busqueda' is not defined"
     ]
    }
   ],
   "source": [
    "# con un bucle, hay que hacer que busqueda sea una lista de tuplas con estos tres elementos ([0], [2], [5]) de cada película que tenemos\n",
    "# ejemplo ---- >  busqueda = ('tt0122459', 'Return to Me', 2000)\n",
    "lista_notas = []\n",
    "\n",
    "driver = webdriver.Chrome()\n",
    "driver.get('https://www.google.com/')\n",
    "driver.maximize_window()\n",
    "sleep(2)\n",
    "driver.find_element('css selector', '#W0wltc > div').click()\n",
    "# esto va dentro de un bucle que pasa por cada tupla en busqueda (hay que cambiar busqueda por la palabra que usemos en el for)\n",
    "notas = [f'{busqueda[0]}',]\n",
    "driver.find_element('css selector', f'#APjFqb').send_keys(busqueda[1],' ', busqueda[2], 'nota rotten tomatoes', Keys.ENTER)\n",
    "nota = driver.find_element('css selector', '#rso > div:nth-child(1) > div > div > div:nth-child(3) > div > span:nth-child(2)').text\n",
    "notas.append(nota)\n",
    "lista_notas.append(tuple(notas))"
   ]
  }
 ],
 "metadata": {
  "kernelspec": {
   "display_name": "base",
   "language": "python",
   "name": "python3"
  },
  "language_info": {
   "codemirror_mode": {
    "name": "ipython",
    "version": 3
   },
   "file_extension": ".py",
   "mimetype": "text/x-python",
   "name": "python",
   "nbconvert_exporter": "python",
   "pygments_lexer": "ipython3",
   "version": "3.9.7"
  }
 },
 "nbformat": 4,
 "nbformat_minor": 2
}
