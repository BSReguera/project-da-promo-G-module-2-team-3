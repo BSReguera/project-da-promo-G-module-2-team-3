{
 "cells": [
  {
   "cell_type": "code",
   "execution_count": 4,
   "metadata": {},
   "outputs": [
    {
     "name": "stdout",
     "output_type": "stream",
     "text": [
      "Requirement already satisfied: mysql-connector-python in /Users/maite/opt/anaconda3/lib/python3.9/site-packages (8.3.0)\n"
     ]
    }
   ],
   "source": [
    "#!pip install mysql-connector\n",
    "\n",
    "#!pip install mysql-connector-python"
   ]
  },
  {
   "cell_type": "code",
   "execution_count": null,
   "metadata": {},
   "outputs": [],
   "source": [
    "#instalar la extensión sqlalchemy"
   ]
  },
  {
   "cell_type": "code",
   "execution_count": 5,
   "metadata": {},
   "outputs": [],
   "source": [
    "\n",
    "# Importar librería para la conexión con MySQL\n",
    "# -----------------------------------------------------------------------\n",
    "import mysql.connector\n",
    "from mysql.connector import errorcode\n",
    "\n",
    "\n",
    "# Importar librerías para manipulación y análisis de datos\n",
    "# -----------------------------------------------------------------------\n",
    "import pandas as pd\n",
    "import numpy as np\n",
    "import sqlite3\n",
    "import io"
   ]
  },
  {
   "cell_type": "code",
   "execution_count": 6,
   "metadata": {},
   "outputs": [],
   "source": [
    "# creamos la conexión con los argumentos:\n",
    "\n",
    "cnx = mysql.connector.connect(user='root', password='AlumnaAdalab',\n",
    "                              host='127.0.0.1',\n",
    "                              database='proyecto_pelis')\n"
   ]
  },
  {
   "cell_type": "code",
   "execution_count": null,
   "metadata": {},
   "outputs": [],
   "source": [
    "\n",
    "# el nombre del archivo csv \n",
    "file = io.StringIO(\"Fase1_total_completo.csv\")\n",
    "\n",
    "db = sqlite3.connect(\":memory:\")\n",
    "\n",
    "df = pd.read_csv(file, header=None, names=(\"id_pelicula\", \"Genero\", \"Titulo\", \"Tipo\", \"Año_estreno\", \"Mes_estreno\"))\n",
    "df.to_sql(\"df\", db, index=False)\n",
    "\n",
    "\n",
    "try: \n",
    "    mycursor = db.cursor()\n",
    "    sql = (\"INSERT INTO Peliculas (id_pelicula, Genero, Titulo, Tipo, Año_estreno, Mes_estreno) VALUES (?,?,?,?,?,?,?)\")\n",
    "    values = (\"valor_id\", \"valor_genero\", \"valor_titulo\", \"valor_tipo\", \"valor_año\", \"valor_mes\")\n",
    "    mycursor.execute(sql, values)\n",
    "    \n",
    "    cnx.commit()\n",
    "    print(mycursor.rowcount, \"registro/s insertado/s.\")\n",
    "\n",
    "except mysql.connector.Error as err:\n",
    "    print(err)\n",
    "    print(\"Error Code:\", err.errno)\n",
    "    print(\"SQLSTATE\", err.sqlstate)\n",
    "    print(\"Message\", err.msg)\n",
    "\n",
    "for row in mycursor.fetchall():\n",
    "    print(row)\n",
    "    \n",
    "cnx.close()"
   ]
  }
 ],
 "metadata": {
  "kernelspec": {
   "display_name": "base",
   "language": "python",
   "name": "python3"
  },
  "language_info": {
   "codemirror_mode": {
    "name": "ipython",
    "version": 3
   },
   "file_extension": ".py",
   "mimetype": "text/x-python",
   "name": "python",
   "nbconvert_exporter": "python",
   "pygments_lexer": "ipython3",
   "version": "3.9.7"
  }
 },
 "nbformat": 4,
 "nbformat_minor": 2
}
