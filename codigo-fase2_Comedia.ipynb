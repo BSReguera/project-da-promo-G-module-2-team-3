{
 "cells": [
  {
   "cell_type": "markdown",
   "metadata": {},
   "source": [
    "## CÓDIGO IMDB DRAMA"
   ]
  },
  {
   "cell_type": "markdown",
   "metadata": {},
   "source": []
  },
  {
   "cell_type": "code",
   "execution_count": 1,
   "metadata": {},
   "outputs": [],
   "source": [
    "import pandas as pd\n",
    "\n",
    "from bs4 import BeautifulSoup\n",
    "import requests\n",
    "import json\n",
    "import csv\n",
    "import random\n",
    "import re\n",
    "\n",
    "from selenium import webdriver  \n",
    "from webdriver_manager.chrome import ChromeDriverManager  \n",
    "from selenium.webdriver.common.keys import Keys  \n",
    "from selenium.webdriver.support.ui import Select \n",
    "\n",
    "from time import sleep\n",
    "import numpy as np\n",
    "\n",
    "pd.set_option('display.max_columns', None)"
   ]
  },
  {
   "cell_type": "code",
   "execution_count": 2,
   "metadata": {},
   "outputs": [],
   "source": [
    "with open ('Fase1_datos/lista_comedia.json', 'r') as fichero:\n",
    "    lista_comedia = json.load (fichero)"
   ]
  },
  {
   "cell_type": "code",
   "execution_count": 4,
   "metadata": {},
   "outputs": [
    {
     "data": {
      "text/plain": [
       "4588"
      ]
     },
     "execution_count": 4,
     "metadata": {},
     "output_type": "execute_result"
    }
   ],
   "source": [
    "len(lista_comedia)"
   ]
  },
  {
   "cell_type": "code",
   "execution_count": 184,
   "metadata": {},
   "outputs": [],
   "source": [
    "busqueda = lista_comedia[4501:5001]"
   ]
  },
  {
   "cell_type": "code",
   "execution_count": 7,
   "metadata": {},
   "outputs": [],
   "source": [
    "# SOLO EJECUTAR UNA VEZ\n",
    "info_por_peli = []\n",
    "fallos = []"
   ]
  },
  {
   "cell_type": "code",
   "execution_count": 185,
   "metadata": {},
   "outputs": [
    {
     "name": "stdout",
     "output_type": "stream",
     "text": [
      "Película: 1\n",
      "Película: 2\n",
      "Película: 3\n",
      "Película: 4\n",
      "Película: 5\n",
      "Película: 6\n",
      "Película: 7\n",
      "Película: 8\n",
      "Película: 9\n",
      "Película: 10\n",
      "Película: 11\n",
      "Película: 12\n",
      "Película: 13\n",
      "Película: 14\n",
      "Película: 15\n",
      "Película: 16\n",
      "Película: 17\n",
      "Película: 18\n",
      "Película: 19\n",
      "Película: 20\n",
      "Película: 21\n",
      "Película: 22\n",
      "Película: 23\n",
      "Película: 24\n",
      "Película: 25\n",
      "Película: 26\n",
      "Película: 27\n",
      "Película: 28\n",
      "Película: 29\n",
      "Película: 30\n",
      "Película: 31\n",
      "Película: 32\n",
      "Película: 33\n",
      "Película: 34\n",
      "Película: 35\n",
      "Película: 36\n",
      "Película: 37\n",
      "Película: 38\n",
      "Película: 39\n",
      "Película: 40\n",
      "Película: 41\n",
      "Película: 42\n",
      "Película: 43\n",
      "Película: 44\n",
      "Película: 45\n",
      "Película: 46\n",
      "Película: 47\n",
      "Película: 48\n",
      "Película: 49\n",
      "Película: 50\n",
      "Película: 51\n",
      "Película: 52\n",
      "Película: 53\n",
      "Película: 54\n",
      "Película: 55\n",
      "Película: 56\n",
      "Película: 57\n",
      "Película: 58\n",
      "Película: 59\n",
      "Película: 60\n",
      "Película: 61\n",
      "Película: 62\n",
      "Película: 63\n",
      "Película: 64\n",
      "Película: 65\n",
      "Película: 66\n",
      "Película: 67\n",
      "Película: 68\n",
      "Película: 69\n",
      "Película: 70\n",
      "Película: 71\n",
      "Película: 72\n",
      "Película: 73\n",
      "Película: 74\n",
      "Película: 75\n",
      "Película: 76\n",
      "Película: 77\n",
      "Película: 78\n",
      "Película: 79\n",
      "Película: 80\n",
      "Película: 81\n",
      "Película: 82\n",
      "Película: 83\n",
      "Película: 84\n",
      "Película: 85\n",
      "Película: 86\n",
      "Película: 87\n"
     ]
    }
   ],
   "source": [
    "# Acceder a la web mediante la Url y maximizar:\n",
    "driver = webdriver.Chrome()\n",
    "driver.get('https://www.imdb.com/')\n",
    "driver.maximize_window()\n",
    "sleep(random.randint(1,3))\n",
    "\n",
    "\n",
    "# Rechazar cookies:\n",
    "driver.find_element('css selector', '#__next > div > div > div.sc-jrcTuL.bPmWiM > div > button.icb-btn.sc-bcXHqe.sc-hLBbgP.sc-ftTHYK.dcvrLS.dufgkr.ecppKW').click()\n",
    "sleep(random.randint(1,3))\n",
    "\n",
    "contador = 0\n",
    "\n",
    "# Entrando en cada título\n",
    "for peli in busqueda:\n",
    "    lista_info = [f'{peli[0]}',]\n",
    "    contador +=1\n",
    "    print(f'Película: {contador}')\n",
    "\n",
    "    try:\n",
    "        \n",
    "        # Metemos el ID en el buscador\n",
    "        try:\n",
    "            driver.find_element('css selector', '#suggestion-search').send_keys(peli[0], Keys.ENTER)\n",
    "            sleep(random.randint(1,3))\n",
    "\n",
    "            # Extraemos info\n",
    "            info = driver.find_element('xpath' , f'//*[@id=\"__next\"]/main/div/section[1]/section/div[3]/section').text\n",
    "            lista_info.append(info.split('\\n'))\n",
    "\n",
    "            info_por_peli.append(lista_info)\n",
    "        except:\n",
    "            fallos.append(peli)\n",
    "            driver.find_element('css selector', '#error > div.error_attrib > a').click()\n",
    "        \n",
    "                    \n",
    "    except:\n",
    "        continue"
   ]
  },
  {
   "cell_type": "code",
   "execution_count": 9,
   "metadata": {},
   "outputs": [],
   "source": [
    "# SOLO LA PRIMERA VEZ\n",
    "lista_tuplas = []"
   ]
  },
  {
   "cell_type": "code",
   "execution_count": 182,
   "metadata": {},
   "outputs": [],
   "source": [
    "# Recogida de los datos\n",
    "for peli in info_por_peli:\n",
    "    \n",
    "    patron = re.compile(r'([a-z])([A-Z])')\n",
    "    patron_duracion = re.compile(r'\\b(?:\\d+h\\s*)?\\d+min\\b')\n",
    "    tupla_datos = [peli[0],] \n",
    "\n",
    "    # Listas intermedias para ir checkeando\n",
    "    direccion = []\n",
    "    guion = []\n",
    "    nota = []\n",
    "    duracion = []\n",
    "    argumento = []\n",
    "        \n",
    "    for indice, linea in enumerate(peli[1]):\n",
    "               \n",
    "        \n",
    "        # Directores    \n",
    "        if 'Dirección' in linea:\n",
    "                                \n",
    "            directores = patron.sub(r'\\1, \\2', peli[1][indice+1])\n",
    "            direccion.append(directores)            \n",
    "\n",
    "\n",
    "        # Guionistas\n",
    "        elif 'Guión' in linea:\n",
    "            \n",
    "            guionistas = patron.sub(r'\\1, \\2', peli[1][indice+1])\n",
    "            guion.append(guionistas)\n",
    "                \n",
    "        \n",
    "        # Nota y duracion\n",
    "        elif 'PUNTUACIÓN EN IMDb' in linea:\n",
    "            nota.append(float(peli[1][indice+1].replace(',', '.')))\n",
    "            \n",
    "            if r'\\d+h' or r'\\d+min' in peli[1][indice-1]:  \n",
    "                duracion.append(peli[1][indice-1])\n",
    "            \n",
    "                    \n",
    "        # Argumento\n",
    "        elif 'Añade un argumento en tu idioma' in linea:\n",
    "            argumento.append(peli[1][indice+1])\n",
    "\n",
    "    # Añadimos a la tupla los datos de la lista intermedia\n",
    "    for elemento in [direccion, guion, nota, duracion, argumento]:\n",
    "        if elemento != []:\n",
    "            tupla_datos.append(elemento[0])\n",
    "        else:\n",
    "            tupla_datos.append(np.nan)\n",
    "    \n",
    "    lista_tuplas.append(tupla_datos)"
   ]
  },
  {
   "cell_type": "code",
   "execution_count": 183,
   "metadata": {},
   "outputs": [],
   "source": [
    "# Creacion de Dataframe\n",
    "df = pd.DataFrame(lista_tuplas)\n",
    "\n",
    "# Guarda la informacion recopilada en un documento csv\n",
    "df.to_csv('InfoComediaBien.csv', index=False)\n"
   ]
  }
 ],
 "metadata": {
  "kernelspec": {
   "display_name": "Python 3",
   "language": "python",
   "name": "python3"
  },
  "language_info": {
   "codemirror_mode": {
    "name": "ipython",
    "version": 3
   },
   "file_extension": ".py",
   "mimetype": "text/x-python",
   "name": "python",
   "nbconvert_exporter": "python",
   "pygments_lexer": "ipython3",
   "version": "3.9.7"
  }
 },
 "nbformat": 4,
 "nbformat_minor": 2
}
