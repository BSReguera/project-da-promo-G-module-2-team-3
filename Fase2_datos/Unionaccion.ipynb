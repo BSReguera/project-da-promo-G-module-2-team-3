{
 "cells": [
  {
   "cell_type": "markdown",
   "metadata": {},
   "source": [
    "# CODIGO UNION ARCHIVOS ROTTEM GENEROS - ACCION"
   ]
  },
  {
   "cell_type": "code",
   "execution_count": 1,
   "metadata": {},
   "outputs": [],
   "source": [
    "# Importaciones necesarias\n",
    "import pandas as pd"
   ]
  },
  {
   "cell_type": "code",
   "execution_count": 2,
   "metadata": {},
   "outputs": [],
   "source": [
    "# Lee los tres archivos CSV en DataFrames\n",
    "df1 = pd.read_csv('rottem_accion.csv')\n",
    "df2 = pd.read_csv('rottem_accion_2.csv')\n",
    "df3 = pd.read_csv('rottem_accion_3.csv')\n",
    "\n",
    "# Combina los DataFrames en uno solo\n",
    "df_rotten_accion = pd.concat([df1, df2, df3], ignore_index=True)"
   ]
  },
  {
   "cell_type": "code",
   "execution_count": 3,
   "metadata": {},
   "outputs": [],
   "source": [
    "# Guarda el DataFrame combinado en un nuevo archivo CSV\n",
    "df_rotten_accion.to_csv('rottem_accion_completo.csv', index=False)"
   ]
  },
  {
   "cell_type": "markdown",
   "metadata": {},
   "source": [
    "# ELIMINACION DE DUPLICADOS POR GENEROS DE ROTTEM "
   ]
  },
  {
   "cell_type": "code",
   "execution_count": 4,
   "metadata": {},
   "outputs": [],
   "source": [
    "# 1. ACCION\n",
    "# Leer el archivo CSV\n",
    "df = pd.read_csv('rottem_accion_completo.csv')\n",
    "\n",
    "# Eliminar duplicados basados en todas las columnas\n",
    "df_sin_duplicados = df.drop_duplicates()\n",
    "\n",
    "# Guardar el DataFrame sin duplicados en un nuevo archivo CSV\n",
    "df_sin_duplicados.to_csv('rottem_accion_completo_sin_duplicados.csv', index=False)"
   ]
  },
  {
   "cell_type": "code",
   "execution_count": 7,
   "metadata": {},
   "outputs": [],
   "source": [
    "# 2. COMEDIA\n",
    "# Leer el archivo CSV\n",
    "df = pd.read_csv('rottem_comedia.csv')\n",
    "\n",
    "# Eliminar duplicados basados en todas las columnas\n",
    "df_sin_duplicados = df.drop_duplicates()\n",
    "\n",
    "# Guardar el DataFrame sin duplicados en un nuevo archivo CSV\n",
    "df_sin_duplicados.to_csv('rottem_comedia_sin_duplicados.csv', index=False)"
   ]
  },
  {
   "cell_type": "code",
   "execution_count": 6,
   "metadata": {},
   "outputs": [],
   "source": [
    "# 3. DRAMA\n",
    "# Leer el archivo CSV\n",
    "df = pd.read_csv('rottem_drama.csv')\n",
    "\n",
    "# Eliminar duplicados basados en todas las columnas\n",
    "df_sin_duplicados = df.drop_duplicates()\n",
    "\n",
    "# Guardar el DataFrame sin duplicados en un nuevo archivo CSV\n",
    "df_sin_duplicados.to_csv('rottem_drama_sin_duplicados.csv', index=False)"
   ]
  }
 ],
 "metadata": {
  "kernelspec": {
   "display_name": "base",
   "language": "python",
   "name": "python3"
  },
  "language_info": {
   "codemirror_mode": {
    "name": "ipython",
    "version": 3
   },
   "file_extension": ".py",
   "mimetype": "text/x-python",
   "name": "python",
   "nbconvert_exporter": "python",
   "pygments_lexer": "ipython3",
   "version": "3.9.12"
  }
 },
 "nbformat": 4,
 "nbformat_minor": 2
}
