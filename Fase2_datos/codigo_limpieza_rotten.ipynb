{
 "cells": [
  {
   "cell_type": "code",
   "execution_count": 1,
   "metadata": {},
   "outputs": [],
   "source": [
    "import csv"
   ]
  },
  {
   "cell_type": "code",
   "execution_count": 9,
   "metadata": {},
   "outputs": [
    {
     "name": "stdout",
     "output_type": "stream",
     "text": [
      "3056\n",
      "1358\n"
     ]
    }
   ],
   "source": [
    "#limpieza de las calificaciones de rotten de COMEDIA\n",
    "\n",
    "with open(\"Archivos_ROTTEM/rottem_comedia_sin_duplicados.csv\", 'r') as archivo:\n",
    "    leer = csv.reader(archivo)\n",
    "    lista = list(leer)\n",
    "\n",
    "lista_limpia_comedia = []\n",
    "lista_errores_comedia = []\n",
    "\n",
    "for sublista in lista:\n",
    "    if \"%\" not in sublista[1]:\n",
    "        lista_errores_comedia.append(sublista[0:2])\n",
    "        \n",
    "    else:\n",
    "        lista_limpia_comedia.append(sublista[0:2])        \n",
    "print(len(lista_limpia_comedia))\n",
    "print(len(lista_errores_comedia))"
   ]
  },
  {
   "cell_type": "code",
   "execution_count": 8,
   "metadata": {},
   "outputs": [
    {
     "data": {
      "text/plain": [
       "[['tt0271337', '14%'],\n",
       " ['tt0271444', '14%'],\n",
       " ['tt0274166', '14%'],\n",
       " ['tt0274523', '14%'],\n",
       " ['tt0278422', '14%'],\n",
       " ['tt0275692', '52%'],\n",
       " ['tt0277171', '40%'],\n",
       " ['tt0282667', '53%'],\n",
       " ['tt0283426', '18%'],\n",
       " ['tt0282141', '18%']]"
      ]
     },
     "execution_count": 8,
     "metadata": {},
     "output_type": "execute_result"
    }
   ],
   "source": [
    "lista_limpia_comedia[:10]"
   ]
  },
  {
   "cell_type": "code",
   "execution_count": 14,
   "metadata": {},
   "outputs": [
    {
     "name": "stdout",
     "output_type": "stream",
     "text": [
      "3438\n",
      "92\n"
     ]
    }
   ],
   "source": [
    "#limpieza de las calificaciones de rotten de Accion\n",
    "\n",
    "with open(\"Archivos_ROTTEM/rottem_accion_completo_sin_duplicados.csv\", 'r') as archivo:\n",
    "    leer = csv.reader(archivo)\n",
    "    lista = list(leer)\n",
    "\n",
    "lista_limpia_accion = []\n",
    "lista_errores_accion = []\n",
    "\n",
    "for sublista in lista:\n",
    "    if \"%\" not in sublista[1]:\n",
    "        lista_errores_accion.append(sublista[0:2])\n",
    "        \n",
    "    else:\n",
    "        lista_limpia_accion.append(sublista[0:2])        \n",
    "print(len(lista_limpia_accion))\n",
    "print(len(lista_errores_accion))"
   ]
  },
  {
   "cell_type": "code",
   "execution_count": 15,
   "metadata": {},
   "outputs": [
    {
     "data": {
      "text/plain": [
       "[['tt0113092', '60%'],\n",
       " ['tt0116391', '60%'],\n",
       " ['tt0116628', '60%'],\n",
       " ['tt0119273', ' 8%'],\n",
       " ['tt0120755', ' 8%'],\n",
       " ['tt0120913', '50%'],\n",
       " ['tt0120903', '82%'],\n",
       " ['tt0132910', '18%'],\n",
       " ['tt0134847', '59%'],\n",
       " ['tt0141926', '68%']]"
      ]
     },
     "execution_count": 15,
     "metadata": {},
     "output_type": "execute_result"
    }
   ],
   "source": [
    "lista_limpia_accion[:10]"
   ]
  },
  {
   "cell_type": "code",
   "execution_count": 16,
   "metadata": {},
   "outputs": [
    {
     "name": "stdout",
     "output_type": "stream",
     "text": [
      "4839\n",
      "197\n"
     ]
    }
   ],
   "source": [
    "#limpieza de las calificaciones de rotten de DRAMA\n",
    "\n",
    "with open(\"Archivos_ROTTEM/rottem_drama_sin_duplicados.csv\", 'r') as archivo:\n",
    "    leer = csv.reader(archivo)\n",
    "    lista = list(leer)\n",
    "\n",
    "lista_limpia_drama = []\n",
    "lista_errores_drama = []\n",
    "\n",
    "for sublista in lista:\n",
    "    if \"%\" not in sublista[1]:\n",
    "        lista_errores_drama.append(sublista[0:2])\n",
    "        \n",
    "    else:\n",
    "        lista_limpia_drama.append(sublista[0:2])        \n",
    "print(len(lista_limpia_drama))\n",
    "print(len(lista_errores_drama))"
   ]
  },
  {
   "cell_type": "code",
   "execution_count": 19,
   "metadata": {},
   "outputs": [
    {
     "name": "stderr",
     "output_type": "stream",
     "text": [
      "C:\\Users\\maria\\AppData\\Local\\Temp\\ipykernel_20772\\4080736814.py:1: DeprecationWarning: \n",
      "Pyarrow will become a required dependency of pandas in the next major release of pandas (pandas 3.0),\n",
      "(to allow more performant data types, such as the Arrow string type, and better interoperability with other libraries)\n",
      "but was not found to be installed on your system.\n",
      "If this would cause problems for you,\n",
      "please provide us feedback at https://github.com/pandas-dev/pandas/issues/54466\n",
      "        \n",
      "  import pandas as pd\n"
     ]
    }
   ],
   "source": [
    "import pandas as pd"
   ]
  },
  {
   "cell_type": "code",
   "execution_count": 20,
   "metadata": {},
   "outputs": [],
   "source": [
    "#guardar los tres documentos limpios como csv\n",
    "\n",
    "\n",
    "df_accion = pd.DataFrame(lista_limpia_accion)\n",
    "df_accion.to_csv(\"rottem_accion_completo_sin_duplicados_limpio.csv\", index=False)\n",
    "\n",
    "df_comedia = pd.DataFrame(lista_limpia_comedia)\n",
    "df_comedia.to_csv(\"rottem_comedia_sin_duplicados_limpio.csv\", index=False)\n",
    "\n",
    "df_drama = pd.DataFrame(lista_limpia_drama)\n",
    "df_drama.to_csv(\"rottem_drama_sin_duplicados_limpio.csv\", index=False)"
   ]
  }
 ],
 "metadata": {
  "kernelspec": {
   "display_name": "base",
   "language": "python",
   "name": "python3"
  },
  "language_info": {
   "codemirror_mode": {
    "name": "ipython",
    "version": 3
   },
   "file_extension": ".py",
   "mimetype": "text/x-python",
   "name": "python",
   "nbconvert_exporter": "python",
   "pygments_lexer": "ipython3",
   "version": "3.11.8"
  }
 },
 "nbformat": 4,
 "nbformat_minor": 2
}
