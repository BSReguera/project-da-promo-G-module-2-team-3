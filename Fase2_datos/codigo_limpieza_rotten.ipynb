{
 "cells": [
  {
   "cell_type": "code",
   "execution_count": 8,
   "metadata": {},
   "outputs": [],
   "source": [
    "import csv"
   ]
  },
  {
   "cell_type": "code",
   "execution_count": 9,
   "metadata": {},
   "outputs": [
    {
     "name": "stdout",
     "output_type": "stream",
     "text": [
      "3056\n",
      "1358\n"
     ]
    }
   ],
   "source": [
    "#limpieza de las calificaciones de rotten de COMEDIA\n",
    "\n",
    "with open(\"rottem_comedia_sin_duplicados.csv\", 'r') as archivo:\n",
    "    leer = csv.reader(archivo)\n",
    "    lista = list(leer)\n",
    "\n",
    "lista_limpia_comedia = []\n",
    "lista_errores_comedia = []\n",
    "\n",
    "for sublista in lista:\n",
    "    if \"%\" not in sublista[1]:\n",
    "        lista_errores_comedia.append(sublista[1])\n",
    "        \n",
    "    else:\n",
    "        lista_limpia_comedia.append(sublista[1])\n",
    "        \n",
    "print(len(lista_limpia_comedia))\n",
    "print(len(lista_errores_comedia))"
   ]
  },
  {
   "cell_type": "code",
   "execution_count": 10,
   "metadata": {},
   "outputs": [
    {
     "name": "stdout",
     "output_type": "stream",
     "text": [
      "3438\n",
      "92\n"
     ]
    }
   ],
   "source": [
    "#limpieza de las calificaciones de rotten de ACCION\n",
    "with open(\"rottem_accion_completo_sin_duplicados.csv\", 'r') as archivo:\n",
    "    leer = csv.reader(archivo)\n",
    "    lista = list(leer)\n",
    "\n",
    "lista_limpia_accion = []\n",
    "lista_errores_accion = []\n",
    "\n",
    "for sublista in lista:\n",
    "    if \"%\" not in sublista[1]:\n",
    "        lista_errores_accion.append(sublista[1])\n",
    "        \n",
    "    else:\n",
    "        lista_limpia_accion.append(sublista[1])\n",
    "        \n",
    "print(len(lista_limpia_accion))\n",
    "print(len(lista_errores_accion))"
   ]
  },
  {
   "cell_type": "code",
   "execution_count": 11,
   "metadata": {},
   "outputs": [
    {
     "name": "stdout",
     "output_type": "stream",
     "text": [
      "4839\n",
      "197\n"
     ]
    }
   ],
   "source": [
    "#limpieza de las calificaciones de rotten de DRAMA\n",
    "\n",
    "with open(\"rottem_drama_sin_duplicados.csv\", 'r') as archivo:\n",
    "    leer = csv.reader(archivo)\n",
    "    lista = list(leer)\n",
    "\n",
    "lista_limpia_drama = []\n",
    "lista_errores_drama = []\n",
    "\n",
    "for sublista in lista:\n",
    "    if \"%\" not in sublista[1]:\n",
    "        lista_errores_drama.append(sublista[1])\n",
    "        \n",
    "    else:\n",
    "        lista_limpia_drama.append(sublista[1])\n",
    "        \n",
    "print(len(lista_limpia_drama))\n",
    "print(len(lista_errores_drama))"
   ]
  },
  {
   "cell_type": "code",
   "execution_count": 12,
   "metadata": {},
   "outputs": [],
   "source": [
    "import pandas as pd"
   ]
  },
  {
   "cell_type": "code",
   "execution_count": 13,
   "metadata": {},
   "outputs": [],
   "source": [
    "#guardar los tres documentos limpios como csv\n",
    "\n",
    "\n",
    "df_accion = pd.DataFrame(lista_limpia_accion)\n",
    "df_accion.to_csv(\"rottem_accion_completo_sin_duplicados_limpio.csv\", index=False)\n",
    "\n",
    "df_comedia = pd.DataFrame(lista_limpia_comedia)\n",
    "df_comedia.to_csv(\"rottem_comedia_sin_duplicados_limpio.csv\", index=False)\n",
    "\n",
    "df_drama = pd.DataFrame(lista_limpia_drama)\n",
    "df_drama.to_csv(\"rottem_drama_sin_duplicados_limpio.csv\", index=False)"
   ]
  }
 ],
 "metadata": {
  "kernelspec": {
   "display_name": "base",
   "language": "python",
   "name": "python3"
  },
  "language_info": {
   "codemirror_mode": {
    "name": "ipython",
    "version": 3
   },
   "file_extension": ".py",
   "mimetype": "text/x-python",
   "name": "python",
   "nbconvert_exporter": "python",
   "pygments_lexer": "ipython3",
   "version": "3.9.7"
  }
 },
 "nbformat": 4,
 "nbformat_minor": 2
}
