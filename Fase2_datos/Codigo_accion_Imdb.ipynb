{
 "cells": [
  {
   "cell_type": "markdown",
   "metadata": {},
   "source": [
    "## CÓDIGO IMDB ACCION"
   ]
  },
  {
   "cell_type": "code",
   "execution_count": 26,
   "metadata": {},
   "outputs": [],
   "source": [
    "import pandas as pd\n",
    "\n",
    "from bs4 import BeautifulSoup\n",
    "import requests\n",
    "import json\n",
    "import csv\n",
    "import random\n",
    "import re\n",
    "\n",
    "from selenium import webdriver  \n",
    "from webdriver_manager.chrome import ChromeDriverManager  \n",
    "from selenium.webdriver.common.keys import Keys  \n",
    "from selenium.webdriver.support.ui import Select \n",
    "\n",
    "from time import sleep\n",
    "import numpy as np\n",
    "\n",
    "pd.set_option('display.max_columns', None)"
   ]
  },
  {
   "cell_type": "code",
   "execution_count": 28,
   "metadata": {},
   "outputs": [],
   "source": [
    "with open ('../Fase1_datos/Extracciones/lista_accion.json', 'r') as fichero:\n",
    "    lista_accion = json.load (fichero)"
   ]
  },
  {
   "cell_type": "code",
   "execution_count": 29,
   "metadata": {},
   "outputs": [
    {
     "data": {
      "text/plain": [
       "3679"
      ]
     },
     "execution_count": 29,
     "metadata": {},
     "output_type": "execute_result"
    }
   ],
   "source": [
    "len(lista_accion)"
   ]
  },
  {
   "cell_type": "code",
   "execution_count": 30,
   "metadata": {},
   "outputs": [],
   "source": [
    "busqueda = lista_accion[3401:3421]"
   ]
  },
  {
   "cell_type": "code",
   "execution_count": 31,
   "metadata": {},
   "outputs": [],
   "source": [
    "# SOLO EJECUTAR UNA VEZ\n",
    "info_por_peli = []\n",
    "fallos = []"
   ]
  },
  {
   "cell_type": "code",
   "execution_count": 32,
   "metadata": {},
   "outputs": [
    {
     "name": "stdout",
     "output_type": "stream",
     "text": [
      "Película: 1\n",
      "Película: 2\n",
      "Película: 3\n",
      "Película: 4\n",
      "Película: 5\n",
      "Película: 6\n",
      "Película: 7\n",
      "Película: 8\n",
      "Película: 9\n",
      "Película: 10\n",
      "Película: 11\n",
      "Película: 12\n",
      "Película: 13\n",
      "Película: 14\n",
      "Película: 15\n",
      "Película: 16\n",
      "Película: 17\n",
      "Película: 18\n",
      "Película: 19\n",
      "Película: 20\n"
     ]
    }
   ],
   "source": [
    "# Acceder a la web mediente la Url y maximizar:\n",
    "driver = webdriver.Chrome()\n",
    "driver.get('https://www.imdb.com/')\n",
    "driver.maximize_window()\n",
    "sleep(random.randint(1,3))\n",
    "\n",
    "\n",
    "# Rechazar cookies:\n",
    "driver.find_element('css selector', '#__next > div > div > div.sc-jrcTuL.bPmWiM > div > button.icb-btn.sc-bcXHqe.sc-hLBbgP.sc-ftTHYK.dcvrLS.dufgkr.ecppKW').click()\n",
    "sleep(random.randint(1,3))\n",
    "\n",
    "contador = 0\n",
    "\n",
    "try:\n",
    "\n",
    "    # Entrando en cada título\n",
    "    for peli in busqueda:\n",
    "        lista_info = [f'{peli[0]}',]\n",
    "        contador +=1\n",
    "        print(f'Película: {contador}')\n",
    "\n",
    "        try:\n",
    "            \n",
    "            # Metemos el ID en el buscador\n",
    "            try:\n",
    "                driver.find_element('css selector', '#suggestion-search').send_keys(peli[0], Keys.ENTER)\n",
    "                sleep(random.randint(1,3))\n",
    "\n",
    "                # Extraemos info\n",
    "                info = driver.find_element('xpath' , f'//*[@id=\"__next\"]/main/div/section[1]/section/div[3]/section').text\n",
    "                lista_info.append(info.split('\\n'))\n",
    "\n",
    "                info_por_peli.append(lista_info)\n",
    "            except:\n",
    "                fallos.append(peli)\n",
    "                driver.find_element('css selector', '#error > div.error_attrib > a').click()\n",
    "                \n",
    "                        \n",
    "        except:\n",
    "            \n",
    "            continue\n",
    "\n",
    "except requests.exceptions.RequestException as e:\n",
    "    \n",
    "    if isinstance(e, requests.exceptions.HTTPError) and e.response.status_code == 404:\n",
    "            print('La página solicitada no fue encontrada (404).')\n",
    "    else:\n",
    "        print('Error al realizar la solicitud:', e)\n",
    "\n",
    "\n",
    "        \n"
   ]
  },
  {
   "cell_type": "code",
   "execution_count": 8,
   "metadata": {},
   "outputs": [],
   "source": [
    "# SOLO LA PRIMERA VEZ\n",
    "lista_tuplas = []"
   ]
  },
  {
   "cell_type": "code",
   "execution_count": 18,
   "metadata": {},
   "outputs": [],
   "source": [
    "# recogida de los datos\n",
    "for peli in info_por_peli:\n",
    "    \n",
    "    patron = re.compile(r'([a-z])([A-Z])')\n",
    "    patron_duracion = re.compile(r'\\b(?:\\d+h\\s*)?\\d+min\\b')\n",
    "    tupla_datos = [peli[0],] \n",
    "\n",
    "    # listas intermedias para ir checkeando\n",
    "    direccion = []\n",
    "    guion = []\n",
    "    nota = []\n",
    "    duracion = []\n",
    "    argumento = []\n",
    "        \n",
    "    for indice, linea in enumerate(peli[1]):\n",
    "               \n",
    "        \n",
    "        # directores    \n",
    "        if 'Dirección' in linea:\n",
    "                                \n",
    "            directores = patron.sub(r'\\1, \\2', peli[1][indice+1])\n",
    "            direccion.append(directores)            \n",
    "\n",
    "\n",
    "        # guionistas\n",
    "        elif 'Guión' in linea:\n",
    "            \n",
    "            guionistas = patron.sub(r'\\1, \\2', peli[1][indice+1])\n",
    "            guion.append(guionistas)\n",
    "                \n",
    "        \n",
    "        # nota y duracion\n",
    "        elif 'PUNTUACIÓN EN IMDb' in linea:\n",
    "            nota.append(float(peli[1][indice+1].replace(',', '.')))\n",
    "            \n",
    "            if r'\\d+h' or r'\\d+min' in peli[1][indice-1]:  \n",
    "                duracion.append(peli[1][indice-1])\n",
    "            \n",
    "                    \n",
    "        # argumento\n",
    "        elif 'Añade un argumento en tu idioma' in linea:\n",
    "            argumento.append(peli[1][indice+1])\n",
    "\n",
    "    # añadimos a la tupla los datos de la lista intermedia\n",
    "    for elemento in [direccion, guion, nota, duracion, argumento]:\n",
    "        if elemento != []:\n",
    "            tupla_datos.append(elemento[0])\n",
    "        else:\n",
    "            tupla_datos.append(np.nan)\n",
    "    \n",
    "    lista_tuplas.append(tupla_datos)"
   ]
  },
  {
   "cell_type": "code",
   "execution_count": 19,
   "metadata": {},
   "outputs": [],
   "source": [
    "# Creacion de Dataframe\n",
    "df_tupla = pd.DataFrame(lista_tuplas)"
   ]
  },
  {
   "cell_type": "code",
   "execution_count": 20,
   "metadata": {},
   "outputs": [],
   "source": [
    "# Guarda la informacion recopilada en un documento csv\n",
    "df_tupla.to_csv('accion_IMDB.csv', index=False)"
   ]
  },
  {
   "cell_type": "code",
   "execution_count": 21,
   "metadata": {},
   "outputs": [],
   "source": [
    "df_accion_IMDB = pd.read_csv(\"Archivos_IMDB/accion_IMDB.csv\")"
   ]
  },
  {
   "cell_type": "code",
   "execution_count": 22,
   "metadata": {},
   "outputs": [],
   "source": [
    "df_accion_limpio = df_accion_IMDB.drop_duplicates() "
   ]
  },
  {
   "cell_type": "code",
   "execution_count": 23,
   "metadata": {},
   "outputs": [],
   "source": [
    "df_accion_limpio.to_csv('Archivos_IMDB/accion_IMDB7.csv', index=False)"
   ]
  }
 ],
 "metadata": {
  "kernelspec": {
   "display_name": "Python 3",
   "language": "python",
   "name": "python3"
  },
  "language_info": {
   "codemirror_mode": {
    "name": "ipython",
    "version": 3
   },
   "file_extension": ".py",
   "mimetype": "text/x-python",
   "name": "python",
   "nbconvert_exporter": "python",
   "pygments_lexer": "ipython3",
   "version": "3.11.8"
  }
 },
 "nbformat": 4,
 "nbformat_minor": 2
}
