{
 "cells": [
  {
   "cell_type": "code",
   "execution_count": 20,
   "metadata": {},
   "outputs": [],
   "source": [
    "import pandas as pd\n",
    "\n",
    "from bs4 import BeautifulSoup\n",
    "import requests\n",
    "import json\n",
    "import csv\n",
    "\n",
    "from selenium import webdriver  \n",
    "from webdriver_manager.chrome import ChromeDriverManager  \n",
    "from selenium.webdriver.common.keys import Keys  \n",
    "from selenium.webdriver.support.ui import Select \n",
    "\n",
    "from time import sleep\n",
    "\n",
    "pd.set_option('display.max_columns', None)"
   ]
  },
  {
   "cell_type": "code",
   "execution_count": 21,
   "metadata": {},
   "outputs": [],
   "source": [
    "with open ('../Fase1_datos/lista_accion.json', 'r') as fichero:\n",
    "    lista_accion = json.load (fichero)"
   ]
  },
  {
   "cell_type": "code",
   "execution_count": 26,
   "metadata": {},
   "outputs": [],
   "source": [
    "busqueda = lista_accion[0:11]"
   ]
  },
  {
   "cell_type": "code",
   "execution_count": 27,
   "metadata": {},
   "outputs": [],
   "source": [
    "lista_notas = []\n",
    "errores = []"
   ]
  },
  {
   "cell_type": "code",
   "execution_count": 28,
   "metadata": {},
   "outputs": [],
   "source": [
    "driver = webdriver.Chrome()\n",
    "driver.get('https://www.google.com/')\n",
    "driver.maximize_window()\n",
    "sleep(2)\n",
    "\n",
    "driver.find_element('css selector', '#W0wltc > div').click()\n",
    "sleep(1)\n",
    "\n",
    "\n",
    "for pelicula in busqueda:\n",
    "    notas = [f'{pelicula[0]}',]\n",
    "        \n",
    "    try:\n",
    "        driver.find_element('css selector', '#APjFqb').send_keys(pelicula[2],' ', pelicula[4], ' rotten tomatoes', Keys.ENTER)\n",
    "        sleep(1)\n",
    "\n",
    "        nota = driver.find_element('css selector', '#rso > div:nth-child(1) > div > div > div:nth-child(3) > div > span:nth-child(2)').text\n",
    "        \n",
    "    except:\n",
    "        errores.append(pelicula)\n",
    "        \n",
    "    notas.append(nota[-3:])    \n",
    "    driver.find_element('css selector', '#APjFqb').clear() \n",
    "    \n",
    "    lista_notas.append(tuple(notas))"
   ]
  },
  {
   "cell_type": "code",
   "execution_count": 29,
   "metadata": {},
   "outputs": [
    {
     "data": {
      "text/plain": [
       "[('tt0113092', ' 0%'),\n",
       " ('tt0116391', ' 0%'),\n",
       " ('tt0116628', ' 0%'),\n",
       " ('tt0119273', ' 8%'),\n",
       " ('tt0120755', ' 8%'),\n",
       " ('tt0120913', '50%'),\n",
       " ('tt0120903', '82%'),\n",
       " ('tt0132910', '18%'),\n",
       " ('tt0134847', '59%'),\n",
       " ('tt0141926', '68%'),\n",
       " ('tt0143344', '68%')]"
      ]
     },
     "execution_count": 29,
     "metadata": {},
     "output_type": "execute_result"
    }
   ],
   "source": [
    "lista_notas"
   ]
  },
  {
   "cell_type": "code",
   "execution_count": 19,
   "metadata": {},
   "outputs": [],
   "source": [
    "errores = []"
   ]
  },
  {
   "cell_type": "code",
   "execution_count": null,
   "metadata": {},
   "outputs": [],
   "source": [
    "df = lista_notas\n",
    "df.to_csv('NotasRotten.csv', index=False)"
   ]
  }
 ],
 "metadata": {
  "kernelspec": {
   "display_name": "Python 3",
   "language": "python",
   "name": "python3"
  },
  "language_info": {
   "codemirror_mode": {
    "name": "ipython",
    "version": 3
   },
   "file_extension": ".py",
   "mimetype": "text/x-python",
   "name": "python",
   "nbconvert_exporter": "python",
   "pygments_lexer": "ipython3",
   "version": "3.11.8"
  }
 },
 "nbformat": 4,
 "nbformat_minor": 2
}
