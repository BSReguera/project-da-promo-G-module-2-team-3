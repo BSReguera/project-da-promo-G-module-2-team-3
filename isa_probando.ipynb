{
 "cells": [
  {
   "cell_type": "code",
   "execution_count": 2,
   "metadata": {},
   "outputs": [],
   "source": [
    "import pandas as pd\n",
    "import requests\n",
    "import re\n",
    "import json\n",
    "pd.set_option(\"display.max_columns\",None)"
   ]
  },
  {
   "cell_type": "code",
   "execution_count": 3,
   "metadata": {},
   "outputs": [],
   "source": [
    "with open ('drama_2014.json') as fichero:\n",
    "    drama = json.load(fichero)"
   ]
  },
  {
   "cell_type": "code",
   "execution_count": 5,
   "metadata": {},
   "outputs": [
    {
     "data": {
      "text/plain": [
       "dict_keys(['2002', '2000', '2001', '2003', '2004', '2005', '2006', '2007', '2008', '2009', '2010', '2011', '2012', '2013', '2014'])"
      ]
     },
     "execution_count": 5,
     "metadata": {},
     "output_type": "execute_result"
    }
   ],
   "source": [
    "drama.keys()"
   ]
  },
  {
   "cell_type": "code",
   "execution_count": 2,
   "metadata": {},
   "outputs": [],
   "source": [
    "diccionario_drama = {}"
   ]
  },
  {
   "cell_type": "code",
   "execution_count": 3,
   "metadata": {},
   "outputs": [],
   "source": [
    "def extraccion_automatica(year_inicio, year_final): \n",
    "\n",
    "    # bucle por años (inicio, final)\n",
    "    for year in range(year_inicio, (year_final + 1)):\n",
    "        diccionario_por_anios = {f'{year}': []}\n",
    "\n",
    "        # itera por páginas (1 a 50)\n",
    "        for page in range(1,51):    # recordad que hay que cambiar la api KEY\n",
    "            \n",
    "            url = \"https://moviesdatabase.p.rapidapi.com/titles\"\n",
    "\n",
    "            querystring = {\"genre\":\"Drama\",\"year\":f\"{year}\",\"page\":f\"{page}\"}\n",
    "\n",
    "            headers = {\n",
    "                \"X-RapidAPI-Key\": \"8e4328b22bmshd0911961ab133a2p1f61dbjsn397c1f6b789d\",\n",
    "                \"X-RapidAPI-Host\": \"moviesdatabase.p.rapidapi.com\"\n",
    "            }\n",
    "\n",
    "            response = requests.get(url, headers=headers, params=querystring)\n",
    "            print(f'Página {page}: {response.status_code}')\n",
    "            peliculas = response.json()\n",
    "            print('-'*10)\n",
    "            \n",
    "            \n",
    "            for pelicula in peliculas['results']:\n",
    "                diccionario_por_anios[f'{year}'].append(pelicula)\n",
    "\n",
    "                \n",
    "        # cambiar nombre aquí también\n",
    "        diccionario_drama.update(diccionario_por_anios)"
   ]
  },
  {
   "cell_type": "code",
   "execution_count": 51,
   "metadata": {},
   "outputs": [
    {
     "name": "stdout",
     "output_type": "stream",
     "text": [
      "Página 1: 200\n",
      "----------\n",
      "Página 2: 200\n",
      "----------\n",
      "Página 3: 200\n",
      "----------\n",
      "Página 4: 200\n",
      "----------\n",
      "Página 5: 200\n",
      "----------\n",
      "Página 6: 200\n",
      "----------\n",
      "Página 7: 200\n",
      "----------\n",
      "Página 8: 200\n",
      "----------\n",
      "Página 9: 200\n",
      "----------\n",
      "Página 10: 200\n",
      "----------\n",
      "Página 11: 200\n",
      "----------\n",
      "Página 12: 200\n",
      "----------\n",
      "Página 13: 200\n",
      "----------\n",
      "Página 14: 200\n",
      "----------\n",
      "Página 15: 200\n",
      "----------\n",
      "Página 16: 200\n",
      "----------\n",
      "Página 17: 200\n",
      "----------\n",
      "Página 18: 200\n",
      "----------\n",
      "Página 19: 200\n",
      "----------\n",
      "Página 20: 200\n",
      "----------\n",
      "Página 21: 200\n",
      "----------\n",
      "Página 22: 200\n",
      "----------\n",
      "Página 23: 200\n",
      "----------\n",
      "Página 24: 200\n",
      "----------\n",
      "Página 25: 200\n",
      "----------\n",
      "Página 26: 200\n",
      "----------\n",
      "Página 27: 200\n",
      "----------\n",
      "Página 28: 200\n",
      "----------\n",
      "Página 29: 200\n",
      "----------\n",
      "Página 30: 200\n",
      "----------\n",
      "Página 31: 200\n",
      "----------\n",
      "Página 32: 200\n",
      "----------\n",
      "Página 33: 200\n",
      "----------\n",
      "Página 34: 200\n",
      "----------\n",
      "Página 35: 200\n",
      "----------\n",
      "Página 36: 200\n",
      "----------\n",
      "Página 37: 200\n",
      "----------\n",
      "Página 38: 200\n",
      "----------\n",
      "Página 39: 200\n",
      "----------\n",
      "Página 40: 200\n",
      "----------\n",
      "Página 41: 200\n",
      "----------\n",
      "Página 42: 200\n",
      "----------\n",
      "Página 43: 200\n",
      "----------\n",
      "Página 44: 200\n",
      "----------\n",
      "Página 45: 200\n",
      "----------\n",
      "Página 46: 200\n",
      "----------\n",
      "Página 47: 200\n",
      "----------\n",
      "Página 48: 200\n",
      "----------\n",
      "Página 49: 200\n",
      "----------\n",
      "Página 50: 200\n",
      "----------\n",
      "Página 1: 200\n",
      "----------\n",
      "Página 2: 200\n",
      "----------\n",
      "Página 3: 200\n",
      "----------\n",
      "Página 4: 200\n",
      "----------\n",
      "Página 5: 200\n",
      "----------\n",
      "Página 6: 200\n",
      "----------\n",
      "Página 7: 200\n",
      "----------\n",
      "Página 8: 200\n",
      "----------\n",
      "Página 9: 200\n",
      "----------\n",
      "Página 10: 200\n",
      "----------\n",
      "Página 11: 200\n",
      "----------\n",
      "Página 12: 200\n",
      "----------\n",
      "Página 13: 200\n",
      "----------\n",
      "Página 14: 200\n",
      "----------\n",
      "Página 15: 200\n",
      "----------\n",
      "Página 16: 200\n",
      "----------\n",
      "Página 17: 200\n",
      "----------\n",
      "Página 18: 200\n",
      "----------\n",
      "Página 19: 200\n",
      "----------\n",
      "Página 20: 200\n",
      "----------\n",
      "Página 21: 200\n",
      "----------\n",
      "Página 22: 200\n",
      "----------\n",
      "Página 23: 200\n",
      "----------\n",
      "Página 24: 200\n",
      "----------\n",
      "Página 25: 200\n",
      "----------\n",
      "Página 26: 200\n",
      "----------\n",
      "Página 27: 200\n",
      "----------\n",
      "Página 28: 200\n",
      "----------\n",
      "Página 29: 200\n",
      "----------\n",
      "Página 30: 200\n",
      "----------\n",
      "Página 31: 200\n",
      "----------\n",
      "Página 32: 200\n",
      "----------\n",
      "Página 33: 200\n",
      "----------\n",
      "Página 34: 200\n",
      "----------\n",
      "Página 35: 200\n",
      "----------\n",
      "Página 36: 200\n",
      "----------\n",
      "Página 37: 200\n",
      "----------\n",
      "Página 38: 200\n",
      "----------\n",
      "Página 39: 200\n",
      "----------\n",
      "Página 40: 200\n",
      "----------\n",
      "Página 41: 200\n",
      "----------\n",
      "Página 42: 200\n",
      "----------\n",
      "Página 43: 200\n",
      "----------\n",
      "Página 44: 200\n",
      "----------\n",
      "Página 45: 200\n",
      "----------\n",
      "Página 46: 200\n",
      "----------\n",
      "Página 47: 200\n",
      "----------\n",
      "Página 48: 200\n",
      "----------\n",
      "Página 49: 200\n",
      "----------\n",
      "Página 50: 429\n",
      "----------\n"
     ]
    },
    {
     "ename": "KeyError",
     "evalue": "'results'",
     "output_type": "error",
     "traceback": [
      "\u001b[0;31m---------------------------------------------------------------------------\u001b[0m",
      "\u001b[0;31mKeyError\u001b[0m                                  Traceback (most recent call last)",
      "\u001b[0;32m/tmp/ipykernel_4027/1475705280.py\u001b[0m in \u001b[0;36m<module>\u001b[0;34m\u001b[0m\n\u001b[0;32m----> 1\u001b[0;31m \u001b[0mextraccion_automatica\u001b[0m\u001b[0;34m(\u001b[0m\u001b[0;36m2015\u001b[0m\u001b[0;34m,\u001b[0m \u001b[0;36m2016\u001b[0m\u001b[0;34m)\u001b[0m\u001b[0;34m\u001b[0m\u001b[0;34m\u001b[0m\u001b[0m\n\u001b[0m",
      "\u001b[0;32m/tmp/ipykernel_4027/2771129191.py\u001b[0m in \u001b[0;36mextraccion_automatica\u001b[0;34m(year_inicio, year_final)\u001b[0m\n\u001b[1;32m     23\u001b[0m \u001b[0;34m\u001b[0m\u001b[0m\n\u001b[1;32m     24\u001b[0m \u001b[0;34m\u001b[0m\u001b[0m\n\u001b[0;32m---> 25\u001b[0;31m             \u001b[0;32mfor\u001b[0m \u001b[0mpelicula\u001b[0m \u001b[0;32min\u001b[0m \u001b[0mpeliculas\u001b[0m\u001b[0;34m[\u001b[0m\u001b[0;34m'results'\u001b[0m\u001b[0;34m]\u001b[0m\u001b[0;34m:\u001b[0m\u001b[0;34m\u001b[0m\u001b[0;34m\u001b[0m\u001b[0m\n\u001b[0m\u001b[1;32m     26\u001b[0m                 \u001b[0mdiccionario_por_anios\u001b[0m\u001b[0;34m[\u001b[0m\u001b[0;34mf'{year}'\u001b[0m\u001b[0;34m]\u001b[0m\u001b[0;34m.\u001b[0m\u001b[0mappend\u001b[0m\u001b[0;34m(\u001b[0m\u001b[0mpelicula\u001b[0m\u001b[0;34m)\u001b[0m\u001b[0;34m\u001b[0m\u001b[0;34m\u001b[0m\u001b[0m\n\u001b[1;32m     27\u001b[0m \u001b[0;34m\u001b[0m\u001b[0m\n",
      "\u001b[0;31mKeyError\u001b[0m: 'results'"
     ]
    }
   ],
   "source": [
    "extraccion_automatica(2015, 2016)"
   ]
  },
  {
   "cell_type": "code",
   "execution_count": 50,
   "metadata": {},
   "outputs": [
    {
     "ename": "KeyError",
     "evalue": "'2015'",
     "output_type": "error",
     "traceback": [
      "\u001b[0;31m---------------------------------------------------------------------------\u001b[0m",
      "\u001b[0;31mKeyError\u001b[0m                                  Traceback (most recent call last)",
      "\u001b[0;32m/tmp/ipykernel_4027/1054743093.py\u001b[0m in \u001b[0;36m<module>\u001b[0;34m\u001b[0m\n\u001b[0;32m----> 1\u001b[0;31m \u001b[0mlen\u001b[0m\u001b[0;34m(\u001b[0m\u001b[0mdiccionario_drama\u001b[0m\u001b[0;34m[\u001b[0m\u001b[0;34m'2015'\u001b[0m\u001b[0;34m]\u001b[0m\u001b[0;34m)\u001b[0m\u001b[0;34m\u001b[0m\u001b[0;34m\u001b[0m\u001b[0m\n\u001b[0m",
      "\u001b[0;31mKeyError\u001b[0m: '2015'"
     ]
    }
   ],
   "source": [
    "len(diccionario_drama['2015'])"
   ]
  },
  {
   "cell_type": "code",
   "execution_count": 26,
   "metadata": {},
   "outputs": [],
   "source": [
    "drama_limpio = {}"
   ]
  },
  {
   "cell_type": "code",
   "execution_count": 33,
   "metadata": {},
   "outputs": [],
   "source": [
    "def criba_generos(diccionario_origen, diccionario_salida, year_primero, year_ultimo):\n",
    "\n",
    "    for year in range(year_primero, year_ultimo):\n",
    "        limpio_por_year = {f'{year}': []}\n",
    "\n",
    "        for i in diccionario_origen[f'{year}']:\n",
    "            if i['titleType']['id'] == 'movie':\n",
    "                limpio_por_year[f'{year}'].append(i)\n",
    "            elif i['titleType']['id'] == 'short':\n",
    "                limpio_por_year[f'{year}'].append(i)\n",
    "            else:\n",
    "                continue\n",
    "        \n",
    "        diccionario_salida.update(limpio_por_year)"
   ]
  },
  {
   "cell_type": "code",
   "execution_count": 42,
   "metadata": {},
   "outputs": [],
   "source": [
    "criba_generos(diccionario_drama, drama_limpio, 2000, 2015)"
   ]
  },
  {
   "cell_type": "code",
   "execution_count": 43,
   "metadata": {},
   "outputs": [
    {
     "data": {
      "text/plain": [
       "dict_keys(['2002', '2000', '2001', '2003', '2004', '2005', '2006', '2007', '2008', '2009', '2010', '2011', '2012', '2013', '2014'])"
      ]
     },
     "execution_count": 43,
     "metadata": {},
     "output_type": "execute_result"
    }
   ],
   "source": [
    "drama_limpio.keys()"
   ]
  },
  {
   "cell_type": "code",
   "execution_count": null,
   "metadata": {},
   "outputs": [],
   "source": []
  },
  {
   "cell_type": "code",
   "execution_count": 49,
   "metadata": {},
   "outputs": [],
   "source": [
    "import json\n",
    "with open('drama_2014.json', 'w') as fp:\n",
    "    json.dump(drama_limpio, fp)"
   ]
  },
  {
   "cell_type": "code",
   "execution_count": 45,
   "metadata": {},
   "outputs": [
    {
     "ename": "AttributeError",
     "evalue": "'dict' object has no attribute 'json'",
     "output_type": "error",
     "traceback": [
      "\u001b[0;31m---------------------------------------------------------------------------\u001b[0m",
      "\u001b[0;31mAttributeError\u001b[0m                            Traceback (most recent call last)",
      "\u001b[0;32m/tmp/ipykernel_4027/28483078.py\u001b[0m in \u001b[0;36m<module>\u001b[0;34m\u001b[0m\n\u001b[0;32m----> 1\u001b[0;31m \u001b[0mdrama_json\u001b[0m \u001b[0;34m=\u001b[0m \u001b[0mdrama_limpio\u001b[0m\u001b[0;34m.\u001b[0m\u001b[0mjson\u001b[0m\u001b[0;34m(\u001b[0m\u001b[0;34m)\u001b[0m\u001b[0;34m\u001b[0m\u001b[0;34m\u001b[0m\u001b[0m\n\u001b[0m",
      "\u001b[0;31mAttributeError\u001b[0m: 'dict' object has no attribute 'json'"
     ]
    }
   ],
   "source": [
    "drama_json = drama_limpio.json()"
   ]
  }
 ],
 "metadata": {
  "kernelspec": {
   "display_name": "base",
   "language": "python",
   "name": "python3"
  },
  "language_info": {
   "codemirror_mode": {
    "name": "ipython",
    "version": 3
   },
   "file_extension": ".py",
   "mimetype": "text/x-python",
   "name": "python",
   "nbconvert_exporter": "python",
   "pygments_lexer": "ipython3",
   "version": "3.11.8"
  }
 },
 "nbformat": 4,
 "nbformat_minor": 2
}
