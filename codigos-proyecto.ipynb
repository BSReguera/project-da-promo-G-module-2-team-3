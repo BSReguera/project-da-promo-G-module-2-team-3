{
 "cells": [
  {
   "cell_type": "code",
   "execution_count": null,
   "metadata": {},
   "outputs": [],
   "source": [
    "def llamar_api(inicio, final, genero, d_salida):\n",
    "\n",
    "\tfor year in range(inicio, (final+1)):\n",
    "\t\tpor_anio = {f'{year}': []}\n",
    "\n",
    "\t\tfor page in range(1,51):\n",
    "\t\t\turl = \"https://moviesdatabase.p.rapidapi.com/titles\"\n",
    "\n",
    "\t\t\tquerystring = {\"genre\":f\"{genero.capitalize()}\",\"year\":f\"{year}\",\"page\":f\"{page}\"}\n",
    "\n",
    "\t\t\theaders = {\n",
    "\t\t\t\t\"X-RapidAPI-Key\": \"902358e2e8msh3d16b2ef47d6b52p1fc5dajsnb0a5bd959614\",\n",
    "\t\t\t\t\"X-RapidAPI-Host\": \"moviesdatabase.p.rapidapi.com\"\n",
    "\t\t\t}\n",
    "\n",
    "\t\t\tresponse = requests.get(url, headers=headers, params=querystring)\n",
    "\t\t\tpeliculas = response.json()\n",
    "\t\t\tprint(f'Año: {year}. Página: {page}. Estatus: {response.status_code}')\n",
    "\n",
    "\t\t\tfor pelicula in peliculas['results']:\n",
    "\t\t\t\tpor_anio[f'{year}'].append(pelicula)\n",
    "\t\n",
    "\t\td_salida.update(por_anio)"
   ]
  },
  {
   "cell_type": "code",
   "execution_count": null,
   "metadata": {},
   "outputs": [],
   "source": [
    "def criba_generos(d_origen, d_salida, inicio, final):\n",
    "\n",
    "    for year in range(inicio, (final+1)):\n",
    "        limpio_por_year = {f'{year}': []}\n",
    "\n",
    "        for i in diccionario_origen[f'{year}']:\n",
    "            if i['titleType']['id'] == 'movie':\n",
    "                limpio_por_year[f'{year}'].append(i)\n",
    "            elif i['titleType']['id'] == 'short':\n",
    "                limpio_por_year[f'{year}'].append(i)\n",
    "            else:\n",
    "                continue\n",
    "        \n",
    "        d_salida.update(limpio_por_year)"
   ]
  },
  {
   "cell_type": "code",
   "execution_count": null,
   "metadata": {},
   "outputs": [],
   "source": [
    "def lista_tuplas(origen, inicio, final, genero):\n",
    "    lista_datos = []\n",
    "    for year in range(inicio, (final+1)):\n",
    "        \n",
    "        for i in origen[f'{year}']:\n",
    "            tupla_pelicula = []\n",
    "            try:\n",
    "                tupla_pelicula.append(i['id'])\n",
    "                tupla_pelicula.append(genero)\n",
    "                tupla_pelicula.append(i[\"titleText\"]['text'])\n",
    "                tupla_pelicula.append(i['titleType']['id'])\n",
    "                try:\n",
    "                    tupla_pelicula.append(i['releaseDate']['year'])\n",
    "                except:\n",
    "                    tupla_pelicula.append('desconocido')\n",
    "                try:\n",
    "                    tupla_pelicula.append(i['releaseDate']['month'])\n",
    "                except:\n",
    "                    tupla_pelicula.append('desconocido')\n",
    "                \n",
    "            except:\n",
    "                continue\n",
    "                \n",
    "        \n",
    "            lista_datos.append(tuple(tupla_pelicula))\n",
    "\n",
    "    for i in lista_datos:\n",
    "        try:\n",
    "            if i[3] < 2000:\n",
    "                lista_datos.remove(i)\n",
    "            \n",
    "            elif i[3] == 'desconocido':\n",
    "                lista_datos.remove(i)\n",
    "        except:\n",
    "            continue\n",
    "\n",
    "    return lista_datos"
   ]
  }
 ],
 "metadata": {
  "language_info": {
   "name": "python"
  }
 },
 "nbformat": 4,
 "nbformat_minor": 2
}
