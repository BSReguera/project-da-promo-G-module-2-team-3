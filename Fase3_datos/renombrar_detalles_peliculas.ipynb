{
 "cells": [
  {
   "cell_type": "code",
   "execution_count": 1,
   "metadata": {},
   "outputs": [],
   "source": [
    "import pandas as pd\n",
    "\n",
    "import numpy as np"
   ]
  },
  {
   "cell_type": "code",
   "execution_count": 2,
   "metadata": {},
   "outputs": [],
   "source": [
    "#cambios en los nombres de detalles_peliculas para adaptarlo a las tablas de SQL\n",
    "\n",
    "\n",
    "df = pd.read_csv('df_detalles_películas.csv')\n",
    "nuevo_nombre = {\"id_film\": \"id_pelicula\"}\n",
    "df.rename(columns=nuevo_nombre, inplace=True)\n",
    "\n",
    "#guardar DataFrame modificado\n",
    "df.to_csv('df_detalles_películas.csv', index=False)\n"
   ]
  },
  {
   "cell_type": "code",
   "execution_count": 8,
   "metadata": {},
   "outputs": [],
   "source": [
    "#cambios en los nombres de detalle_actores para adaptarlo a las tablas de SQL\n",
    "\n",
    "\n",
    "df = pd.read_csv(\"~/Desktop/ADALAB/modulo-2/project-da-promo-G-module-2-team-3/Fase3_datos/Archivos_definitivos/detalle_actores.csv\")\n",
    "nuevos_nombres = {\"Nombre\": \"Nombre_actor\", \"Anyo_nacimiento\": \"Año_nacimiento\", \"primaryProfession\": \"Profesion\", \"knownForTitles\": \"Conocido_por\"}\n",
    "df.rename(columns=nuevos_nombres, inplace=True)\n",
    "\n",
    "#guardar DataFrame modificado\n",
    "df.to_csv('detalle_actores.csv', index=False)"
   ]
  },
  {
   "cell_type": "code",
   "execution_count": 9,
   "metadata": {},
   "outputs": [],
   "source": [
    "#cambios en los nombres de Tabla_oscar para adaptarlo a las tablas de SQL\n",
    "\n",
    "\n",
    "df = pd.read_csv(\"~/Desktop/ADALAB/modulo-2/project-da-promo-G-module-2-team-3/Fase4_datos/Tabla_oscar.csv\")\n",
    "nuevo_nombre = {\"id_película\": \"id_pelicula\"}\n",
    "df.rename(columns=nuevo_nombre, inplace=True)\n",
    "\n",
    "#guardar DataFrame modificado\n",
    "df.to_csv('Tabla_oscar.csv', index=False)"
   ]
  }
 ],
 "metadata": {
  "kernelspec": {
   "display_name": "base",
   "language": "python",
   "name": "python3"
  },
  "language_info": {
   "codemirror_mode": {
    "name": "ipython",
    "version": 3
   },
   "file_extension": ".py",
   "mimetype": "text/x-python",
   "name": "python",
   "nbconvert_exporter": "python",
   "pygments_lexer": "ipython3",
   "version": "3.9.7"
  }
 },
 "nbformat": 4,
 "nbformat_minor": 2
}
