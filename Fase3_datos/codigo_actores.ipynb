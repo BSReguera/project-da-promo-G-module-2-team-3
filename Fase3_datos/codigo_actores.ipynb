{
 "cells": [
  {
   "cell_type": "code",
   "execution_count": 2,
   "metadata": {},
   "outputs": [
    {
     "name": "stderr",
     "output_type": "stream",
     "text": [
      "C:\\Users\\maria\\AppData\\Local\\Temp\\ipykernel_16424\\2340890130.py:1: DeprecationWarning: \n",
      "Pyarrow will become a required dependency of pandas in the next major release of pandas (pandas 3.0),\n",
      "(to allow more performant data types, such as the Arrow string type, and better interoperability with other libraries)\n",
      "but was not found to be installed on your system.\n",
      "If this would cause problems for you,\n",
      "please provide us feedback at https://github.com/pandas-dev/pandas/issues/54466\n",
      "        \n",
      "  import pandas as pd\n"
     ]
    }
   ],
   "source": [
    "import pandas as pd\n",
    "\n",
    "from bs4 import BeautifulSoup\n",
    "import requests\n",
    "import json\n",
    "import csv\n",
    "\n",
    "from selenium import webdriver  \n",
    "from webdriver_manager.chrome import ChromeDriverManager  \n",
    "from selenium.webdriver.common.keys import Keys  \n",
    "from selenium.webdriver.support.ui import Select \n",
    "\n",
    "from time import sleep\n",
    "\n",
    "pd.set_option('display.max_columns', None)\n",
    "\n",
    "from selenium.webdriver.common.by import By"
   ]
  },
  {
   "cell_type": "code",
   "execution_count": 15,
   "metadata": {},
   "outputs": [],
   "source": [
    "import random"
   ]
  },
  {
   "cell_type": "code",
   "execution_count": 3,
   "metadata": {},
   "outputs": [],
   "source": [
    "with open ('../Fase1_datos/lista_accion.json', 'r') as fichero:\n",
    "    lista_accion = json.load (fichero)"
   ]
  },
  {
   "cell_type": "code",
   "execution_count": 24,
   "metadata": {},
   "outputs": [],
   "source": [
    "busqueda_actores = lista_accion[0:5]"
   ]
  },
  {
   "cell_type": "code",
   "execution_count": 25,
   "metadata": {},
   "outputs": [],
   "source": [
    "lista_actores = []\n",
    "lista_errores = []"
   ]
  },
  {
   "cell_type": "code",
   "execution_count": 29,
   "metadata": {},
   "outputs": [],
   "source": [
    "\n",
    "\n",
    "#Paso1 \n",
    "\n",
    "driver = webdriver.Chrome()\n",
    "driver.get('https://www.google.com/')\n",
    "driver.maximize_window()\n",
    "sleep(random.randint(1,3))\n",
    "\n",
    "driver.find_element('css selector', '#W0wltc > div').click()\n",
    "\n",
    "sleep(random.randint(1,3))\n",
    "\n",
    "#Paso 2\n",
    "\n",
    "\n",
    "for actor in busqueda_actores:\n",
    "\n",
    "     #Escribe en el buscador\n",
    "\n",
    "    driver.find_element('css selector', '#APjFqb').send_keys(actor[2],' ',actor[3],' ','reparto',Keys.ENTER)\n",
    "    \n",
    "    try:\n",
    "       \n",
    "\n",
    "        sleep(random.randint(1,3))\n",
    "\n",
    "        #Despilega para ver más\n",
    "\n",
    "        driver.find_element(By.CLASS_NAME, \"S8ee5\").click()\n",
    "\n",
    "        sleep(random.randint(1,3))\n",
    "\n",
    "        #Copia los nombres de los actores\n",
    "\n",
    "        pelicula = driver.find_element('css selector',\"#rcnt > div.M8OgIe > div > div > div > div > div > div.uciohe\").text\n",
    "\n",
    "\n",
    "        #Hace split del texto encontrado\n",
    "        prueba = pelicula.split('\\n')\n",
    "\n",
    "        #incluye solo la parte del nombre del actor\n",
    "        resultado = prueba[0:-1:2]\n",
    "\n",
    "\n",
    "        lista_actores.append((actor[2], resultado))\n",
    "\n",
    "\n",
    "        driver.find_element('css selector', '#APjFqb').clear()   \n",
    "\n",
    "    except:\n",
    "        \n",
    "        lista_errores.append(actor[0]) \n",
    "        \n",
    "        driver.find_element('css selector', '#APjFqb').clear()\n",
    "\n",
    "        continue\n",
    "\n",
    "\n",
    "   \n",
    "\n",
    "\n",
    "\n",
    "\n",
    "\n"
   ]
  },
  {
   "cell_type": "code",
   "execution_count": 30,
   "metadata": {},
   "outputs": [
    {
     "data": {
      "text/plain": [
       "10"
      ]
     },
     "execution_count": 30,
     "metadata": {},
     "output_type": "execute_result"
    }
   ],
   "source": [
    "len(lista_actores)"
   ]
  },
  {
   "cell_type": "code",
   "execution_count": 31,
   "metadata": {},
   "outputs": [
    {
     "data": {
      "text/plain": [
       "[('For the Cause',\n",
       "  ['Julie Dray',\n",
       "   'Jeremy Banster',\n",
       "   'Sandia Tajdin',\n",
       "   'Fadwa Taleb',\n",
       "   'Aicha Mahmah',\n",
       "   'Abdelghani Sannak',\n",
       "   'Ramzi Maqdisi']),\n",
       " ('Gang',\n",
       "  ['Àlex Monner',\n",
       "   'Júlia Molins',\n",
       "   'Jaume Madaula Izquierdo',\n",
       "   'Laura Weissmahr']),\n",
       " ('The Incorporated',\n",
       "  ['Sean Teale',\n",
       "   'Eddie Ramos',\n",
       "   'Allison Miller',\n",
       "   'Denyse Tontz',\n",
       "   'Dennis Haysbert',\n",
       "   'Julia Ormond',\n",
       "   'Pedro Miguel Arce',\n",
       "   'Stephanie Belding']),\n",
       " ('For the Cause',\n",
       "  ['Julie Dray',\n",
       "   'Jeremy Banster',\n",
       "   'Sandia Tajdin',\n",
       "   'Fadwa Taleb',\n",
       "   'Aicha Mahmah',\n",
       "   'Abdelghani Sannak',\n",
       "   'Ramzi Maqdisi']),\n",
       " ('Gang',\n",
       "  ['Àlex Monner',\n",
       "   'Júlia Molins',\n",
       "   'Jaume Madaula Izquierdo',\n",
       "   'Laura Weissmahr']),\n",
       " ('The Incorporated',\n",
       "  ['Sean Teale',\n",
       "   'Eddie Ramos',\n",
       "   'Allison Miller',\n",
       "   'Denyse Tontz',\n",
       "   'Dennis Haysbert',\n",
       "   'Julia Ormond',\n",
       "   'Pedro Miguel Arce',\n",
       "   'Stephanie Belding']),\n",
       " ('For the Cause',\n",
       "  ['Julie Dray',\n",
       "   'Jeremy Banster',\n",
       "   'Sandia Tajdin',\n",
       "   'Fadwa Taleb',\n",
       "   'Aicha Mahmah',\n",
       "   'Abdelghani Sannak',\n",
       "   'Ramzi Maqdisi']),\n",
       " ('Gang',\n",
       "  ['Àlex Monner',\n",
       "   'Júlia Molins',\n",
       "   'Jaume Madaula Izquierdo',\n",
       "   'Laura Weissmahr']),\n",
       " ('The Incorporated',\n",
       "  ['Sean Teale',\n",
       "   'Eddie Ramos',\n",
       "   'Allison Miller',\n",
       "   'Denyse Tontz',\n",
       "   'Dennis Haysbert',\n",
       "   'Julia Ormond',\n",
       "   'Pedro Miguel Arce',\n",
       "   'Stephanie Belding']),\n",
       " ('Mission: Impossible II',\n",
       "  ['Tom Cruise',\n",
       "   'Thandie Newton',\n",
       "   'John Woo',\n",
       "   'Sean Ambrose',\n",
       "   'Hugh Stamp',\n",
       "   'Luther Stickell',\n",
       "   'John C. McCloy',\n",
       "   'Wallis',\n",
       "   'Ulrich',\n",
       "   'Dr. Gradsky',\n",
       "   'Billy Baird',\n",
       "   \"Sr. de L'Arena\",\n",
       "   'Dr. Nekhorvich',\n",
       "   'Guardia de seguridad',\n",
       "   'Flamenco Dancer #6',\n",
       "   'Piloto',\n",
       "   'Guardia de seguridad',\n",
       "   'Contador de McCloy',\n",
       "   'Michael',\n",
       "   'Químico',\n",
       "   'Copiloto',\n",
       "   'Guardiacárcel',\n",
       "   'Larrabee',\n",
       "   'Guardia de seguridad'])]"
      ]
     },
     "execution_count": 31,
     "metadata": {},
     "output_type": "execute_result"
    }
   ],
   "source": [
    "lista_actores"
   ]
  },
  {
   "cell_type": "code",
   "execution_count": 22,
   "metadata": {},
   "outputs": [
    {
     "data": {
      "text/plain": [
       "['tt0119273']"
      ]
     },
     "execution_count": 22,
     "metadata": {},
     "output_type": "execute_result"
    }
   ],
   "source": [
    "lista_errores"
   ]
  },
  {
   "cell_type": "code",
   "execution_count": 22,
   "metadata": {},
   "outputs": [
    {
     "data": {
      "text/plain": [
       "[('For the Cause',\n",
       "  ['Julie Dray',\n",
       "   'Jeremy Banster',\n",
       "   'Sandia Tajdin',\n",
       "   'Fadwa Taleb',\n",
       "   'Aicha Mahmah',\n",
       "   'Abdelghani Sannak',\n",
       "   'Ramzi Maqdisi'])]"
      ]
     },
     "execution_count": 22,
     "metadata": {},
     "output_type": "execute_result"
    }
   ],
   "source": [
    "lista_actores"
   ]
  },
  {
   "cell_type": "code",
   "execution_count": 87,
   "metadata": {},
   "outputs": [],
   "source": [
    "resultado_4 = [tuple(lista_actores)]"
   ]
  },
  {
   "cell_type": "code",
   "execution_count": 88,
   "metadata": {},
   "outputs": [
    {
     "data": {
      "text/plain": [
       "[('one day film reparto',\n",
       "  ['Anne Hathaway',\n",
       "   'Jim Sturgess',\n",
       "   'Romola Garai',\n",
       "   'Patricia Clarkson',\n",
       "   'Rafe Spall',\n",
       "   'Tom Mison',\n",
       "   'Amanda Fairbank-Hynes',\n",
       "   'Jodie Whittaker'])]"
      ]
     },
     "execution_count": 88,
     "metadata": {},
     "output_type": "execute_result"
    }
   ],
   "source": [
    "resultado_4"
   ]
  },
  {
   "cell_type": "code",
   "execution_count": 89,
   "metadata": {},
   "outputs": [
    {
     "data": {
      "text/html": [
       "<div>\n",
       "<style scoped>\n",
       "    .dataframe tbody tr th:only-of-type {\n",
       "        vertical-align: middle;\n",
       "    }\n",
       "\n",
       "    .dataframe tbody tr th {\n",
       "        vertical-align: top;\n",
       "    }\n",
       "\n",
       "    .dataframe thead th {\n",
       "        text-align: right;\n",
       "    }\n",
       "</style>\n",
       "<table border=\"1\" class=\"dataframe\">\n",
       "  <thead>\n",
       "    <tr style=\"text-align: right;\">\n",
       "      <th></th>\n",
       "      <th>0</th>\n",
       "      <th>1</th>\n",
       "    </tr>\n",
       "  </thead>\n",
       "  <tbody>\n",
       "    <tr>\n",
       "      <th>0</th>\n",
       "      <td>one day film reparto</td>\n",
       "      <td>[Anne Hathaway, Jim Sturgess, Romola Garai, Pa...</td>\n",
       "    </tr>\n",
       "  </tbody>\n",
       "</table>\n",
       "</div>"
      ],
      "text/plain": [
       "                      0                                                  1\n",
       "0  one day film reparto  [Anne Hathaway, Jim Sturgess, Romola Garai, Pa..."
      ]
     },
     "execution_count": 89,
     "metadata": {},
     "output_type": "execute_result"
    }
   ],
   "source": [
    "df = pd.DataFrame(resultado_4)\n",
    "df"
   ]
  },
  {
   "cell_type": "markdown",
   "metadata": {},
   "source": [
    "**PASO 1** Entrar en google\n",
    "**PASO 2** Escribir el título de una película\n",
    "**PASO 3**  Seleccionar actores"
   ]
  }
 ],
 "metadata": {
  "kernelspec": {
   "display_name": "Python 3",
   "language": "python",
   "name": "python3"
  },
  "language_info": {
   "codemirror_mode": {
    "name": "ipython",
    "version": 3
   },
   "file_extension": ".py",
   "mimetype": "text/x-python",
   "name": "python",
   "nbconvert_exporter": "python",
   "pygments_lexer": "ipython3",
   "version": "3.11.8"
  }
 },
 "nbformat": 4,
 "nbformat_minor": 2
}
