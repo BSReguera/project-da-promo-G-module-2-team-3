{
 "cells": [
  {
   "cell_type": "code",
   "execution_count": 2,
   "metadata": {},
   "outputs": [
    {
     "name": "stderr",
     "output_type": "stream",
     "text": [
      "C:\\Users\\maria\\AppData\\Local\\Temp\\ipykernel_16424\\2340890130.py:1: DeprecationWarning: \n",
      "Pyarrow will become a required dependency of pandas in the next major release of pandas (pandas 3.0),\n",
      "(to allow more performant data types, such as the Arrow string type, and better interoperability with other libraries)\n",
      "but was not found to be installed on your system.\n",
      "If this would cause problems for you,\n",
      "please provide us feedback at https://github.com/pandas-dev/pandas/issues/54466\n",
      "        \n",
      "  import pandas as pd\n"
     ]
    }
   ],
   "source": [
    "import pandas as pd\n",
    "\n",
    "from bs4 import BeautifulSoup\n",
    "import requests\n",
    "import json\n",
    "import csv\n",
    "\n",
    "from selenium import webdriver  \n",
    "from webdriver_manager.chrome import ChromeDriverManager  \n",
    "from selenium.webdriver.common.keys import Keys  \n",
    "from selenium.webdriver.support.ui import Select \n",
    "\n",
    "from time import sleep\n",
    "\n",
    "pd.set_option('display.max_columns', None)\n",
    "\n",
    "from selenium.webdriver.common.by import By"
   ]
  },
  {
   "cell_type": "code",
   "execution_count": 15,
   "metadata": {},
   "outputs": [],
   "source": [
    "import random"
   ]
  },
  {
   "cell_type": "code",
   "execution_count": 3,
   "metadata": {},
   "outputs": [],
   "source": [
    "with open ('../Fase1_datos/lista_accion.json', 'r') as fichero:\n",
    "    lista_accion = json.load (fichero)"
   ]
  },
  {
   "cell_type": "code",
   "execution_count": 42,
   "metadata": {},
   "outputs": [],
   "source": [
    "busqueda_actores = lista_accion[0:2]"
   ]
  },
  {
   "cell_type": "code",
   "execution_count": 43,
   "metadata": {},
   "outputs": [],
   "source": [
    "lista_tuplas = []\n",
    "lista_errores = []"
   ]
  },
  {
   "cell_type": "code",
   "execution_count": 44,
   "metadata": {},
   "outputs": [],
   "source": [
    "#Paso1 \n",
    "\n",
    "driver = webdriver.Chrome()\n",
    "driver.get('https://www.google.com/')\n",
    "driver.maximize_window()\n",
    "sleep(random.randint(1,3))\n",
    "\n",
    "driver.find_element('css selector', '#W0wltc > div').click()\n",
    "\n",
    "sleep(random.randint(1,3))\n",
    "\n",
    "#Paso 2\n",
    "\n",
    "for pelicula in busqueda_actores:\n",
    "     #Escribe en el buscador\n",
    "    driver.find_element('css selector', '#APjFqb').send_keys(pelicula[2],' ', pelicula[3],' ','reparto',Keys.ENTER)\n",
    "    try:\n",
    "        sleep(random.randint(1,3))\n",
    "        #Despilega para ver más\n",
    "        driver.find_element(By.CLASS_NAME, \"S8ee5\").click()\n",
    "        sleep(random.randint(1,3))\n",
    "        lista_actores = [pelicula[0],[]]\n",
    "        for actor in range(1,11):\n",
    "            info_actores = []\n",
    "            info_actores.append(driver.find_element('css selector', f'#rcnt > div.M8OgIe > div > div > div > div > div > div.uciohe > div:nth-child({actor})').text.split('\\n'))\n",
    "            for dato in info_actores:\n",
    "                lista_actores[1].append(dato[0])\n",
    "        lista_tuplas.append(tuple(lista_actores))\n",
    "        driver.find_element('css selector', '#APjFqb').clear()\n",
    "    except:\n",
    "        lista_errores.append(pelicula[0])\n",
    "        driver.find_element('css selector', '#APjFqb').clear()\n",
    "        continue\n"
   ]
  },
  {
   "cell_type": "code",
   "execution_count": 45,
   "metadata": {},
   "outputs": [
    {
     "data": {
      "text/plain": [
       "2"
      ]
     },
     "execution_count": 45,
     "metadata": {},
     "output_type": "execute_result"
    }
   ],
   "source": [
    "len(lista_actores)"
   ]
  },
  {
   "cell_type": "code",
   "execution_count": 46,
   "metadata": {},
   "outputs": [
    {
     "data": {
      "text/plain": [
       "[('tt0113092',\n",
       "  ['Julie Dray',\n",
       "   'Jeremy Banster',\n",
       "   'Sandia Tajdin',\n",
       "   'Fadwa Taleb',\n",
       "   'Aicha Mahmah',\n",
       "   'Abdelghani Sannak',\n",
       "   'Ramzi Maqdisi',\n",
       "   'Hassan Ben Badida',\n",
       "   '',\n",
       "   '']),\n",
       " ('tt0116391',\n",
       "  ['Àlex Monner',\n",
       "   'Igor Szpakowski',\n",
       "   'Júlia Molins',\n",
       "   'Carla Linares',\n",
       "   'Jaume Madaula Izquierdo',\n",
       "   'Aimar Vega',\n",
       "   'Laura Weissmahr',\n",
       "   'Louise Good',\n",
       "   'Sandra Pujol',\n",
       "   ''])]"
      ]
     },
     "execution_count": 46,
     "metadata": {},
     "output_type": "execute_result"
    }
   ],
   "source": [
    "lista_tuplas"
   ]
  }
 ],
 "metadata": {
  "kernelspec": {
   "display_name": "Python 3",
   "language": "python",
   "name": "python3"
  },
  "language_info": {
   "codemirror_mode": {
    "name": "ipython",
    "version": 3
   },
   "file_extension": ".py",
   "mimetype": "text/x-python",
   "name": "python",
   "nbconvert_exporter": "python",
   "pygments_lexer": "ipython3",
   "version": "3.11.8"
  }
 },
 "nbformat": 4,
 "nbformat_minor": 2
}
