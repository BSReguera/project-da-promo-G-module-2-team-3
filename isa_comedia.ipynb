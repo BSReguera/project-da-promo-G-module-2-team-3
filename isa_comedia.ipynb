{
 "cells": [
  {
   "cell_type": "code",
   "execution_count": 1,
   "metadata": {},
   "outputs": [],
   "source": [
    "import pandas as pd\n",
    "import requests\n",
    "import re\n",
    "import json\n",
    "pd.set_option(\"display.max_columns\",None)"
   ]
  },
  {
   "cell_type": "code",
   "execution_count": 2,
   "metadata": {},
   "outputs": [],
   "source": [
    "comedia = {}\n",
    "\n",
    "def extraccion_automatica(year_inicio, year_final, genero): \n",
    "\n",
    "    # bucle por años (inicio, final)\n",
    "    for year in range(year_inicio, (year_final + 1)):\n",
    "        diccionario_por_anios = {f'{year}': []}\n",
    "\n",
    "        # itera por páginas (1 a 50)\n",
    "        for page in range(1,51):    # recordad que hay que cambiar la api KEY\n",
    "            \n",
    "            url = \"https://moviesdatabase.p.rapidapi.com/titles\"\n",
    "            querystring = {\"genre\":f\"{genero}\",\"year\":f\"{year}\",\"page\":f\"{page}\"}\n",
    "            headers = {\n",
    "            \"X-RapidAPI-Key\": \"82ddf1960cmshf42c18caf0de235p1077e1jsnbf422467d3de\",\n",
    "            \"X-RapidAPI-Host\": \"moviesdatabase.p.rapidapi.com\"}\n",
    "            \n",
    "        \n",
    "            response = requests.get(url, headers=headers, params=querystring)\n",
    "            print(f'Página {page}: {response.status_code}')\n",
    "            peliculas = response.json()\n",
    "            \n",
    "            \n",
    "            for pelicula in peliculas['results']:\n",
    "                diccionario_por_anios[year].append(pelicula)\n",
    "\n",
    "                \n",
    "        # cambiar nombre aquí también\n",
    "        comedia.update(diccionario_por_anios)"
   ]
  },
  {
   "cell_type": "code",
   "execution_count": 14,
   "metadata": {},
   "outputs": [
    {
     "name": "stdout",
     "output_type": "stream",
     "text": [
      "Página 1: 200\n",
      "Página 2: 200\n",
      "Página 3: 200\n",
      "Página 4: 200\n",
      "Página 5: 200\n",
      "Página 6: 200\n",
      "Página 7: 200\n",
      "Página 8: 200\n",
      "Página 9: 200\n",
      "Página 10: 200\n",
      "Página 11: 200\n",
      "Página 12: 200\n",
      "Página 13: 200\n",
      "Página 14: 200\n",
      "Página 15: 200\n",
      "Página 16: 200\n",
      "Página 17: 200\n",
      "Página 18: 200\n",
      "Página 19: 200\n",
      "Página 20: 200\n",
      "Página 21: 200\n",
      "Página 22: 200\n",
      "Página 23: 200\n",
      "Página 24: 200\n",
      "Página 25: 200\n",
      "Página 26: 200\n",
      "Página 27: 200\n",
      "Página 28: 200\n",
      "Página 29: 200\n",
      "Página 30: 200\n",
      "Página 31: 200\n",
      "Página 32: 200\n",
      "Página 33: 200\n",
      "Página 34: 200\n",
      "Página 35: 200\n",
      "Página 36: 200\n",
      "Página 37: 200\n",
      "Página 38: 200\n",
      "Página 39: 200\n",
      "Página 40: 200\n",
      "Página 41: 200\n",
      "Página 42: 200\n",
      "Página 43: 200\n",
      "Página 44: 200\n",
      "Página 45: 200\n",
      "Página 46: 200\n",
      "Página 47: 200\n",
      "Página 48: 200\n",
      "Página 49: 200\n",
      "Página 50: 200\n",
      "Página 1: 200\n",
      "Página 2: 200\n",
      "Página 3: 200\n",
      "Página 4: 200\n",
      "Página 5: 200\n",
      "Página 6: 200\n",
      "Página 7: 200\n",
      "Página 8: 200\n",
      "Página 9: 200\n",
      "Página 10: 200\n",
      "Página 11: 200\n",
      "Página 12: 200\n",
      "Página 13: 200\n",
      "Página 14: 200\n",
      "Página 15: 200\n",
      "Página 16: 200\n",
      "Página 17: 200\n",
      "Página 18: 200\n",
      "Página 19: 200\n",
      "Página 20: 200\n",
      "Página 21: 200\n",
      "Página 22: 200\n",
      "Página 23: 200\n",
      "Página 24: 200\n",
      "Página 25: 200\n",
      "Página 26: 200\n",
      "Página 27: 200\n",
      "Página 28: 200\n",
      "Página 29: 429\n"
     ]
    },
    {
     "ename": "KeyError",
     "evalue": "'results'",
     "output_type": "error",
     "traceback": [
      "\u001b[0;31m---------------------------------------------------------------------------\u001b[0m",
      "\u001b[0;31mKeyError\u001b[0m                                  Traceback (most recent call last)",
      "\u001b[0;32m/tmp/ipykernel_424/1928042167.py\u001b[0m in \u001b[0;36m<module>\u001b[0;34m\u001b[0m\n\u001b[0;32m----> 1\u001b[0;31m \u001b[0mextraccion_automatica\u001b[0m\u001b[0;34m(\u001b[0m\u001b[0;36m2021\u001b[0m\u001b[0;34m,\u001b[0m \u001b[0;36m2023\u001b[0m\u001b[0;34m,\u001b[0m \u001b[0;34m'Comedy'\u001b[0m\u001b[0;34m)\u001b[0m\u001b[0;34m\u001b[0m\u001b[0;34m\u001b[0m\u001b[0m\n\u001b[0m",
      "\u001b[0;32m/tmp/ipykernel_424/855859067.py\u001b[0m in \u001b[0;36mextraccion_automatica\u001b[0;34m(year_inicio, year_final, genero)\u001b[0m\n\u001b[1;32m     22\u001b[0m \u001b[0;34m\u001b[0m\u001b[0m\n\u001b[1;32m     23\u001b[0m \u001b[0;34m\u001b[0m\u001b[0m\n\u001b[0;32m---> 24\u001b[0;31m             \u001b[0;32mfor\u001b[0m \u001b[0mpelicula\u001b[0m \u001b[0;32min\u001b[0m \u001b[0mpeliculas\u001b[0m\u001b[0;34m[\u001b[0m\u001b[0;34m'results'\u001b[0m\u001b[0;34m]\u001b[0m\u001b[0;34m:\u001b[0m\u001b[0;34m\u001b[0m\u001b[0;34m\u001b[0m\u001b[0m\n\u001b[0m\u001b[1;32m     25\u001b[0m                 \u001b[0mdiccionario_por_anios\u001b[0m\u001b[0;34m[\u001b[0m\u001b[0myear\u001b[0m\u001b[0;34m]\u001b[0m\u001b[0;34m.\u001b[0m\u001b[0mappend\u001b[0m\u001b[0;34m(\u001b[0m\u001b[0mpelicula\u001b[0m\u001b[0;34m)\u001b[0m\u001b[0;34m\u001b[0m\u001b[0;34m\u001b[0m\u001b[0m\n\u001b[1;32m     26\u001b[0m \u001b[0;34m\u001b[0m\u001b[0m\n",
      "\u001b[0;31mKeyError\u001b[0m: 'results'"
     ]
    }
   ],
   "source": [
    "extraccion_automatica(2021, 2023, 'Comedy')"
   ]
  },
  {
   "cell_type": "code",
   "execution_count": 23,
   "metadata": {},
   "outputs": [
    {
     "data": {
      "text/plain": [
       "500"
      ]
     },
     "execution_count": 23,
     "metadata": {},
     "output_type": "execute_result"
    }
   ],
   "source": [
    "len(comedia[2021])"
   ]
  }
 ],
 "metadata": {
  "kernelspec": {
   "display_name": "base",
   "language": "python",
   "name": "python3"
  },
  "language_info": {
   "codemirror_mode": {
    "name": "ipython",
    "version": 3
   },
   "file_extension": ".py",
   "mimetype": "text/x-python",
   "name": "python",
   "nbconvert_exporter": "python",
   "pygments_lexer": "ipython3",
   "version": "3.9.7"
  }
 },
 "nbformat": 4,
 "nbformat_minor": 2
}
