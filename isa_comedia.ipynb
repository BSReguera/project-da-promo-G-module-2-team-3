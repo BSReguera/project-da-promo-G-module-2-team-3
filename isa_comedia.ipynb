{
 "cells": [
  {
   "cell_type": "code",
   "execution_count": 2,
   "metadata": {},
   "outputs": [],
   "source": [
    "import pandas as pd\n",
    "import requests\n",
    "import re\n",
    "import json\n",
    "pd.set_option(\"display.max_columns\",None)"
   ]
  },
  {
   "cell_type": "code",
   "execution_count": 20,
   "metadata": {},
   "outputs": [],
   "source": [
    "lista_comedia = []"
   ]
  },
  {
   "cell_type": "code",
   "execution_count": 21,
   "metadata": {},
   "outputs": [],
   "source": [
    "def extraccion_automatica(year_inicio, year_final): \n",
    "\n",
    "    # bucle por años (inicio, final)\n",
    "    for year in range(year_inicio, (year_final + 1)):\n",
    "        tupla_por_anios = []\n",
    "\n",
    "        # itera por páginas (1 a 50)\n",
    "        for page in range(1,51):    # recordad que hay que cambiar la api KEY\n",
    "            \n",
    "            url = \"https://moviesdatabase.p.rapidapi.com/titles\"\n",
    "            querystring = {\"genre\":\"Comedy\",\"year\":f\"{year}\",\"page\":f\"{page}\"}\n",
    "            headers = {\n",
    "            \"X-RapidAPI-Key\": \"82ddf1960cmshf42c18caf0de235p1077e1jsnbf422467d3de\",\n",
    "            \"X-RapidAPI-Host\": \"moviesdatabase.p.rapidapi.com\"}\n",
    "            \n",
    "        \n",
    "            response = requests.get(url, headers=headers, params=querystring)\n",
    "            print(f'Página {page}: {response.status_code}')\n",
    "            peliculas = response.json()\n",
    "            \n",
    "            \n",
    "            for pelicula in peliculas['results']:\n",
    "                \n",
    "                tupla_por_anios.append(pelicula)\n",
    "\n",
    "                \n",
    "        # cambiar nombre aquí también\n",
    "        lista_comedia.append(tuple(tupla_por_anios))"
   ]
  }
 ],
 "metadata": {
  "kernelspec": {
   "display_name": "base",
   "language": "python",
   "name": "python3"
  },
  "language_info": {
   "codemirror_mode": {
    "name": "ipython",
    "version": 3
   },
   "file_extension": ".py",
   "mimetype": "text/x-python",
   "name": "python",
   "nbconvert_exporter": "python",
   "pygments_lexer": "ipython3",
   "version": "3.9.0"
  }
 },
 "nbformat": 4,
 "nbformat_minor": 2
}
