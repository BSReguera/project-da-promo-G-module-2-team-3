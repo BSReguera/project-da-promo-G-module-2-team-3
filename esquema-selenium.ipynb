{
 "cells": [
  {
   "cell_type": "code",
   "execution_count": 1,
   "metadata": {},
   "outputs": [
    {
     "name": "stderr",
     "output_type": "stream",
     "text": [
      "C:\\Users\\Isabel\\AppData\\Local\\Temp\\ipykernel_776\\3703452961.py:1: DeprecationWarning: \n",
      "Pyarrow will become a required dependency of pandas in the next major release of pandas (pandas 3.0),\n",
      "(to allow more performant data types, such as the Arrow string type, and better interoperability with other libraries)\n",
      "but was not found to be installed on your system.\n",
      "If this would cause problems for you,\n",
      "please provide us feedback at https://github.com/pandas-dev/pandas/issues/54466\n",
      "        \n",
      "  import pandas as pd\n"
     ]
    }
   ],
   "source": [
    "import pandas as pd\n",
    "\n",
    "from bs4 import BeautifulSoup\n",
    "import requests\n",
    "\n",
    "from selenium import webdriver  \n",
    "from webdriver_manager.chrome import ChromeDriverManager  \n",
    "from selenium.webdriver.common.keys import Keys  \n",
    "from selenium.webdriver.support.ui import Select \n",
    "\n",
    "from time import sleep\n",
    "\n",
    "pd.set_option('display.max_columns', None)"
   ]
  },
  {
   "cell_type": "code",
   "execution_count": 2,
   "metadata": {},
   "outputs": [],
   "source": [
    "driver = webdriver.Chrome()\n",
    "driver.get('https://www.imdb.com/')\n",
    "driver.maximize_window()\n",
    "sleep(3)\n",
    "\n",
    "# rechazar cookies\n",
    "driver.find_element('css selector', '#__next > div > div > div.sc-jrcTuL.bPmWiM > div > button.icb-btn.sc-bcXHqe.sc-hLBbgP.sc-ftTHYK.dcvrLS.dufgkr.ecppKW').click()\n",
    "sleep(2)\n",
    "\n",
    "lista_tuplas = []\n",
    "\n",
    "# for ID in titulos:\n",
    "busqueda = input('Un ID')\n",
    "driver.find_element('css selector', '#suggestion-search').send_keys(busqueda, Keys.ENTER)\n",
    "sleep(3)\n",
    "\n",
    "# ir a la ficha técnica\n",
    "driver.find_element('css selector', '#__next > main > div > section.ipc-page-background.ipc-page-background--base.sc-304f99f6-0.fSJiHR > section > div:nth-child(4) > section > section > div.sc-66ec1b32-0.kbbKze > div > div:nth-child(2) > ul > li:nth-child(1) > a').click()\n",
    "sleep(3)\n",
    "\n",
    "# vamos buscando los elementos\n",
    "\n",
    "tupla_datos = []\n",
    "\n",
    "argumento = driver.find_element('css selector', '#__next > main > div > section.ipc-page-background.ipc-page-background--base.sc-304f99f6-0.fSJiHR > section > div:nth-child(4) > section > section > div.sc-491663c0-4.gEsAEH > div.sc-491663c0-6.eQRCDK > div.sc-491663c0-10.emoxHI > section > p > span.sc-466bb6c-2.chnFO').text\n",
    "tupla_datos.append(argumento)\n",
    "\n",
    "# como en el banner puede estar AÑO - RATING - DURACION o AÑO - DURACION, iteramos para quedarnos con el segundo o tercer elemento\n",
    "for dato in range(2,4):\n",
    "    try:\n",
    "        duracion = driver.find_element('css selector', f'#__next > main > div > section.ipc-page-background.ipc-page-background--base.sc-304f99f6-0.fSJiHR > section > div:nth-child(4) > section > section > div.sc-491663c0-3.bdjVSf > div.sc-69e49b85-0.jqlHBQ > ul > li:nth-child({dato})').text\n",
    "    except:\n",
    "        continue\n",
    "    tupla_datos.append(duracion)\n",
    "\n",
    "nota = driver.find_element('css selector', '#__next > main > div > section.ipc-page-background.ipc-page-background--base.sc-304f99f6-0.fSJiHR > section > div:nth-child(4) > section > section > div.sc-491663c0-3.bdjVSf > div.sc-3a4309f8-0.bjXIAP.sc-69e49b85-1.llNLpA > div > div:nth-child(1) > a > span > div > div.sc-bde20123-0.dLwiNw > div.sc-bde20123-2.cdQqzc > span.sc-bde20123-1.cMEQkK').text\n",
    "tupla_datos.append(f'{nota}/10')\n",
    "\n",
    "director = driver.find_element('css selector', '#fullcredits_content > table:nth-child(2) > tbody > tr > td.name > a').text\n",
    "tupla_datos.append(director)\n",
    "\n",
    "# iteramos para recoger en la lista guionistas a todos los que haya\n",
    "for guionista in range(1,6):\n",
    "    guionistas = []\n",
    "    try:\n",
    "        guion = driver.find_element('css selector', f'#__next > main > div > section.ipc-page-background.ipc-page-background--base.sc-304f99f6-0.fSJiHR > section > div:nth-child(4) > section > section > div.sc-491663c0-4.gEsAEH > div.sc-491663c0-6.eQRCDK > div.sc-491663c0-10.emoxHI > section > div.sc-69e49b85-3.dIOekc > div > ul > li:nth-child({guionista}) > div > ul > li > a').text\n",
    "        guionistas.append(guion)\n",
    "    except:\n",
    "        continue\n",
    "    tupla_datos.append(guionistas)\n",
    "\n",
    " \n",
    "\n",
    "\n",
    "\n",
    "lista_tuplas.append(tuple(tupla_datos))\n",
    "\n",
    "\n"
   ]
  }
 ],
 "metadata": {
  "kernelspec": {
   "display_name": "Python 3",
   "language": "python",
   "name": "python3"
  },
  "language_info": {
   "codemirror_mode": {
    "name": "ipython",
    "version": 3
   },
   "file_extension": ".py",
   "mimetype": "text/x-python",
   "name": "python",
   "nbconvert_exporter": "python",
   "pygments_lexer": "ipython3",
   "version": "3.11.0"
  }
 },
 "nbformat": 4,
 "nbformat_minor": 2
}
