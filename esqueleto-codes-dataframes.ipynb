{
 "cells": [
  {
   "cell_type": "code",
   "execution_count": 1,
   "metadata": {},
   "outputs": [],
   "source": [
    "import pandas as pd\n",
    "import requests\n",
    "import re\n",
    "import json\n",
    "pd.set_option(\"display.max_columns\",None)"
   ]
  },
  {
   "cell_type": "code",
   "execution_count": null,
   "metadata": {},
   "outputs": [],
   "source": [
    "# función para extraer por año\n",
    "\n",
    "pelis_2000 = []\n",
    "\n",
    "def drama_por_anio(year): \n",
    "        \n",
    "    for page in range(1,51):    # recordad que hay que cambiar la api KEY\n",
    "        url = \"https://moviesdatabase.p.rapidapi.com/titles\"\n",
    "        querystring = {\"genre\":\"Drama\",\"year\":f\"{year}\",\"page\":f\"{page}\"}\n",
    "        headers = {\n",
    "        \"X-RapidAPI-Key\": \"82ddf1960cmshf42c18caf0de235p1077e1jsnbf422467d3de\",\n",
    "        \"X-RapidAPI-Host\": \"moviesdatabase.p.rapidapi.com\"}\n",
    "        \n",
    "       \n",
    "        response = requests.get(url, headers=headers, params=querystring)\n",
    "        print(f'La respuesta de la página {page} ha sido {response.status_code}')\n",
    "        peliculas = response.json()\n",
    "        \n",
    "        \n",
    "        for pelicula in peliculas['results']:\n",
    "            pelis_2000.append(pelicula)"
   ]
  },
  {
   "cell_type": "code",
   "execution_count": 1,
   "metadata": {},
   "outputs": [],
   "source": [
    "# cambiar nombre según género extraído\n",
    "genero = {}\n",
    "\n",
    "def extraccion_automatica(year_inicio, year_final, genero): \n",
    "\n",
    "    # bucle por años (inicio, final)\n",
    "    for year in range(year_inicio, (year_final + 1)):\n",
    "        diccionario_por_anios = {year: []}\n",
    "\n",
    "        # itera por páginas (1 a 50)\n",
    "        for page in range(1,51):    # recordad que hay que cambiar la api KEY\n",
    "            \n",
    "            url = \"https://moviesdatabase.p.rapidapi.com/titles\"\n",
    "            querystring = {\"genre\":f\"{genero}\",\"year\":f\"{year}\",\"page\":f\"{page}\"}\n",
    "            headers = {\n",
    "            \"X-RapidAPI-Key\": \"82ddf1960cmshf42c18caf0de235p1077e1jsnbf422467d3de\",\n",
    "            \"X-RapidAPI-Host\": \"moviesdatabase.p.rapidapi.com\"}\n",
    "            \n",
    "        \n",
    "            response = requests.get(url, headers=headers, params=querystring)\n",
    "            print(f'Página {page}: {response.status_code}')\n",
    "            peliculas = response.json()\n",
    "            \n",
    "            \n",
    "            for pelicula in peliculas['results']:\n",
    "                diccionario_por_anios[year].append(pelicula)\n",
    "\n",
    "                \n",
    "        # cambiar nombre aquí también\n",
    "        genero.update(diccionario_por_anios)\n",
    "\n",
    "    \n",
    "\n",
    "    "
   ]
  },
  {
   "cell_type": "code",
   "execution_count": 1,
   "metadata": {},
   "outputs": [],
   "source": [
    "def criba_tipos(origen, salida, year_primero, year_ultimo):\n",
    "\n",
    "    for year in range(year_primero, year_ultimo):\n",
    "        limpio_por_year = {f'{year}': []}\n",
    "\n",
    "        for i in origen[f'{year}']:\n",
    "            if i['titleType']['id'] == 'movie':\n",
    "                limpio_por_year[f'{year}'].append(i)\n",
    "            elif i['titleType']['id'] == 'short':\n",
    "                limpio_por_year[f'{year}'].append(i)\n",
    "            else:\n",
    "                continue\n",
    "        \n",
    "        salida.update(limpio_por_year)"
   ]
  },
  {
   "cell_type": "code",
   "execution_count": 2,
   "metadata": {},
   "outputs": [],
   "source": [
    "def lista_tuplas(origen, inicio, final):\n",
    "    lista_datos = []\n",
    "    for year in range(inicio, final):\n",
    "        \n",
    "        for i in origen[f'{year}']:\n",
    "            tupla_pelicula = []\n",
    "            try:\n",
    "                tupla_pelicula.append(i['id'])\n",
    "                tupla_pelicula.append(i[\"titleText\"]['text'])\n",
    "                tupla_pelicula.append(i['titleType']['id'])\n",
    "                tupla_pelicula.append(i['releaseDate']['year'])\n",
    "                tupla_pelicula.append(i['releaseDate']['month'])\n",
    "                \n",
    "            except:\n",
    "                tupla_pelicula.append('X')\n",
    "                \n",
    "        \n",
    "            lista_datos.append(tuple(tupla_pelicula))\n",
    "\n",
    "    for i in lista_datos:\n",
    "        if len(i) != 3:\n",
    "            lista_datos.remove(i)\n",
    "    return lista_datos\n"
   ]
  },
  {
   "cell_type": "code",
   "execution_count": null,
   "metadata": {},
   "outputs": [],
   "source": [
    "lista_datos = lista_tuplas(origen, inicio, final)"
   ]
  },
  {
   "cell_type": "code",
   "execution_count": null,
   "metadata": {},
   "outputs": [],
   "source": [
    "# cambiad el género\n",
    "import json\n",
    "with open('nombre_archivo.json', 'w') as fp:\n",
    "    json.dump(vuestro_diccionario_limpio, fp)"
   ]
  },
  {
   "cell_type": "code",
   "execution_count": 2,
   "metadata": {},
   "outputs": [],
   "source": [
    "import json\n",
    "with open('drama_2014.json', 'r') as fichero:\n",
    "# nombre fichero jason + r (de read)\n",
    "# si está en una carpeta dentro de la carpeta en la que estamos: 'carpeta/personal.json', 'r'\n",
    "# si está en una carpeta fuera: '../personal.json', 'r'\n",
    "# '../carpeta1/carpeta2/personal.json' --- esto puede complicarse todo lo que quieras\n",
    "    prueba = json.load(fichero)"
   ]
  },
  {
   "cell_type": "code",
   "execution_count": null,
   "metadata": {},
   "outputs": [],
   "source": [
    "# ejemplo cesar clase\n",
    "\n",
    "resultados = []\n",
    "for fila in filas:\n",
    "    div_fila = fila.text.split(\"\\n\")[1:-1]\n",
    "    \n",
    "    for ind, celda in enumerate(div_fila):\n",
    "        try:\n",
    "            div_fila[ind]= int(div_fila[ind])\n",
    "        except:\n",
    "            div_fila[ind] = div_fila[ind].replace('\\xa0',\"\").strip()\n",
    "    resultados.append(tuple(div_fila))"
   ]
  }
 ],
 "metadata": {
  "kernelspec": {
   "display_name": "base",
   "language": "python",
   "name": "python3"
  },
  "language_info": {
   "codemirror_mode": {
    "name": "ipython",
    "version": 3
   },
   "file_extension": ".py",
   "mimetype": "text/x-python",
   "name": "python",
   "nbconvert_exporter": "python",
   "pygments_lexer": "ipython3",
   "version": "3.9.7"
  }
 },
 "nbformat": 4,
 "nbformat_minor": 2
}
