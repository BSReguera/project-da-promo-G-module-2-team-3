{
 "cells": [
  {
   "cell_type": "markdown",
   "metadata": {},
   "source": [
    "## CÓDIGO ROTTEN"
   ]
  },
  {
   "cell_type": "code",
   "execution_count": null,
   "metadata": {},
   "outputs": [],
   "source": [
    "busqueda = #lista de tuplas"
   ]
  },
  {
   "cell_type": "code",
   "execution_count": null,
   "metadata": {},
   "outputs": [],
   "source": [
    "lista_notas = []"
   ]
  },
  {
   "cell_type": "code",
   "execution_count": null,
   "metadata": {},
   "outputs": [],
   "source": [
    "driver = webdriver.Chrome()\n",
    "driver.get('https://www.google.com/')\n",
    "driver.maximize_window()\n",
    "sleep(2)\n",
    "\n",
    "driver.find_element('css selector', '#W0wltc > div').click()\n",
    "\n",
    "\n",
    "for pelicula in busqueda:\n",
    "    notas = [f'{pelicula[0]}',]\n",
    "    driver.find_element('css selector', '#APjFqb').send_keys(pelicula[1],' ', pelicula[2], 'nota rotten tomatoes', Keys.ENTER)\n",
    "    \n",
    "    try:\n",
    "\n",
    "        nota = driver.find_element('css selector', '#rso > div:nth-child(1) > div > div > div:nth-child(3) > div > span:nth-child(2)').text\n",
    "        notas.append(nota)\n",
    "\n",
    "        driver.find_element('css selector', '#APjFqb').clear()\n",
    "    \n",
    "    except:\n",
    "        errores.append(pelicula)\n",
    "\n",
    "\n",
    "    lista_notas.append(tuple(notas))"
   ]
  },
  {
   "cell_type": "code",
   "execution_count": null,
   "metadata": {},
   "outputs": [],
   "source": [
    "df = lista_notas\n",
    "df.to_csv('NotasRotten.csv', index=False)"
   ]
  }
 ],
 "metadata": {
  "language_info": {
   "name": "python"
  }
 },
 "nbformat": 4,
 "nbformat_minor": 2
}
